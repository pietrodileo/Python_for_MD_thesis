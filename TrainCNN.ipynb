{
  "cells": [
    {
      "cell_type": "markdown",
      "metadata": {
        "id": "view-in-github",
        "colab_type": "text"
      },
      "source": [
        "<a href=\"https://colab.research.google.com/github/pietrodileo/Python_for_MD_thesis/blob/main/TrainCNN.ipynb\" target=\"_parent\"><img src=\"https://colab.research.google.com/assets/colab-badge.svg\" alt=\"Open In Colab\"/></a>"
      ]
    },
    {
      "cell_type": "markdown",
      "metadata": {
        "id": "5D_LUG6ajBr6"
      },
      "source": [
        "# 1. 🚀 Install, Import, Login"
      ]
    },
    {
      "cell_type": "markdown",
      "metadata": {
        "id": "k4dCH_UCpzF6"
      },
      "source": [
        "Setup for W&B Tool"
      ]
    },
    {
      "cell_type": "code",
      "execution_count": 651,
      "metadata": {
        "id": "EF0A0Yd4dQw6"
      },
      "outputs": [],
      "source": [
        "# Install a pip package in the current Jupyter kernel\n",
        "# import sys\n",
        "# !{sys.executable} -m pip install wandb\n",
        "# import wandb\n",
        "# from wandb.keras import WandbCallback\n",
        "## 075552994aad288a1162d4ab06f96040112fd54c\n",
        "# wandb.login()\n",
        "\n",
        "# wandb.init()\n",
        "# config = wandb.config"
      ]
    },
    {
      "cell_type": "markdown",
      "metadata": {
        "id": "QICVulkAp2WH"
      },
      "source": [
        "Import Libraries"
      ]
    },
    {
      "cell_type": "code",
      "execution_count": 652,
      "metadata": {
        "id": "Rzb8hEseZL0d"
      },
      "outputs": [],
      "source": [
        "import numpy as np\n",
        "import pandas as pd\n",
        "import tensorflow as tf\n",
        "import matplotlib.pyplot as plt\n",
        "import os\n",
        "import wave\n",
        "import pylab\n",
        "import sys\n",
        "from pathlib import Path\n",
        "from scipy import signal\n",
        "from scipy.io import wavfile\n",
        "from sklearn.metrics import confusion_matrix\n",
        "from keras.utils.vis_utils import plot_model\n",
        "import itertools\n",
        "import time\n",
        "import shutil\n",
        "import plotly.express as px\n",
        "import plotly.graph_objects as go\n",
        "from plotly.subplots import make_subplots"
      ]
    },
    {
      "cell_type": "code",
      "source": [
        "!pip install aspose-words\n",
        "import aspose.words as aw"
      ],
      "metadata": {
        "colab": {
          "base_uri": "https://localhost:8080/"
        },
        "id": "Pd-3ktNDEWpn",
        "outputId": "233b6c3a-106e-45ca-98d0-dc2bce2d2386"
      },
      "execution_count": 653,
      "outputs": [
        {
          "output_type": "stream",
          "name": "stdout",
          "text": [
            "Looking in indexes: https://pypi.org/simple, https://us-python.pkg.dev/colab-wheels/public/simple/\n",
            "Requirement already satisfied: aspose-words in /usr/local/lib/python3.7/dist-packages (22.10.0)\n"
          ]
        }
      ]
    },
    {
      "cell_type": "code",
      "source": [
        "# To save static image with plotly\n",
        "%%capture\n",
        "!pip install kaleido\n",
        "!pip install plotly>=4.0.0\n",
        "!wget https://github.com/plotly/orca/releases/download/v1.2.1/orca-1.2.1-x86_64.AppImage -O /usr/local/bin/orca\n",
        "!chmod +x /usr/local/bin/orca\n",
        "!apt-get install xvfb libgtk2.0-0 libgconf-2-4"
      ],
      "metadata": {
        "id": "TsQWNv1D9eeK"
      },
      "execution_count": 654,
      "outputs": []
    },
    {
      "cell_type": "markdown",
      "metadata": {
        "id": "Lh3M28Qsp4qf"
      },
      "source": [
        "Calculate execution time"
      ]
    },
    {
      "cell_type": "code",
      "execution_count": 655,
      "metadata": {
        "id": "5wRUqDOupwVY"
      },
      "outputs": [],
      "source": [
        "start_time = time.time()"
      ]
    },
    {
      "cell_type": "markdown",
      "metadata": {
        "id": "0-Kj8LW0Pll-"
      },
      "source": [
        "## 2. Preparing the data\n",
        "We can now load the spectrograms into memory. We use the image_dataset_from_directory utility to generate the datasets, and we use Keras image preprocessing layers for image standardization and data augmentation. The validation set is what will ultimately be our benchmark when becomes to performance and accuracy of our classifier. The batch size is set fairly low for now (32) for all images to fit in memory. The seed is for reproducibility."
      ]
    },
    {
      "cell_type": "code",
      "execution_count": 656,
      "metadata": {
        "id": "oM3R5Fh0PIbK"
      },
      "outputs": [],
      "source": [
        "def createTrain_and_Test_Dataset(directory,BATCH_SIZE,VAL_SPLIT,IMAGE_HEIGHT, IMAGE_WIDTH, MODE):\n",
        "  # Make a dataset containing the training spectrograms\n",
        "  train_dataset = tf.keras.preprocessing.image_dataset_from_directory(\n",
        "                                            directory,\n",
        "                                            labels='inferred',\n",
        "                                            batch_size=BATCH_SIZE,\n",
        "                                            validation_split=VAL_SPLIT,\n",
        "                                            subset='training',\n",
        "                                            shuffle=True,\n",
        "                                            color_mode= MODE,\n",
        "                                            image_size=(IMAGE_HEIGHT, IMAGE_WIDTH),\n",
        "                                            seed=0)\n",
        "\n",
        "  # Make a dataset containing the validation spectrogram\n",
        "  valid_dataset = tf.keras.preprocessing.image_dataset_from_directory(\n",
        "                                            directory,\n",
        "                                            labels='inferred',\n",
        "                                            batch_size=BATCH_SIZE,\n",
        "                                            validation_split=VAL_SPLIT,\n",
        "                                            subset='validation',\n",
        "                                            shuffle=True,\n",
        "                                            color_mode= MODE,\n",
        "                                            image_size=(IMAGE_HEIGHT, IMAGE_WIDTH),\n",
        "                                            seed=0)\n",
        "  return train_dataset, valid_dataset"
      ]
    },
    {
      "cell_type": "markdown",
      "metadata": {
        "id": "xHtsnmb6Prhi"
      },
      "source": [
        "Before we can build our model and start training, we need to apply one simple augmentation the dataset and that is rescaling. We convert input from int to float32 and rescale it from the (0, 255) range to the (0,1) range."
      ]
    },
    {
      "cell_type": "code",
      "execution_count": 657,
      "metadata": {
        "id": "DU_FcEUaP26F"
      },
      "outputs": [],
      "source": [
        "# Function to prepare our datasets for modelling\n",
        "def prepare(ds, augment=False):\n",
        "    # Define our one transformation\n",
        "    rescale = tf.keras.Sequential([tf.keras.layers.experimental.preprocessing.Rescaling(1./255)])\n",
        "    \n",
        "    flip_and_rotate = tf.keras.Sequential([\n",
        "        tf.keras.layers.experimental.preprocessing.RandomFlip(\"horizontal_and_vertical\"),\n",
        "        tf.keras.layers.experimental.preprocessing.RandomRotation(0.2)\n",
        "    ])\n",
        "\n",
        "    # Apply rescale to both datasets and augmentation only to training\n",
        "    ds = ds.map(lambda x, y: (rescale(x, training=True), y))\n",
        "    # if augment == True, do ImageAugmentation\n",
        "    if augment: \n",
        "      ds = ds.map(lambda x, y: (flip_and_rotate(x, training=True), y))\n",
        "    return ds"
      ]
    },
    {
      "cell_type": "markdown",
      "metadata": {
        "id": "I-L4Yt1djL5g"
      },
      "source": [
        "# 2. 🧠 Define the Model and Train"
      ]
    },
    {
      "cell_type": "code",
      "execution_count": 658,
      "metadata": {
        "id": "5F8bXADMjRZi"
      },
      "outputs": [],
      "source": [
        "def make_model(IMAGE_HEIGHT, IMAGE_WIDTH, N_CHANNELS, N_CLASSES):\n",
        "  # Create CNN model with 3 Convolution Layer Architecture\n",
        "  model = tf.keras.models.Sequential()\n",
        "  model.add(tf.keras.layers.Input(shape=(IMAGE_HEIGHT, IMAGE_WIDTH, N_CHANNELS)))\n",
        "  # Conv2D(NumFilter, FilterSize, option...)\n",
        "  model.add(tf.keras.layers.Conv2D(32, (3, 3), strides=2, padding='same', activation='relu')) #kernel_initializer='he_uniform'\n",
        "  #model.add(tf.keras.layers.BatchNormalization())\n",
        "  model.add(tf.keras.layers.MaxPooling2D(pool_size=(2, 2)))\n",
        "  #model.add(tf.keras.layers.BatchNormalization())\n",
        "  model.add(tf.keras.layers.Conv2D(64, (3, 3), padding='same', activation='relu'))\n",
        "  #model.add(tf.keras.layers.BatchNormalization())\n",
        "  model.add(tf.keras.layers.MaxPooling2D(pool_size=(2, 2)))\n",
        "  #model.add(tf.keras.layers.BatchNormalization())\n",
        "  model.add(tf.keras.layers.Conv2D(128, (3, 3), padding='same', activation='relu'))\n",
        "  #model.add(tf.keras.layers.BatchNormalization())\n",
        "  model.add(tf.keras.layers.MaxPooling2D(pool_size=(2, 2)))\n",
        "  #model.add(tf.keras.layers.BatchNormalization())\n",
        "  model.add(tf.keras.layers.Flatten())\n",
        "  model.add(tf.keras.layers.Dense(256, activation='relu')) \n",
        "  #model.add(tf.keras.layers.BatchNormalization())\n",
        "  #model.add(tf.keras.layers.Dropout(0.5))\n",
        "  model.add(tf.keras.layers.Dense(N_CLASSES, activation='softmax'))\n",
        "  return model"
      ]
    },
    {
      "cell_type": "code",
      "execution_count": 659,
      "metadata": {
        "id": "_uV7Gp_1QDJi"
      },
      "outputs": [],
      "source": [
        "# def plotResults(history,SaveFile,outputPath):\n",
        "#   # Plot the loss curves for training and validation.\n",
        "#   history_dict = history.history\n",
        "#   loss_values = history_dict['loss']\n",
        "#   val_loss_values = history_dict['val_loss']\n",
        "#   epochs = range(1, len(loss_values)+1)\n",
        "\n",
        "#   plt.figure(figsize=(10,15))\n",
        "#   plt.subplot(211)\n",
        "#   plt.plot(epochs, loss_values, 'g', label='Training loss')\n",
        "#   plt.plot(epochs, loss_values, 'go')\n",
        "#   plt.plot(epochs, val_loss_values, 'b', label='Validation loss')\n",
        "#   plt.plot(epochs, val_loss_values, 'bo')\n",
        "#   plt.title('Training and validation loss')\n",
        "#   plt.xlabel('Epochs')\n",
        "#   plt.ylabel('Loss')\n",
        "#   plt.legend()\n",
        "#   plt.show()\n",
        "\n",
        "#   # Plot the accuracy curves for training and validation.\n",
        "#   acc_values = history_dict['accuracy']\n",
        "#   val_acc_values = history_dict['val_accuracy']\n",
        "#   epochs = range(1, len(acc_values)+1)\n",
        "\n",
        "#   plt.figure(figsize=(10,15))\n",
        "#   plt.subplot(221)\n",
        "#   plt.plot(epochs, acc_values, 'g', label='Training accuracy')\n",
        "#   plt.plot(epochs, acc_values, 'go')\n",
        "#   plt.plot(epochs, val_acc_values, 'b', label='Validation accuracy')\n",
        "#   plt.plot(epochs, val_acc_values, 'bo')\n",
        "#   plt.title('Training and validation accuracy')\n",
        "#   plt.xlabel('Epochs')\n",
        "#   plt.ylabel('Accuracy')\n",
        "#   plt.legend()\n",
        "#   plt.show()\n",
        "\n",
        "#   if SaveFile == True:\n",
        "#     AccLossPngOutput = os.path.join(outputPath,'results.png')\n",
        "#     plt.savefig(AccLossPngOutput, bbox_inches='tight')\n",
        "#     plt.close()\n",
        "#     print('Image Saved')"
      ]
    },
    {
      "cell_type": "code",
      "source": [
        "def plotResults(history,SaveFile,outputPath):\n",
        "  # Plot the loss curves for training and validation.\n",
        "  history_dict = history.history\n",
        "  loss_values = history_dict['loss']\n",
        "  val_loss_values = history_dict['val_loss']\n",
        "  epochs = range(1, len(loss_values)+1)\n",
        "  \n",
        "  d = {'Train Loss': loss_values, 'Test Loss': val_loss_values, 'Epochs':epochs}\n",
        "  df = pd.DataFrame(d)\n",
        "  \n",
        "  fig = go.Figure()\n",
        "  fig = make_subplots(rows=2, cols=1,\n",
        "                      subplot_titles=(\"Training and Validation Loss\", \"Training and Validation Accuracy\"))\n",
        "\n",
        "  fig.append_trace(go.Scatter(\n",
        "      x=df['Epochs'],\n",
        "      y=df['Train Loss'],\n",
        "      name=\"Training Loss\",       # this sets its legend entry\n",
        "      mode='lines+markers'\n",
        "  ),1,1),\n",
        "\n",
        "  fig.append_trace(go.Scatter(\n",
        "      x=df['Epochs'],\n",
        "      y=df['Test Loss'],\n",
        "      name=\"Validation Loss\",\n",
        "      mode='lines+markers'\n",
        "  ),1,1),\n",
        "\n",
        "  # Plot the accuracy curves for training and validation.\n",
        "  acc_values = history_dict['accuracy']\n",
        "  val_acc_values = history_dict['val_accuracy']\n",
        "  epochs = range(1, len(acc_values)+1)\n",
        "\n",
        "  d = {'Train Accuracy': acc_values, 'Test Accuracy': val_acc_values, 'Epochs':epochs}\n",
        "  df = pd.DataFrame(d)\n",
        "\n",
        "  fig.append_trace(go.Scatter(\n",
        "      x=df['Epochs'],\n",
        "      y=df['Train Accuracy'],\n",
        "      name=\"Training Accuracy\",       # this sets its legend entry\n",
        "      mode='lines+markers'\n",
        "  ),2,1),\n",
        "\n",
        "  fig.append_trace(go.Scatter(\n",
        "      x=df['Epochs'],\n",
        "      y=df['Test Accuracy'],\n",
        "      name=\"Validation Accuracy\",\n",
        "      mode='lines+markers'\n",
        "  ),2,1),\n",
        "\n",
        "  # edit axis labels\n",
        "  fig['layout']['xaxis']['title']='Epochs'\n",
        "  fig['layout']['xaxis2']['title']='Epochs'\n",
        "  fig['layout']['yaxis']['title']='Loss'\n",
        "  fig['layout']['yaxis2']['title']='Accuracy'\n",
        "\n",
        "  # Tick Distance\n",
        "  fig['layout']['xaxis']['dtick']= 5\n",
        "  fig['layout']['xaxis2']['dtick']= 5\n",
        "  # First value on x axis\n",
        "  fig['layout']['xaxis']['tick0']= 0\n",
        "  fig['layout']['xaxis2']['tick0']= 0\n",
        "  # Tick Mode\n",
        "  fig['layout']['xaxis']['tickmode']= 'linear'\n",
        "  fig['layout']['xaxis2']['tickmode']= 'linear'\n",
        "\n",
        "  fig.update_layout(\n",
        "      height=800, \n",
        "      width=1200,\n",
        "      title=\"Loss and Accuracy\",\n",
        "      legend_title=\"Dataset\",\n",
        "      font=dict(size=14)\n",
        "  )\n",
        "\n",
        "  return fig, loss_values, val_loss_values, acc_values, val_acc_values"
      ],
      "metadata": {
        "id": "RpGQiSXAqHFw"
      },
      "execution_count": 660,
      "outputs": []
    },
    {
      "cell_type": "markdown",
      "metadata": {
        "id": "Mt_EXMHB1aoy"
      },
      "source": [
        "# 3. 💯 Compute Code"
      ]
    },
    {
      "cell_type": "markdown",
      "metadata": {
        "id": "z64G6e4vSboI"
      },
      "source": [
        "Define Input and Output"
      ]
    },
    {
      "cell_type": "code",
      "execution_count": 661,
      "metadata": {
        "id": "4cYlgi69qoJz"
      },
      "outputs": [],
      "source": [
        "TASK = '30epoche_NO_Batch_NO_Dropout_specProva'\n",
        "directory = '/content/drive/MyDrive/DatasetTesi/outputSpectrogram/Spectrogram/prova'\n",
        "outputPath = '/content/drive/MyDrive/DatasetTesi/outputSpectrogram/Spectrogram/Risultati'\n",
        "outputPath = os.path.join(outputPath,TASK)\n",
        "\n",
        "if not os.path.exists(outputPath):\n",
        "   # Create a new directory because it does not exist\n",
        "   os.makedirs(outputPath)\n",
        "   print(\"The output folder has been created!\")"
      ]
    },
    {
      "cell_type": "markdown",
      "metadata": {
        "id": "6v7ePYXsSfCp"
      },
      "source": [
        "Define Parameters for Training"
      ]
    },
    {
      "cell_type": "code",
      "execution_count": 662,
      "metadata": {
        "colab": {
          "base_uri": "https://localhost:8080/"
        },
        "id": "NEzN4dZhSeFV",
        "outputId": "47e0df1a-feb8-4c9f-b786-d9550e5d66b8"
      },
      "outputs": [
        {
          "output_type": "stream",
          "name": "stdout",
          "text": [
            "Found 227 files belonging to 2 classes.\n",
            "Using 182 files for training.\n",
            "Found 227 files belonging to 2 classes.\n",
            "Using 45 files for validation.\n"
          ]
        }
      ],
      "source": [
        "# Declare constants\n",
        "IMAGE_HEIGHT = 256\n",
        "IMAGE_WIDTH = 256\n",
        "BATCH_SIZE = 32\n",
        "N_CHANNELS = 3\n",
        "EPOCHS = 50\n",
        "VAL_SPLIT = 0.2\n",
        "MODE = 'rgb'\n",
        "SaveFile = True\n",
        "\n",
        "[train_dataset, valid_dataset] = createTrain_and_Test_Dataset(directory,BATCH_SIZE,VAL_SPLIT,IMAGE_HEIGHT, IMAGE_WIDTH, MODE)\n",
        "\n",
        "classNames = train_dataset.class_names\n",
        "N_CLASSES = len(classNames)\n",
        "\n",
        "train_dataset = prepare(train_dataset, augment=False)\n",
        "valid_dataset = prepare(valid_dataset, augment=False)"
      ]
    },
    {
      "cell_type": "markdown",
      "metadata": {
        "id": "ELEmc60XS1m-"
      },
      "source": [
        "Make Model and Plot Results"
      ]
    },
    {
      "cell_type": "code",
      "execution_count": 663,
      "metadata": {
        "id": "sjKWPceKkTFb",
        "outputId": "ddcf28f1-2fe8-418f-827c-c398fbc66fef",
        "colab": {
          "base_uri": "https://localhost:8080/"
        }
      },
      "outputs": [
        {
          "output_type": "stream",
          "name": "stdout",
          "text": [
            "Epoch 1/50\n",
            "6/6 [==============================] - 28s 3s/step - loss: 4.7419 - accuracy: 0.4396 - val_loss: 0.6834 - val_accuracy: 0.5556\n",
            "Epoch 2/50\n",
            "6/6 [==============================] - 18s 2s/step - loss: 0.6964 - accuracy: 0.4725 - val_loss: 1.6346 - val_accuracy: 0.5556\n",
            "Epoch 3/50\n",
            "6/6 [==============================] - 20s 3s/step - loss: 0.9896 - accuracy: 0.5769 - val_loss: 0.6467 - val_accuracy: 0.7111\n",
            "Epoch 4/50\n",
            "6/6 [==============================] - 18s 2s/step - loss: 0.6660 - accuracy: 0.6538 - val_loss: 0.6299 - val_accuracy: 0.6000\n",
            "Epoch 5/50\n",
            "6/6 [==============================] - 18s 2s/step - loss: 0.6278 - accuracy: 0.5769 - val_loss: 0.6363 - val_accuracy: 0.5556\n",
            "Epoch 6/50\n",
            "6/6 [==============================] - 19s 2s/step - loss: 0.5314 - accuracy: 0.7802 - val_loss: 0.4840 - val_accuracy: 0.6889\n",
            "Epoch 7/50\n",
            "6/6 [==============================] - 18s 2s/step - loss: 0.7306 - accuracy: 0.7198 - val_loss: 0.4795 - val_accuracy: 0.8000\n",
            "Epoch 8/50\n",
            "6/6 [==============================] - 18s 2s/step - loss: 0.7420 - accuracy: 0.6374 - val_loss: 0.6195 - val_accuracy: 0.5778\n",
            "Epoch 9/50\n",
            "6/6 [==============================] - 18s 2s/step - loss: 0.7167 - accuracy: 0.7088 - val_loss: 0.5582 - val_accuracy: 0.7778\n",
            "Epoch 10/50\n",
            "6/6 [==============================] - 18s 2s/step - loss: 0.5643 - accuracy: 0.7308 - val_loss: 0.4040 - val_accuracy: 0.8889\n",
            "Epoch 11/50\n",
            "6/6 [==============================] - 17s 2s/step - loss: 0.4112 - accuracy: 0.8352 - val_loss: 0.3529 - val_accuracy: 0.8444\n",
            "Epoch 12/50\n",
            "6/6 [==============================] - 19s 2s/step - loss: 0.4229 - accuracy: 0.7967 - val_loss: 0.3734 - val_accuracy: 0.8444\n",
            "Epoch 13/50\n",
            "6/6 [==============================] - 17s 2s/step - loss: 0.3891 - accuracy: 0.8352 - val_loss: 0.3880 - val_accuracy: 0.8222\n",
            "Epoch 14/50\n",
            "6/6 [==============================] - 18s 2s/step - loss: 0.3651 - accuracy: 0.8516 - val_loss: 0.2856 - val_accuracy: 0.8667\n",
            "Epoch 15/50\n",
            "6/6 [==============================] - 18s 2s/step - loss: 0.4400 - accuracy: 0.8187 - val_loss: 0.5189 - val_accuracy: 0.7556\n",
            "Epoch 16/50\n",
            "6/6 [==============================] - 19s 2s/step - loss: 0.3213 - accuracy: 0.8571 - val_loss: 0.6328 - val_accuracy: 0.6667\n",
            "Epoch 17/50\n",
            "6/6 [==============================] - 19s 2s/step - loss: 0.3354 - accuracy: 0.8571 - val_loss: 0.2676 - val_accuracy: 0.9111\n",
            "Epoch 18/50\n",
            "6/6 [==============================] - 16s 2s/step - loss: 0.4760 - accuracy: 0.7637 - val_loss: 0.3015 - val_accuracy: 0.8444\n",
            "Epoch 19/50\n",
            "6/6 [==============================] - 19s 2s/step - loss: 0.3120 - accuracy: 0.8736 - val_loss: 0.3446 - val_accuracy: 0.8667\n",
            "Epoch 20/50\n",
            "6/6 [==============================] - 18s 2s/step - loss: 0.2495 - accuracy: 0.9066 - val_loss: 0.3746 - val_accuracy: 0.8444\n",
            "Epoch 21/50\n",
            "6/6 [==============================] - 21s 2s/step - loss: 0.2088 - accuracy: 0.9231 - val_loss: 0.4120 - val_accuracy: 0.8000\n",
            "Epoch 22/50\n",
            "6/6 [==============================] - 18s 2s/step - loss: 0.2038 - accuracy: 0.9396 - val_loss: 1.0206 - val_accuracy: 0.6222\n",
            "Epoch 23/50\n",
            "6/6 [==============================] - 18s 2s/step - loss: 0.4031 - accuracy: 0.8462 - val_loss: 1.1365 - val_accuracy: 0.6222\n",
            "Epoch 24/50\n",
            "6/6 [==============================] - 16s 2s/step - loss: 0.2915 - accuracy: 0.8736 - val_loss: 0.2677 - val_accuracy: 0.8889\n",
            "Epoch 25/50\n",
            "6/6 [==============================] - 17s 2s/step - loss: 0.1306 - accuracy: 0.9505 - val_loss: 0.2706 - val_accuracy: 0.8444\n",
            "Epoch 26/50\n",
            "6/6 [==============================] - 18s 2s/step - loss: 0.1131 - accuracy: 0.9505 - val_loss: 0.2585 - val_accuracy: 0.9111\n",
            "Epoch 27/50\n",
            "6/6 [==============================] - 19s 2s/step - loss: 0.1246 - accuracy: 0.9560 - val_loss: 0.5703 - val_accuracy: 0.7778\n",
            "Epoch 28/50\n",
            "6/6 [==============================] - 17s 2s/step - loss: 0.1820 - accuracy: 0.9176 - val_loss: 0.9918 - val_accuracy: 0.7333\n",
            "Epoch 29/50\n",
            "6/6 [==============================] - 20s 2s/step - loss: 0.1912 - accuracy: 0.9121 - val_loss: 0.1997 - val_accuracy: 0.9111\n",
            "Epoch 30/50\n",
            "6/6 [==============================] - 21s 2s/step - loss: 0.0592 - accuracy: 1.0000 - val_loss: 0.5055 - val_accuracy: 0.8222\n",
            "Epoch 31/50\n",
            "6/6 [==============================] - 19s 2s/step - loss: 0.1085 - accuracy: 0.9560 - val_loss: 0.8615 - val_accuracy: 0.7111\n",
            "Epoch 32/50\n",
            "6/6 [==============================] - 18s 2s/step - loss: 0.1410 - accuracy: 0.9451 - val_loss: 0.4192 - val_accuracy: 0.8889\n",
            "Epoch 33/50\n",
            "6/6 [==============================] - 19s 2s/step - loss: 0.1118 - accuracy: 0.9560 - val_loss: 0.5725 - val_accuracy: 0.8000\n",
            "Epoch 34/50\n",
            "6/6 [==============================] - 17s 2s/step - loss: 0.0967 - accuracy: 0.9451 - val_loss: 0.2709 - val_accuracy: 0.9111\n",
            "Epoch 35/50\n",
            "6/6 [==============================] - 17s 2s/step - loss: 0.0237 - accuracy: 0.9945 - val_loss: 0.4907 - val_accuracy: 0.8667\n",
            "Epoch 36/50\n",
            "6/6 [==============================] - 19s 2s/step - loss: 0.0378 - accuracy: 0.9945 - val_loss: 0.3104 - val_accuracy: 0.8889\n",
            "Epoch 37/50\n",
            "6/6 [==============================] - 19s 2s/step - loss: 0.0050 - accuracy: 1.0000 - val_loss: 0.3728 - val_accuracy: 0.9111\n",
            "Epoch 38/50\n",
            "6/6 [==============================] - 19s 2s/step - loss: 0.0032 - accuracy: 1.0000 - val_loss: 0.3877 - val_accuracy: 0.8889\n",
            "Epoch 39/50\n",
            "6/6 [==============================] - 19s 2s/step - loss: 0.0021 - accuracy: 1.0000 - val_loss: 0.3799 - val_accuracy: 0.9111\n",
            "Epoch 40/50\n",
            "6/6 [==============================] - 18s 2s/step - loss: 0.0018 - accuracy: 1.0000 - val_loss: 0.3970 - val_accuracy: 0.9111\n",
            "Epoch 41/50\n",
            "6/6 [==============================] - 18s 2s/step - loss: 9.5610e-04 - accuracy: 1.0000 - val_loss: 0.4270 - val_accuracy: 0.9111\n",
            "Epoch 42/50\n",
            "6/6 [==============================] - 19s 2s/step - loss: 0.5486 - accuracy: 0.8901 - val_loss: 0.6760 - val_accuracy: 0.6000\n",
            "Epoch 43/50\n",
            "6/6 [==============================] - 18s 2s/step - loss: 0.1727 - accuracy: 0.9286 - val_loss: 0.2254 - val_accuracy: 0.8889\n",
            "Epoch 44/50\n",
            "6/6 [==============================] - 18s 2s/step - loss: 0.0269 - accuracy: 0.9890 - val_loss: 0.3894 - val_accuracy: 0.8667\n",
            "Epoch 45/50\n",
            "6/6 [==============================] - 19s 2s/step - loss: 0.0113 - accuracy: 1.0000 - val_loss: 0.3093 - val_accuracy: 0.9111\n",
            "Epoch 46/50\n",
            "6/6 [==============================] - 17s 2s/step - loss: 0.0029 - accuracy: 1.0000 - val_loss: 0.3298 - val_accuracy: 0.9111\n",
            "Epoch 47/50\n",
            "6/6 [==============================] - 22s 2s/step - loss: 0.0013 - accuracy: 1.0000 - val_loss: 0.3627 - val_accuracy: 0.9111\n",
            "Epoch 48/50\n",
            "6/6 [==============================] - 18s 2s/step - loss: 8.4142e-04 - accuracy: 1.0000 - val_loss: 0.3838 - val_accuracy: 0.9111\n",
            "Epoch 49/50\n",
            "6/6 [==============================] - 19s 2s/step - loss: 5.8753e-04 - accuracy: 1.0000 - val_loss: 0.4121 - val_accuracy: 0.9111\n",
            "Epoch 50/50\n",
            "6/6 [==============================] - 18s 2s/step - loss: 3.5404e-04 - accuracy: 1.0000 - val_loss: 0.4360 - val_accuracy: 0.9111\n"
          ]
        }
      ],
      "source": [
        "# wandb.config = {\n",
        "#   \"learning_rate\": 0.001,\n",
        "#   \"epochs\": EPOCHS,\n",
        "#   \"batch_size\": BATCH_SIZE,\n",
        "#   \"architecture\": \"CNN\"\n",
        "# }\n",
        "\n",
        "model = make_model(IMAGE_HEIGHT, IMAGE_WIDTH, N_CHANNELS, N_CLASSES)\n",
        "\n",
        "# Compile model\n",
        "model.compile(\n",
        "    loss='sparse_categorical_crossentropy',\n",
        "    optimizer=tf.keras.optimizers.RMSprop(),\n",
        "    metrics=['accuracy'],\n",
        ")\n",
        "\n",
        "# wandb.init()\n",
        "\n",
        "# Train model and capture the history\n",
        "history = model.fit(train_dataset, epochs=EPOCHS, validation_data=valid_dataset)"
      ]
    },
    {
      "cell_type": "code",
      "source": [
        "fig, loss_values, val_loss_values, acc_values, val_acc_values = plotResults(history,SaveFile,outputPath)\n",
        "fig.show()"
      ],
      "metadata": {
        "id": "GcZCdu8qoXdd",
        "colab": {
          "base_uri": "https://localhost:8080/",
          "height": 837
        },
        "outputId": "fcb865e2-1300-4cf1-ff70-78c7444be4e8"
      },
      "execution_count": 664,
      "outputs": [
        {
          "output_type": "display_data",
          "data": {
            "text/html": [
              "<html>\n",
              "<head><meta charset=\"utf-8\" /></head>\n",
              "<body>\n",
              "    <div>            <script src=\"https://cdnjs.cloudflare.com/ajax/libs/mathjax/2.7.5/MathJax.js?config=TeX-AMS-MML_SVG\"></script><script type=\"text/javascript\">if (window.MathJax) {MathJax.Hub.Config({SVG: {font: \"STIX-Web\"}});}</script>                <script type=\"text/javascript\">window.PlotlyConfig = {MathJaxConfig: 'local'};</script>\n",
              "        <script src=\"https://cdn.plot.ly/plotly-2.8.3.min.js\"></script>                <div id=\"105fba1a-a50d-4c13-ba16-c45bb0a9ae59\" class=\"plotly-graph-div\" style=\"height:800px; width:1200px;\"></div>            <script type=\"text/javascript\">                                    window.PLOTLYENV=window.PLOTLYENV || {};                                    if (document.getElementById(\"105fba1a-a50d-4c13-ba16-c45bb0a9ae59\")) {                    Plotly.newPlot(                        \"105fba1a-a50d-4c13-ba16-c45bb0a9ae59\",                        [{\"mode\":\"lines+markers\",\"name\":\"Training Loss\",\"x\":[1,2,3,4,5,6,7,8,9,10,11,12,13,14,15,16,17,18,19,20,21,22,23,24,25,26,27,28,29,30,31,32,33,34,35,36,37,38,39,40,41,42,43,44,45,46,47,48,49,50],\"y\":[4.741881370544434,0.6963808536529541,0.9896027445793152,0.6659671068191528,0.6277660727500916,0.5314244031906128,0.730567455291748,0.7419703602790833,0.7166752219200134,0.5643119812011719,0.41120290756225586,0.42288610339164734,0.3890978693962097,0.3651476800441742,0.4399729371070862,0.3213042914867401,0.3354254961013794,0.47596821188926697,0.31202659010887146,0.24951335787773132,0.20875035226345062,0.20382656157016754,0.4031440019607544,0.2915411591529846,0.13059666752815247,0.11308924853801727,0.12455607205629349,0.18202893435955048,0.1911545991897583,0.05920666828751564,0.10850440710783005,0.14096997678279877,0.11184553802013397,0.09667471796274185,0.023689059540629387,0.037827763706445694,0.00499363150447607,0.003151556244120002,0.002126130275428295,0.0017963238060474396,0.0009560984326526523,0.5486422777175903,0.1727447658777237,0.026854772120714188,0.011330276727676392,0.002929573180153966,0.0012999760219827294,0.0008414220064878464,0.0005875307833775878,0.00035404390655457973],\"type\":\"scatter\",\"xaxis\":\"x\",\"yaxis\":\"y\"},{\"mode\":\"lines+markers\",\"name\":\"Validation Loss\",\"x\":[1,2,3,4,5,6,7,8,9,10,11,12,13,14,15,16,17,18,19,20,21,22,23,24,25,26,27,28,29,30,31,32,33,34,35,36,37,38,39,40,41,42,43,44,45,46,47,48,49,50],\"y\":[0.683383584022522,1.634642243385315,0.6467447280883789,0.6298500895500183,0.6362552046775818,0.4839523434638977,0.4794529378414154,0.6194984316825867,0.5582173466682434,0.4040136933326721,0.35286033153533936,0.37340274453163147,0.3880366086959839,0.2856018543243408,0.5188827514648438,0.6327524781227112,0.267638623714447,0.30150139331817627,0.3445560336112976,0.3746272325515747,0.4119891822338104,1.020558476448059,1.1364614963531494,0.26767396926879883,0.27061107754707336,0.25850221514701843,0.5703456401824951,0.9918486475944519,0.19970613718032837,0.5055297017097473,0.8614822626113892,0.4191513955593109,0.5725297927856445,0.2709360420703888,0.4906995892524719,0.3104209899902344,0.37279239296913147,0.3876921236515045,0.37991446256637573,0.39695337414741516,0.42700308561325073,0.6760372519493103,0.22542144358158112,0.3894016742706299,0.30930647253990173,0.32976627349853516,0.3627089560031891,0.3837580382823944,0.41205716133117676,0.4360063672065735],\"type\":\"scatter\",\"xaxis\":\"x\",\"yaxis\":\"y\"},{\"mode\":\"lines+markers\",\"name\":\"Training Accuracy\",\"x\":[1,2,3,4,5,6,7,8,9,10,11,12,13,14,15,16,17,18,19,20,21,22,23,24,25,26,27,28,29,30,31,32,33,34,35,36,37,38,39,40,41,42,43,44,45,46,47,48,49,50],\"y\":[0.4395604431629181,0.47252747416496277,0.5769230723381042,0.6538461446762085,0.5769230723381042,0.7802197933197021,0.7197802066802979,0.6373626589775085,0.708791196346283,0.7307692170143127,0.8351648449897766,0.7967032790184021,0.8351648449897766,0.8516483306884766,0.8186812996864319,0.8571428656578064,0.8571428656578064,0.7637362480163574,0.8736263513565063,0.906593382358551,0.9230769276618958,0.9395604133605957,0.8461538553237915,0.8736263513565063,0.9505494236946106,0.9505494236946106,0.9560439586639404,0.9175823926925659,0.9120879173278809,1.0,0.9560439586639404,0.9450549483299255,0.9560439586639404,0.9450549483299255,0.9945054650306702,0.9945054650306702,1.0,1.0,1.0,1.0,1.0,0.8901098966598511,0.9285714030265808,0.9890109896659851,1.0,1.0,1.0,1.0,1.0,1.0],\"type\":\"scatter\",\"xaxis\":\"x2\",\"yaxis\":\"y2\"},{\"mode\":\"lines+markers\",\"name\":\"Validation Accuracy\",\"x\":[1,2,3,4,5,6,7,8,9,10,11,12,13,14,15,16,17,18,19,20,21,22,23,24,25,26,27,28,29,30,31,32,33,34,35,36,37,38,39,40,41,42,43,44,45,46,47,48,49,50],\"y\":[0.5555555820465088,0.5555555820465088,0.7111111283302307,0.6000000238418579,0.5555555820465088,0.6888889074325562,0.800000011920929,0.5777778029441833,0.7777777910232544,0.8888888955116272,0.8444444537162781,0.8444444537162781,0.8222222328186035,0.8666666746139526,0.7555555701255798,0.6666666865348816,0.9111111164093018,0.8444444537162781,0.8666666746139526,0.8444444537162781,0.800000011920929,0.6222222447395325,0.6222222447395325,0.8888888955116272,0.8444444537162781,0.9111111164093018,0.7777777910232544,0.7333333492279053,0.9111111164093018,0.8222222328186035,0.7111111283302307,0.8888888955116272,0.800000011920929,0.9111111164093018,0.8666666746139526,0.8888888955116272,0.9111111164093018,0.8888888955116272,0.9111111164093018,0.9111111164093018,0.9111111164093018,0.6000000238418579,0.8888888955116272,0.8666666746139526,0.9111111164093018,0.9111111164093018,0.9111111164093018,0.9111111164093018,0.9111111164093018,0.9111111164093018],\"type\":\"scatter\",\"xaxis\":\"x2\",\"yaxis\":\"y2\"}],                        {\"template\":{\"data\":{\"bar\":[{\"error_x\":{\"color\":\"#2a3f5f\"},\"error_y\":{\"color\":\"#2a3f5f\"},\"marker\":{\"line\":{\"color\":\"#E5ECF6\",\"width\":0.5},\"pattern\":{\"fillmode\":\"overlay\",\"size\":10,\"solidity\":0.2}},\"type\":\"bar\"}],\"barpolar\":[{\"marker\":{\"line\":{\"color\":\"#E5ECF6\",\"width\":0.5},\"pattern\":{\"fillmode\":\"overlay\",\"size\":10,\"solidity\":0.2}},\"type\":\"barpolar\"}],\"carpet\":[{\"aaxis\":{\"endlinecolor\":\"#2a3f5f\",\"gridcolor\":\"white\",\"linecolor\":\"white\",\"minorgridcolor\":\"white\",\"startlinecolor\":\"#2a3f5f\"},\"baxis\":{\"endlinecolor\":\"#2a3f5f\",\"gridcolor\":\"white\",\"linecolor\":\"white\",\"minorgridcolor\":\"white\",\"startlinecolor\":\"#2a3f5f\"},\"type\":\"carpet\"}],\"choropleth\":[{\"colorbar\":{\"outlinewidth\":0,\"ticks\":\"\"},\"type\":\"choropleth\"}],\"contour\":[{\"colorbar\":{\"outlinewidth\":0,\"ticks\":\"\"},\"colorscale\":[[0.0,\"#0d0887\"],[0.1111111111111111,\"#46039f\"],[0.2222222222222222,\"#7201a8\"],[0.3333333333333333,\"#9c179e\"],[0.4444444444444444,\"#bd3786\"],[0.5555555555555556,\"#d8576b\"],[0.6666666666666666,\"#ed7953\"],[0.7777777777777778,\"#fb9f3a\"],[0.8888888888888888,\"#fdca26\"],[1.0,\"#f0f921\"]],\"type\":\"contour\"}],\"contourcarpet\":[{\"colorbar\":{\"outlinewidth\":0,\"ticks\":\"\"},\"type\":\"contourcarpet\"}],\"heatmap\":[{\"colorbar\":{\"outlinewidth\":0,\"ticks\":\"\"},\"colorscale\":[[0.0,\"#0d0887\"],[0.1111111111111111,\"#46039f\"],[0.2222222222222222,\"#7201a8\"],[0.3333333333333333,\"#9c179e\"],[0.4444444444444444,\"#bd3786\"],[0.5555555555555556,\"#d8576b\"],[0.6666666666666666,\"#ed7953\"],[0.7777777777777778,\"#fb9f3a\"],[0.8888888888888888,\"#fdca26\"],[1.0,\"#f0f921\"]],\"type\":\"heatmap\"}],\"heatmapgl\":[{\"colorbar\":{\"outlinewidth\":0,\"ticks\":\"\"},\"colorscale\":[[0.0,\"#0d0887\"],[0.1111111111111111,\"#46039f\"],[0.2222222222222222,\"#7201a8\"],[0.3333333333333333,\"#9c179e\"],[0.4444444444444444,\"#bd3786\"],[0.5555555555555556,\"#d8576b\"],[0.6666666666666666,\"#ed7953\"],[0.7777777777777778,\"#fb9f3a\"],[0.8888888888888888,\"#fdca26\"],[1.0,\"#f0f921\"]],\"type\":\"heatmapgl\"}],\"histogram\":[{\"marker\":{\"pattern\":{\"fillmode\":\"overlay\",\"size\":10,\"solidity\":0.2}},\"type\":\"histogram\"}],\"histogram2d\":[{\"colorbar\":{\"outlinewidth\":0,\"ticks\":\"\"},\"colorscale\":[[0.0,\"#0d0887\"],[0.1111111111111111,\"#46039f\"],[0.2222222222222222,\"#7201a8\"],[0.3333333333333333,\"#9c179e\"],[0.4444444444444444,\"#bd3786\"],[0.5555555555555556,\"#d8576b\"],[0.6666666666666666,\"#ed7953\"],[0.7777777777777778,\"#fb9f3a\"],[0.8888888888888888,\"#fdca26\"],[1.0,\"#f0f921\"]],\"type\":\"histogram2d\"}],\"histogram2dcontour\":[{\"colorbar\":{\"outlinewidth\":0,\"ticks\":\"\"},\"colorscale\":[[0.0,\"#0d0887\"],[0.1111111111111111,\"#46039f\"],[0.2222222222222222,\"#7201a8\"],[0.3333333333333333,\"#9c179e\"],[0.4444444444444444,\"#bd3786\"],[0.5555555555555556,\"#d8576b\"],[0.6666666666666666,\"#ed7953\"],[0.7777777777777778,\"#fb9f3a\"],[0.8888888888888888,\"#fdca26\"],[1.0,\"#f0f921\"]],\"type\":\"histogram2dcontour\"}],\"mesh3d\":[{\"colorbar\":{\"outlinewidth\":0,\"ticks\":\"\"},\"type\":\"mesh3d\"}],\"parcoords\":[{\"line\":{\"colorbar\":{\"outlinewidth\":0,\"ticks\":\"\"}},\"type\":\"parcoords\"}],\"pie\":[{\"automargin\":true,\"type\":\"pie\"}],\"scatter\":[{\"marker\":{\"colorbar\":{\"outlinewidth\":0,\"ticks\":\"\"}},\"type\":\"scatter\"}],\"scatter3d\":[{\"line\":{\"colorbar\":{\"outlinewidth\":0,\"ticks\":\"\"}},\"marker\":{\"colorbar\":{\"outlinewidth\":0,\"ticks\":\"\"}},\"type\":\"scatter3d\"}],\"scattercarpet\":[{\"marker\":{\"colorbar\":{\"outlinewidth\":0,\"ticks\":\"\"}},\"type\":\"scattercarpet\"}],\"scattergeo\":[{\"marker\":{\"colorbar\":{\"outlinewidth\":0,\"ticks\":\"\"}},\"type\":\"scattergeo\"}],\"scattergl\":[{\"marker\":{\"colorbar\":{\"outlinewidth\":0,\"ticks\":\"\"}},\"type\":\"scattergl\"}],\"scattermapbox\":[{\"marker\":{\"colorbar\":{\"outlinewidth\":0,\"ticks\":\"\"}},\"type\":\"scattermapbox\"}],\"scatterpolar\":[{\"marker\":{\"colorbar\":{\"outlinewidth\":0,\"ticks\":\"\"}},\"type\":\"scatterpolar\"}],\"scatterpolargl\":[{\"marker\":{\"colorbar\":{\"outlinewidth\":0,\"ticks\":\"\"}},\"type\":\"scatterpolargl\"}],\"scatterternary\":[{\"marker\":{\"colorbar\":{\"outlinewidth\":0,\"ticks\":\"\"}},\"type\":\"scatterternary\"}],\"surface\":[{\"colorbar\":{\"outlinewidth\":0,\"ticks\":\"\"},\"colorscale\":[[0.0,\"#0d0887\"],[0.1111111111111111,\"#46039f\"],[0.2222222222222222,\"#7201a8\"],[0.3333333333333333,\"#9c179e\"],[0.4444444444444444,\"#bd3786\"],[0.5555555555555556,\"#d8576b\"],[0.6666666666666666,\"#ed7953\"],[0.7777777777777778,\"#fb9f3a\"],[0.8888888888888888,\"#fdca26\"],[1.0,\"#f0f921\"]],\"type\":\"surface\"}],\"table\":[{\"cells\":{\"fill\":{\"color\":\"#EBF0F8\"},\"line\":{\"color\":\"white\"}},\"header\":{\"fill\":{\"color\":\"#C8D4E3\"},\"line\":{\"color\":\"white\"}},\"type\":\"table\"}]},\"layout\":{\"annotationdefaults\":{\"arrowcolor\":\"#2a3f5f\",\"arrowhead\":0,\"arrowwidth\":1},\"autotypenumbers\":\"strict\",\"coloraxis\":{\"colorbar\":{\"outlinewidth\":0,\"ticks\":\"\"}},\"colorscale\":{\"diverging\":[[0,\"#8e0152\"],[0.1,\"#c51b7d\"],[0.2,\"#de77ae\"],[0.3,\"#f1b6da\"],[0.4,\"#fde0ef\"],[0.5,\"#f7f7f7\"],[0.6,\"#e6f5d0\"],[0.7,\"#b8e186\"],[0.8,\"#7fbc41\"],[0.9,\"#4d9221\"],[1,\"#276419\"]],\"sequential\":[[0.0,\"#0d0887\"],[0.1111111111111111,\"#46039f\"],[0.2222222222222222,\"#7201a8\"],[0.3333333333333333,\"#9c179e\"],[0.4444444444444444,\"#bd3786\"],[0.5555555555555556,\"#d8576b\"],[0.6666666666666666,\"#ed7953\"],[0.7777777777777778,\"#fb9f3a\"],[0.8888888888888888,\"#fdca26\"],[1.0,\"#f0f921\"]],\"sequentialminus\":[[0.0,\"#0d0887\"],[0.1111111111111111,\"#46039f\"],[0.2222222222222222,\"#7201a8\"],[0.3333333333333333,\"#9c179e\"],[0.4444444444444444,\"#bd3786\"],[0.5555555555555556,\"#d8576b\"],[0.6666666666666666,\"#ed7953\"],[0.7777777777777778,\"#fb9f3a\"],[0.8888888888888888,\"#fdca26\"],[1.0,\"#f0f921\"]]},\"colorway\":[\"#636efa\",\"#EF553B\",\"#00cc96\",\"#ab63fa\",\"#FFA15A\",\"#19d3f3\",\"#FF6692\",\"#B6E880\",\"#FF97FF\",\"#FECB52\"],\"font\":{\"color\":\"#2a3f5f\"},\"geo\":{\"bgcolor\":\"white\",\"lakecolor\":\"white\",\"landcolor\":\"#E5ECF6\",\"showlakes\":true,\"showland\":true,\"subunitcolor\":\"white\"},\"hoverlabel\":{\"align\":\"left\"},\"hovermode\":\"closest\",\"mapbox\":{\"style\":\"light\"},\"paper_bgcolor\":\"white\",\"plot_bgcolor\":\"#E5ECF6\",\"polar\":{\"angularaxis\":{\"gridcolor\":\"white\",\"linecolor\":\"white\",\"ticks\":\"\"},\"bgcolor\":\"#E5ECF6\",\"radialaxis\":{\"gridcolor\":\"white\",\"linecolor\":\"white\",\"ticks\":\"\"}},\"scene\":{\"xaxis\":{\"backgroundcolor\":\"#E5ECF6\",\"gridcolor\":\"white\",\"gridwidth\":2,\"linecolor\":\"white\",\"showbackground\":true,\"ticks\":\"\",\"zerolinecolor\":\"white\"},\"yaxis\":{\"backgroundcolor\":\"#E5ECF6\",\"gridcolor\":\"white\",\"gridwidth\":2,\"linecolor\":\"white\",\"showbackground\":true,\"ticks\":\"\",\"zerolinecolor\":\"white\"},\"zaxis\":{\"backgroundcolor\":\"#E5ECF6\",\"gridcolor\":\"white\",\"gridwidth\":2,\"linecolor\":\"white\",\"showbackground\":true,\"ticks\":\"\",\"zerolinecolor\":\"white\"}},\"shapedefaults\":{\"line\":{\"color\":\"#2a3f5f\"}},\"ternary\":{\"aaxis\":{\"gridcolor\":\"white\",\"linecolor\":\"white\",\"ticks\":\"\"},\"baxis\":{\"gridcolor\":\"white\",\"linecolor\":\"white\",\"ticks\":\"\"},\"bgcolor\":\"#E5ECF6\",\"caxis\":{\"gridcolor\":\"white\",\"linecolor\":\"white\",\"ticks\":\"\"}},\"title\":{\"x\":0.05},\"xaxis\":{\"automargin\":true,\"gridcolor\":\"white\",\"linecolor\":\"white\",\"ticks\":\"\",\"title\":{\"standoff\":15},\"zerolinecolor\":\"white\",\"zerolinewidth\":2},\"yaxis\":{\"automargin\":true,\"gridcolor\":\"white\",\"linecolor\":\"white\",\"ticks\":\"\",\"title\":{\"standoff\":15},\"zerolinecolor\":\"white\",\"zerolinewidth\":2}}},\"xaxis\":{\"anchor\":\"y\",\"domain\":[0.0,1.0],\"title\":{\"text\":\"Epochs\"},\"dtick\":5,\"tick0\":0,\"tickmode\":\"linear\"},\"yaxis\":{\"anchor\":\"x\",\"domain\":[0.625,1.0],\"title\":{\"text\":\"Loss\"}},\"xaxis2\":{\"anchor\":\"y2\",\"domain\":[0.0,1.0],\"title\":{\"text\":\"Epochs\"},\"dtick\":5,\"tick0\":0,\"tickmode\":\"linear\"},\"yaxis2\":{\"anchor\":\"x2\",\"domain\":[0.0,0.375],\"title\":{\"text\":\"Accuracy\"}},\"annotations\":[{\"font\":{\"size\":16},\"showarrow\":false,\"text\":\"Training and Validation Loss\",\"x\":0.5,\"xanchor\":\"center\",\"xref\":\"paper\",\"y\":1.0,\"yanchor\":\"bottom\",\"yref\":\"paper\"},{\"font\":{\"size\":16},\"showarrow\":false,\"text\":\"Training and Validation Accuracy\",\"x\":0.5,\"xanchor\":\"center\",\"xref\":\"paper\",\"y\":0.375,\"yanchor\":\"bottom\",\"yref\":\"paper\"}],\"font\":{\"size\":14},\"height\":800,\"width\":1200,\"title\":{\"text\":\"Loss and Accuracy\"},\"legend\":{\"title\":{\"text\":\"Dataset\"}}},                        {\"responsive\": true}                    ).then(function(){\n",
              "                            \n",
              "var gd = document.getElementById('105fba1a-a50d-4c13-ba16-c45bb0a9ae59');\n",
              "var x = new MutationObserver(function (mutations, observer) {{\n",
              "        var display = window.getComputedStyle(gd).display;\n",
              "        if (!display || display === 'none') {{\n",
              "            console.log([gd, 'removed!']);\n",
              "            Plotly.purge(gd);\n",
              "            observer.disconnect();\n",
              "        }}\n",
              "}});\n",
              "\n",
              "// Listen for the removal of the full notebook cells\n",
              "var notebookContainer = gd.closest('#notebook-container');\n",
              "if (notebookContainer) {{\n",
              "    x.observe(notebookContainer, {childList: true});\n",
              "}}\n",
              "\n",
              "// Listen for the clearing of the current output cell\n",
              "var outputEl = gd.closest('.output');\n",
              "if (outputEl) {{\n",
              "    x.observe(outputEl, {childList: true});\n",
              "}}\n",
              "\n",
              "                        })                };                            </script>        </div>\n",
              "</body>\n",
              "</html>"
            ]
          },
          "metadata": {}
        }
      ]
    },
    {
      "cell_type": "code",
      "source": [
        "# Save pic in HTML\n",
        "if SaveFile == True:\n",
        "  AccLossPngOutput = os.path.join(outputPath,'results.html')\n",
        "  fig.write_html(AccLossPngOutput)\n",
        "  # Convert to PNG\n",
        "  AccLossPngOutputPNG = os.path.join(outputPath,'results.png')\n",
        "  \n",
        "  # Load an existing Word document\n",
        "  #doc = aw.Document(AccLossPngOutput)\n",
        "  # Specify image save options\n",
        "  # Set save format as PNG\n",
        "  #imageOptions = aw.saving.ImageSaveOptions(aw.SaveFormat.PNG)\n",
        "  # Save the pages as PNG\n",
        "  #doc.save(AccLossPngOutputPNG, imageOptions)\n",
        "  print('Image Saved')"
      ],
      "metadata": {
        "colab": {
          "base_uri": "https://localhost:8080/"
        },
        "id": "wnMBGtUzDVHr",
        "outputId": "0f8d2dbc-deb5-402c-b2ec-d33762b2a990"
      },
      "execution_count": 665,
      "outputs": [
        {
          "output_type": "stream",
          "name": "stdout",
          "text": [
            "Image Saved\n"
          ]
        }
      ]
    },
    {
      "cell_type": "markdown",
      "metadata": {
        "id": "psSaogYhS94c"
      },
      "source": [
        "Export Results to Google Drive"
      ]
    },
    {
      "cell_type": "code",
      "execution_count": 666,
      "metadata": {
        "id": "jOmJcmE4eVTE"
      },
      "outputs": [],
      "source": [
        "# ⭐: log metrics using wandb.log\n",
        "# wandb.log({'epochs': EPOCHS,\n",
        "#            'loss': loss_values,\n",
        "#            'acc': acc_values, \n",
        "#            'val_loss': val_loss_values,\n",
        "#            'val_acc':val_acc_values})"
      ]
    },
    {
      "cell_type": "code",
      "execution_count": 667,
      "metadata": {
        "id": "1wZf15D4QHVy",
        "colab": {
          "base_uri": "https://localhost:8080/"
        },
        "outputId": "a646ac0b-e523-4d41-a929-71f11f60e3d0"
      },
      "outputs": [
        {
          "output_type": "stream",
          "name": "stdout",
          "text": [
            "Final loss: 0.436006, final accuracy: 0.911111\n"
          ]
        }
      ],
      "source": [
        "# Compute the final loss and accuracy\n",
        "final_loss, final_acc = model.evaluate(valid_dataset, verbose=0)\n",
        "print(\"Final loss: {0:.6f}, final accuracy: {1:.6f}\".format(final_loss, final_acc))"
      ]
    },
    {
      "cell_type": "code",
      "execution_count": 668,
      "metadata": {
        "id": "kGIMxaGmYvsM",
        "colab": {
          "base_uri": "https://localhost:8080/"
        },
        "outputId": "32b2499b-bdaa-4a5d-8019-193efab1920d"
      },
      "outputs": [
        {
          "output_type": "stream",
          "name": "stdout",
          "text": [
            "Runtime:\n",
            "--- 1056.1349654197693 seconds ---\n",
            "--- 17.602249423662823 minutes ---\n"
          ]
        }
      ],
      "source": [
        "runtime = time.time() - start_time\n",
        "\n",
        "print('Runtime:')\n",
        "print(\"--- %s seconds ---\" % (runtime))\n",
        "print(\"--- %s minutes ---\" % ((runtime)/60))"
      ]
    },
    {
      "cell_type": "code",
      "execution_count": 669,
      "metadata": {
        "id": "68lcys2S5p9E"
      },
      "outputs": [],
      "source": [
        "# dictionary of lists  \n",
        "InfoDict = {'IMAGE_HEIGHT':[IMAGE_HEIGHT], 'IMAGE_WIDTH':[IMAGE_WIDTH],\n",
        "              'BATCH_SIZE': [BATCH_SIZE], 'N_CHANNELS': [N_CHANNELS], 'N_CLASSES': [N_CLASSES],\n",
        "              'EPOCHS':[EPOCHS], 'VAL_SPLIT': [VAL_SPLIT], 'MODE': MODE,\n",
        "              'FINAL VALIDATION LOSS': [final_loss], 'FINAL VALIDATION ACC': [final_acc],\n",
        "              'RUNTIME (s)': [runtime], 'RUNTIME (min)': [runtime/60]\n",
        "              }\n",
        "InfoDict\n",
        "dfInfo = pd.DataFrame(InfoDict)\n",
        "dfInfo.index = ['CNN']\n",
        "# saving the dataframe \n",
        "outputName = 'Model_Info_and_Performance.xlsx'\n",
        "OutputFileName = os.path.join(outputPath,outputName)\n",
        "if SaveFile == True:\n",
        "  # writing to Excel\n",
        "  dfInfo.to_excel(OutputFileName)"
      ]
    },
    {
      "cell_type": "code",
      "execution_count": 670,
      "metadata": {
        "id": "g4K3KSjgzu7C"
      },
      "outputs": [],
      "source": [
        "# dictionary of lists  \n",
        "OutputDict = {'Train_ACC':acc_values, 'Train_LOSS':loss_values, \n",
        "              'Test_ACC': val_acc_values, 'Test_LOSS': val_loss_values}\n",
        "dfResult = pd.DataFrame(OutputDict) \n",
        "# saving the dataframe \n",
        "outputName = 'Risultati'\n",
        "OutputFileName = outputPath+'/'+outputName+'.xlsx'\n",
        "dfResult.to_excel(OutputFileName) "
      ]
    },
    {
      "cell_type": "code",
      "execution_count": 671,
      "metadata": {
        "id": "CJnUc6p7ll4Z",
        "colab": {
          "base_uri": "https://localhost:8080/"
        },
        "outputId": "20120180-0a0e-4755-9507-b4bad66ca01e"
      },
      "outputs": [
        {
          "output_type": "stream",
          "name": "stdout",
          "text": [
            "Model: \"sequential_147\"\n",
            "_________________________________________________________________\n",
            " Layer (type)                Output Shape              Param #   \n",
            "=================================================================\n",
            " conv2d_57 (Conv2D)          (None, 128, 128, 32)      896       \n",
            "                                                                 \n",
            " max_pooling2d_57 (MaxPoolin  (None, 64, 64, 32)       0         \n",
            " g2D)                                                            \n",
            "                                                                 \n",
            " conv2d_58 (Conv2D)          (None, 64, 64, 64)        18496     \n",
            "                                                                 \n",
            " max_pooling2d_58 (MaxPoolin  (None, 32, 32, 64)       0         \n",
            " g2D)                                                            \n",
            "                                                                 \n",
            " conv2d_59 (Conv2D)          (None, 32, 32, 128)       73856     \n",
            "                                                                 \n",
            " max_pooling2d_59 (MaxPoolin  (None, 16, 16, 128)      0         \n",
            " g2D)                                                            \n",
            "                                                                 \n",
            " flatten_19 (Flatten)        (None, 32768)             0         \n",
            "                                                                 \n",
            " dense_38 (Dense)            (None, 256)               8388864   \n",
            "                                                                 \n",
            " dense_39 (Dense)            (None, 2)                 514       \n",
            "                                                                 \n",
            "=================================================================\n",
            "Total params: 8,482,626\n",
            "Trainable params: 8,482,626\n",
            "Non-trainable params: 0\n",
            "_________________________________________________________________\n",
            "Model: \"sequential_147\"\n",
            "_________________________________________________________________\n",
            " Layer (type)                Output Shape              Param #   \n",
            "=================================================================\n",
            " conv2d_57 (Conv2D)          (None, 128, 128, 32)      896       \n",
            "                                                                 \n",
            " max_pooling2d_57 (MaxPoolin  (None, 64, 64, 32)       0         \n",
            " g2D)                                                            \n",
            "                                                                 \n",
            " conv2d_58 (Conv2D)          (None, 64, 64, 64)        18496     \n",
            "                                                                 \n",
            " max_pooling2d_58 (MaxPoolin  (None, 32, 32, 64)       0         \n",
            " g2D)                                                            \n",
            "                                                                 \n",
            " conv2d_59 (Conv2D)          (None, 32, 32, 128)       73856     \n",
            "                                                                 \n",
            " max_pooling2d_59 (MaxPoolin  (None, 16, 16, 128)      0         \n",
            " g2D)                                                            \n",
            "                                                                 \n",
            " flatten_19 (Flatten)        (None, 32768)             0         \n",
            "                                                                 \n",
            " dense_38 (Dense)            (None, 256)               8388864   \n",
            "                                                                 \n",
            " dense_39 (Dense)            (None, 2)                 514       \n",
            "                                                                 \n",
            "=================================================================\n",
            "Total params: 8,482,626\n",
            "Trainable params: 8,482,626\n",
            "Non-trainable params: 0\n",
            "_________________________________________________________________\n"
          ]
        }
      ],
      "source": [
        "Summary = os.path.join(outputPath,'modelsummary.txt')\n",
        "modelInfo = model.summary()\n",
        "\n",
        "stringlist = []\n",
        "model.summary(print_fn=lambda x: stringlist.append(x))\n",
        "short_model_summary = \"\\n\".join(stringlist)\n",
        "print(short_model_summary)\n",
        "\n",
        "with open(Summary, 'w') as f:\n",
        "  # Pass the file handle in as a lambda function to make it callable\n",
        "  f.write(short_model_summary)"
      ]
    },
    {
      "cell_type": "code",
      "execution_count": 672,
      "metadata": {
        "id": "FYy0getAmjMT",
        "colab": {
          "base_uri": "https://localhost:8080/",
          "height": 1000
        },
        "outputId": "68d21e5f-7073-410d-8275-17d7f9abe2cc"
      },
      "outputs": [
        {
          "output_type": "execute_result",
          "data": {
            "image/png": "[encoded data removed]",
            "text/plain": [
              "<IPython.core.display.Image object>"
            ]
          },
          "metadata": {},
          "execution_count": 672
        }
      ],
      "source": [
        "pngOutput = os.path.join(outputPath,'model_plot.png')\n",
        "plot_model(model, to_file=pngOutput, show_shapes=True, show_layer_names=False)"
      ]
    }
  ],
  "metadata": {
    "colab": {
      "collapsed_sections": [],
      "provenance": [],
      "mount_file_id": "1uPNwyh2BXmiKoSVMuiOKvsJ_AV9BbgoV",
      "authorship_tag": "ABX9TyMKFiQc96Lty7YuY34xROBP",
      "include_colab_link": true
    },
    "kernelspec": {
      "display_name": "Python 3",
      "name": "python3"
    },
    "language_info": {
      "name": "python"
    }
  },
  "nbformat": 4,
  "nbformat_minor": 0
}