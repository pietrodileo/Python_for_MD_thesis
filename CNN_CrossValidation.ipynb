{
  "metadata": {
    "kernelspec": {
      "display_name": "Python 3",
      "language": "python",
      "name": "python3"
    },
    "language_info": {
      "name": "python",
      "version": "3.7.12",
      "mimetype": "text/x-python",
      "codemirror_mode": {
        "name": "ipython",
        "version": 3
      },
      "pygments_lexer": "ipython3",
      "nbconvert_exporter": "python",
      "file_extension": ".py"
    },
    "colab": {
      "provenance": [],
      "include_colab_link": true
    },
    "accelerator": "GPU",
    "gpuClass": "standard"
  },
  "nbformat_minor": 0,
  "nbformat": 4,
  "cells": [
    {
      "cell_type": "markdown",
      "metadata": {
        "id": "view-in-github",
        "colab_type": "text"
      },
      "source": [
        "<a href=\"https://colab.research.google.com/github/pietrodileo/Python_for_MD_thesis/blob/main/CNN_CrossValidation.ipynb\" target=\"_parent\"><img src=\"https://colab.research.google.com/assets/colab-badge.svg\" alt=\"Open In Colab\"/></a>"
      ]
    },
    {
      "cell_type": "markdown",
      "metadata": {
        "id": "5D_LUG6ajBr6"
      },
      "source": [
        "# 📚 Import Libraries"
      ]
    },
    {
      "cell_type": "code",
      "source": [
        "import pandas as pd\n",
        "import numpy as np\n",
        "from PIL import Image\n",
        "import cv2\n",
        "\n",
        "# !pip install tensorflow==2.8\n",
        "# !apt install --allow-change-held-packages libcudnn8=8.1.0.77-1+cuda11.2\n",
        "\n",
        "import matplotlib.pyplot as plt\n",
        "import seaborn as sns\n",
        "import matplotlib.image as mimg\n",
        "%matplotlib inline\n",
        "plt.rcParams[\"figure.figsize\"] = (10,7)\n",
        "from scipy import misc\n",
        "import sklearn\n",
        "import os\n",
        "\n",
        "from sklearn.model_selection import train_test_split\n",
        "from sklearn.metrics import classification_report, confusion_matrix\n",
        "\n",
        "# DEEP LEARNING IMPORTS\n",
        "from keras.models import Sequential, load_model\n",
        "from keras.layers import Dense, Conv2D, Activation, Dropout, Flatten, MaxPooling2D\n",
        "from keras.callbacks import ModelCheckpoint, EarlyStopping\n",
        "\n",
        "import numpy as np\n",
        "import pandas as pd\n",
        "import tensorflow as tf\n",
        "import matplotlib.pyplot as plt\n",
        "import seaborn as sns\n",
        "import os\n",
        "import wave\n",
        "import pylab\n",
        "import sys\n",
        "from pathlib import Path\n",
        "from scipy import signal\n",
        "from scipy.io import wavfile\n",
        "from sklearn.metrics import confusion_matrix\n",
        "from keras.utils.vis_utils import plot_model\n",
        "import itertools\n",
        "import time\n",
        "import shutil\n",
        "import plotly.express as px\n",
        "import plotly.graph_objects as go\n",
        "from plotly.subplots import make_subplots\n",
        "from keras.callbacks import EarlyStopping, ModelCheckpoint, ReduceLROnPlateau\n",
        "!pip install pyyaml h5py  # Required to save models in HDF5 format\n",
        "\n",
        "!pip install -U kaleido\n",
        "#need to restart runtime after install kaleido\n",
        "import kaleido\n",
        "import plotly.express as px"
      ],
      "metadata": {
        "_uuid": "65722d537da78dcc7ba4b366ff6169ba3c3b5878",
        "execution": {
          "iopub.status.busy": "2022-11-19T18:10:51.611503Z",
          "iopub.execute_input": "2022-11-19T18:10:51.611997Z",
          "iopub.status.idle": "2022-11-19T18:10:58.208731Z",
          "shell.execute_reply.started": "2022-11-19T18:10:51.611901Z",
          "shell.execute_reply": "2022-11-19T18:10:58.207749Z"
        },
        "trusted": true,
        "id": "uCLXE1FpqEfa",
        "colab": {
          "base_uri": "https://localhost:8080/"
        },
        "outputId": "01af6338-c75b-4686-d8c7-64cbd2547585"
      },
      "execution_count": 79,
      "outputs": [
        {
          "output_type": "stream",
          "name": "stdout",
          "text": [
            "Looking in indexes: https://pypi.org/simple, https://us-python.pkg.dev/colab-wheels/public/simple/\n",
            "Requirement already satisfied: pyyaml in /usr/local/lib/python3.7/dist-packages (6.0)\n",
            "Requirement already satisfied: h5py in /usr/local/lib/python3.7/dist-packages (3.1.0)\n",
            "Requirement already satisfied: cached-property in /usr/local/lib/python3.7/dist-packages (from h5py) (1.5.2)\n",
            "Requirement already satisfied: numpy>=1.14.5 in /usr/local/lib/python3.7/dist-packages (from h5py) (1.21.6)\n",
            "Looking in indexes: https://pypi.org/simple, https://us-python.pkg.dev/colab-wheels/public/simple/\n",
            "Requirement already satisfied: kaleido in /usr/local/lib/python3.7/dist-packages (0.2.1)\n"
          ]
        }
      ]
    },
    {
      "cell_type": "code",
      "execution_count": 80,
      "metadata": {
        "colab": {
          "base_uri": "https://localhost:8080/"
        },
        "id": "h_DLosRPGDYt",
        "outputId": "35fdff90-79b3-4b3d-ac81-a04d81fb1b93"
      },
      "outputs": [
        {
          "output_type": "stream",
          "name": "stdout",
          "text": [
            "Drive already mounted at /content/drive; to attempt to forcibly remount, call drive.mount(\"/content/drive\", force_remount=True).\n"
          ]
        }
      ],
      "source": [
        "from google.colab import drive\n",
        "drive.mount('/content/drive')"
      ]
    },
    {
      "cell_type": "markdown",
      "metadata": {
        "id": "hXkgG5HUmPT_"
      },
      "source": [
        "# ⏰ Execution time"
      ]
    },
    {
      "cell_type": "code",
      "execution_count": 81,
      "metadata": {
        "id": "qO4vy4vnmPT_"
      },
      "outputs": [],
      "source": [
        "start_time = time.time()"
      ]
    },
    {
      "cell_type": "markdown",
      "metadata": {
        "id": "23au7CTGmPwn"
      },
      "source": [
        "# 🛫 Define Training Parameters"
      ]
    },
    {
      "cell_type": "code",
      "source": [
        "#@title Declare Constants\n",
        "#@markdown ---\n",
        "fileName = 'C1' #@param {type: \"string\"}\n",
        "# K fold CrossValidation\n",
        "k = 10 #@param {type: \"number\"}\n",
        "num_cnn_layers = 4 #@param {type: \"number\"}\n",
        "IMAGE_HEIGHT = 256 #@param {type: \"number\"}\n",
        "IMAGE_WIDTH = 256 #@param {type: \"number\"}\n",
        "BATCH_SIZE = 32 #@param {type: \"slider\", min: 1, max: 256}\n",
        "EPOCHS = 100  #@param {type: \"number\"}\n",
        "VAL_SPLIT = 0.2  #@param {type: \"slider\", min: 0, max: 1, step:0.05}\n",
        "MODE = \"grayscale\"  #@param ['rgb', 'rgba', 'grayscale']\n",
        "SaveFile = True #@param {type: \"boolean\"}\n",
        "#@markdown ---"
      ],
      "metadata": {
        "cellView": "form",
        "id": "ZmCt0SjERi6F"
      },
      "execution_count": 82,
      "outputs": []
    },
    {
      "cell_type": "markdown",
      "source": [
        "# 📑 Unzip Directory"
      ],
      "metadata": {
        "id": "zGE7Ppa0_-0x"
      }
    },
    {
      "cell_type": "code",
      "source": [
        "TASK = str(EPOCHS) + 'EP_' + str(num_cnn_layers) + 'conv_' + 'Batch' + str(BATCH_SIZE) + '_adam_' + fileName  \n",
        "TASK"
      ],
      "metadata": {
        "colab": {
          "base_uri": "https://localhost:8080/",
          "height": 36
        },
        "id": "CkX_IxVflcME",
        "outputId": "7445f83d-b9b6-4c92-b924-39be03bcfd8a"
      },
      "execution_count": 83,
      "outputs": [
        {
          "output_type": "execute_result",
          "data": {
            "text/plain": [
              "'100EP_4conv_Batch32_adam_C1'"
            ],
            "application/vnd.google.colaboratory.intrinsic+json": {
              "type": "string"
            }
          },
          "metadata": {},
          "execution_count": 83
        }
      ]
    },
    {
      "cell_type": "code",
      "source": [
        "zipfile = fileName + '.zip'\n",
        "directory = '/content/drive/MyDrive/TesiMagistrale/outputSpectrogram/CNN_TrainingIMGs/BW/'\n",
        "\n",
        "zipPath = os.path.join(directory,zipfile)\n",
        "outputDir = os.path.join(directory,'Risultati')\n",
        "outputPath = os.path.join(outputDir,TASK)\n",
        "\n",
        "if not os.path.exists(outputPath):\n",
        "   # Create a new directory because it does not exist\n",
        "   os.makedirs(outputPath)\n",
        "   print(\"The output folder has been created!\")\n",
        "\n",
        "# Location of Zip File\n",
        "drive_path = zipPath\n",
        "local_path = '/content'\n",
        "\n",
        "zipCopyPath = os.path.join(local_path,zipfile)\n",
        "if not os.path.exists(zipCopyPath):\n",
        "  # Copy the zip file and move it up one level (AKA out of the drive folder)\n",
        "  !cp '{drive_path}' .\n",
        "else:\n",
        "  print('Files already transferred from Drive')\n",
        "\n",
        "if not os.path.exists(fileName):\n",
        "  # Navigate to the copied file and unzip it quietly\n",
        "  os.chdir(local_path)\n",
        "  !unzip -q '{zipfile}'\n",
        "else:\n",
        "  print('Files already unzipped')\n",
        "# change directory to the new one\n",
        "NewDir = os.path.join(local_path,fileName)"
      ],
      "metadata": {
        "colab": {
          "base_uri": "https://localhost:8080/"
        },
        "id": "rPxF12p4q-av",
        "outputId": "a24edc3e-b6e4-4806-9d8b-0ad6bc7c1a22"
      },
      "execution_count": 84,
      "outputs": [
        {
          "output_type": "stream",
          "name": "stdout",
          "text": [
            "Files already transferred from Drive\n",
            "Files already unzipped\n"
          ]
        }
      ]
    },
    {
      "cell_type": "markdown",
      "source": [
        "# 🎨 Extract image path"
      ],
      "metadata": {
        "id": "hK9jDP3IABwS"
      }
    },
    {
      "cell_type": "code",
      "source": [
        "valid_formats = [\".png\"]\n",
        "pathlist = []\n",
        "classnames = []\n",
        "labVec = []\n",
        "istanceVec = []\n",
        "lablist = []\n",
        "#dataclass = []\n",
        "#dataAll = []\n",
        "for folders in os.listdir(NewDir):\n",
        "  # select a subfolder\n",
        "  subfolder = os.path.join(NewDir,folders)\n",
        "  # select all the records in the subfolder\n",
        "  print('reading folder: '+ subfolder)\n",
        "  subfolderList = []\n",
        "  subfolderlabel = []\n",
        "  pathVec = []\n",
        "  for filename in os.listdir(subfolder):\n",
        "    file_format = os.path.splitext(filename)[1] \n",
        "    if file_format.lower() in valid_formats:\n",
        "      subfolderList.append(filename)\n",
        "      currClass = os.path.split(subfolder)[1]\n",
        "      labVec.append(currClass)\n",
        "      istanceVec.append(filename)\n",
        "      # extract file path\n",
        "      pathVec.append(os.path.join(subfolder,filename))\n",
        "      subfolderlabel.append(currClass)\n",
        "\n",
        "  pathlist.append(pathVec)\n",
        "  lablist.append(subfolderlabel)\n",
        "  classnames.append(currClass)"
      ],
      "metadata": {
        "_uuid": "403653e11ba61227a2f3e327f804362326dab5d7",
        "execution": {
          "iopub.status.busy": "2022-11-19T18:10:58.210676Z",
          "iopub.execute_input": "2022-11-19T18:10:58.211416Z",
          "iopub.status.idle": "2022-11-19T18:10:58.219449Z",
          "shell.execute_reply.started": "2022-11-19T18:10:58.211378Z",
          "shell.execute_reply": "2022-11-19T18:10:58.217405Z"
        },
        "trusted": true,
        "colab": {
          "base_uri": "https://localhost:8080/"
        },
        "id": "dbwLBDaVqEfc",
        "outputId": "1b523e89-9970-4985-b2a9-d40be01d6844"
      },
      "execution_count": 85,
      "outputs": [
        {
          "output_type": "stream",
          "name": "stdout",
          "text": [
            "reading folder: /content/C1/class_advanced_PD-OFF\n",
            "reading folder: /content/C1/class_HealthyControl\n"
          ]
        }
      ]
    },
    {
      "cell_type": "markdown",
      "source": [
        "##Information about Data"
      ],
      "metadata": {
        "id": "qxekOH2Zmp6p"
      }
    },
    {
      "cell_type": "code",
      "source": [
        "pathColumns = pd.DataFrame(pathlist)\n",
        "pathColumns = pathColumns.transpose()\n",
        "pathColumns.columns = classnames\n",
        "pathColumns.head(5)"
      ],
      "metadata": {
        "colab": {
          "base_uri": "https://localhost:8080/",
          "height": 206
        },
        "id": "ZSGt2IbhFhyq",
        "outputId": "558dcaa9-995c-4c91-8b51-c15b5225aa98"
      },
      "execution_count": 86,
      "outputs": [
        {
          "output_type": "execute_result",
          "data": {
            "text/plain": [
              "                               class_advanced_PD-OFF  \\\n",
              "0  /content/C1/class_advanced_PD-OFF/PD_OFF_TesiP...   \n",
              "1  /content/C1/class_advanced_PD-OFF/PD_OFF_TesiP...   \n",
              "2  /content/C1/class_advanced_PD-OFF/PD_OFF_TesiP...   \n",
              "3  /content/C1/class_advanced_PD-OFF/PD_OFF_TesiP...   \n",
              "4  /content/C1/class_advanced_PD-OFF/PD_OFF_TesiP...   \n",
              "\n",
              "                                class_HealthyControl  \n",
              "0  /content/C1/class_HealthyControl/HC_TesiPDL_Vo...  \n",
              "1  /content/C1/class_HealthyControl/HC_TesiPDL_Vo...  \n",
              "2  /content/C1/class_HealthyControl/HC_TesiPDL_Vo...  \n",
              "3  /content/C1/class_HealthyControl/HC_TesiPDL_Vo...  \n",
              "4  /content/C1/class_HealthyControl/HC_TesiPDL_Vo...  "
            ],
            "text/html": [
              "\n",
              "  <div id=\"df-1aa1c0ab-f63d-4ee4-92bb-ab50cbefe154\">\n",
              "    <div class=\"colab-df-container\">\n",
              "      <div>\n",
              "<style scoped>\n",
              "    .dataframe tbody tr th:only-of-type {\n",
              "        vertical-align: middle;\n",
              "    }\n",
              "\n",
              "    .dataframe tbody tr th {\n",
              "        vertical-align: top;\n",
              "    }\n",
              "\n",
              "    .dataframe thead th {\n",
              "        text-align: right;\n",
              "    }\n",
              "</style>\n",
              "<table border=\"1\" class=\"dataframe\">\n",
              "  <thead>\n",
              "    <tr style=\"text-align: right;\">\n",
              "      <th></th>\n",
              "      <th>class_advanced_PD-OFF</th>\n",
              "      <th>class_HealthyControl</th>\n",
              "    </tr>\n",
              "  </thead>\n",
              "  <tbody>\n",
              "    <tr>\n",
              "      <th>0</th>\n",
              "      <td>/content/C1/class_advanced_PD-OFF/PD_OFF_TesiP...</td>\n",
              "      <td>/content/C1/class_HealthyControl/HC_TesiPDL_Vo...</td>\n",
              "    </tr>\n",
              "    <tr>\n",
              "      <th>1</th>\n",
              "      <td>/content/C1/class_advanced_PD-OFF/PD_OFF_TesiP...</td>\n",
              "      <td>/content/C1/class_HealthyControl/HC_TesiPDL_Vo...</td>\n",
              "    </tr>\n",
              "    <tr>\n",
              "      <th>2</th>\n",
              "      <td>/content/C1/class_advanced_PD-OFF/PD_OFF_TesiP...</td>\n",
              "      <td>/content/C1/class_HealthyControl/HC_TesiPDL_Vo...</td>\n",
              "    </tr>\n",
              "    <tr>\n",
              "      <th>3</th>\n",
              "      <td>/content/C1/class_advanced_PD-OFF/PD_OFF_TesiP...</td>\n",
              "      <td>/content/C1/class_HealthyControl/HC_TesiPDL_Vo...</td>\n",
              "    </tr>\n",
              "    <tr>\n",
              "      <th>4</th>\n",
              "      <td>/content/C1/class_advanced_PD-OFF/PD_OFF_TesiP...</td>\n",
              "      <td>/content/C1/class_HealthyControl/HC_TesiPDL_Vo...</td>\n",
              "    </tr>\n",
              "  </tbody>\n",
              "</table>\n",
              "</div>\n",
              "      <button class=\"colab-df-convert\" onclick=\"convertToInteractive('df-1aa1c0ab-f63d-4ee4-92bb-ab50cbefe154')\"\n",
              "              title=\"Convert this dataframe to an interactive table.\"\n",
              "              style=\"display:none;\">\n",
              "        \n",
              "  <svg xmlns=\"http://www.w3.org/2000/svg\" height=\"24px\"viewBox=\"0 0 24 24\"\n",
              "       width=\"24px\">\n",
              "    <path d=\"M0 0h24v24H0V0z\" fill=\"none\"/>\n",
              "    <path d=\"M18.56 5.44l.94 2.06.94-2.06 2.06-.94-2.06-.94-.94-2.06-.94 2.06-2.06.94zm-11 1L8.5 8.5l.94-2.06 2.06-.94-2.06-.94L8.5 2.5l-.94 2.06-2.06.94zm10 10l.94 2.06.94-2.06 2.06-.94-2.06-.94-.94-2.06-.94 2.06-2.06.94z\"/><path d=\"M17.41 7.96l-1.37-1.37c-.4-.4-.92-.59-1.43-.59-.52 0-1.04.2-1.43.59L10.3 9.45l-7.72 7.72c-.78.78-.78 2.05 0 2.83L4 21.41c.39.39.9.59 1.41.59.51 0 1.02-.2 1.41-.59l7.78-7.78 2.81-2.81c.8-.78.8-2.07 0-2.86zM5.41 20L4 18.59l7.72-7.72 1.47 1.35L5.41 20z\"/>\n",
              "  </svg>\n",
              "      </button>\n",
              "      \n",
              "  <style>\n",
              "    .colab-df-container {\n",
              "      display:flex;\n",
              "      flex-wrap:wrap;\n",
              "      gap: 12px;\n",
              "    }\n",
              "\n",
              "    .colab-df-convert {\n",
              "      background-color: #E8F0FE;\n",
              "      border: none;\n",
              "      border-radius: 50%;\n",
              "      cursor: pointer;\n",
              "      display: none;\n",
              "      fill: #1967D2;\n",
              "      height: 32px;\n",
              "      padding: 0 0 0 0;\n",
              "      width: 32px;\n",
              "    }\n",
              "\n",
              "    .colab-df-convert:hover {\n",
              "      background-color: #E2EBFA;\n",
              "      box-shadow: 0px 1px 2px rgba(60, 64, 67, 0.3), 0px 1px 3px 1px rgba(60, 64, 67, 0.15);\n",
              "      fill: #174EA6;\n",
              "    }\n",
              "\n",
              "    [theme=dark] .colab-df-convert {\n",
              "      background-color: #3B4455;\n",
              "      fill: #D2E3FC;\n",
              "    }\n",
              "\n",
              "    [theme=dark] .colab-df-convert:hover {\n",
              "      background-color: #434B5C;\n",
              "      box-shadow: 0px 1px 3px 1px rgba(0, 0, 0, 0.15);\n",
              "      filter: drop-shadow(0px 1px 2px rgba(0, 0, 0, 0.3));\n",
              "      fill: #FFFFFF;\n",
              "    }\n",
              "  </style>\n",
              "\n",
              "      <script>\n",
              "        const buttonEl =\n",
              "          document.querySelector('#df-1aa1c0ab-f63d-4ee4-92bb-ab50cbefe154 button.colab-df-convert');\n",
              "        buttonEl.style.display =\n",
              "          google.colab.kernel.accessAllowed ? 'block' : 'none';\n",
              "\n",
              "        async function convertToInteractive(key) {\n",
              "          const element = document.querySelector('#df-1aa1c0ab-f63d-4ee4-92bb-ab50cbefe154');\n",
              "          const dataTable =\n",
              "            await google.colab.kernel.invokeFunction('convertToInteractive',\n",
              "                                                     [key], {});\n",
              "          if (!dataTable) return;\n",
              "\n",
              "          const docLinkHtml = 'Like what you see? Visit the ' +\n",
              "            '<a target=\"_blank\" href=https://colab.research.google.com/notebooks/data_table.ipynb>data table notebook</a>'\n",
              "            + ' to learn more about interactive tables.';\n",
              "          element.innerHTML = '';\n",
              "          dataTable['output_type'] = 'display_data';\n",
              "          await google.colab.output.renderOutput(dataTable, element);\n",
              "          const docLink = document.createElement('div');\n",
              "          docLink.innerHTML = docLinkHtml;\n",
              "          element.appendChild(docLink);\n",
              "        }\n",
              "      </script>\n",
              "    </div>\n",
              "  </div>\n",
              "  "
            ]
          },
          "metadata": {},
          "execution_count": 86
        }
      ]
    },
    {
      "cell_type": "code",
      "source": [
        "labColumns = pd.DataFrame(lablist)\n",
        "labColumns = labColumns.transpose()\n",
        "labColumns.columns = classnames\n",
        "labColumns.head(2)"
      ],
      "metadata": {
        "colab": {
          "base_uri": "https://localhost:8080/",
          "height": 112
        },
        "id": "2nI1cJP9Ksoj",
        "outputId": "29038582-d8e8-4efc-b7b2-33096ead0b36"
      },
      "execution_count": 87,
      "outputs": [
        {
          "output_type": "execute_result",
          "data": {
            "text/plain": [
              "   class_advanced_PD-OFF  class_HealthyControl\n",
              "0  class_advanced_PD-OFF  class_HealthyControl\n",
              "1  class_advanced_PD-OFF  class_HealthyControl"
            ],
            "text/html": [
              "\n",
              "  <div id=\"df-8f1ae239-76b1-443f-8bde-281d374fca8b\">\n",
              "    <div class=\"colab-df-container\">\n",
              "      <div>\n",
              "<style scoped>\n",
              "    .dataframe tbody tr th:only-of-type {\n",
              "        vertical-align: middle;\n",
              "    }\n",
              "\n",
              "    .dataframe tbody tr th {\n",
              "        vertical-align: top;\n",
              "    }\n",
              "\n",
              "    .dataframe thead th {\n",
              "        text-align: right;\n",
              "    }\n",
              "</style>\n",
              "<table border=\"1\" class=\"dataframe\">\n",
              "  <thead>\n",
              "    <tr style=\"text-align: right;\">\n",
              "      <th></th>\n",
              "      <th>class_advanced_PD-OFF</th>\n",
              "      <th>class_HealthyControl</th>\n",
              "    </tr>\n",
              "  </thead>\n",
              "  <tbody>\n",
              "    <tr>\n",
              "      <th>0</th>\n",
              "      <td>class_advanced_PD-OFF</td>\n",
              "      <td>class_HealthyControl</td>\n",
              "    </tr>\n",
              "    <tr>\n",
              "      <th>1</th>\n",
              "      <td>class_advanced_PD-OFF</td>\n",
              "      <td>class_HealthyControl</td>\n",
              "    </tr>\n",
              "  </tbody>\n",
              "</table>\n",
              "</div>\n",
              "      <button class=\"colab-df-convert\" onclick=\"convertToInteractive('df-8f1ae239-76b1-443f-8bde-281d374fca8b')\"\n",
              "              title=\"Convert this dataframe to an interactive table.\"\n",
              "              style=\"display:none;\">\n",
              "        \n",
              "  <svg xmlns=\"http://www.w3.org/2000/svg\" height=\"24px\"viewBox=\"0 0 24 24\"\n",
              "       width=\"24px\">\n",
              "    <path d=\"M0 0h24v24H0V0z\" fill=\"none\"/>\n",
              "    <path d=\"M18.56 5.44l.94 2.06.94-2.06 2.06-.94-2.06-.94-.94-2.06-.94 2.06-2.06.94zm-11 1L8.5 8.5l.94-2.06 2.06-.94-2.06-.94L8.5 2.5l-.94 2.06-2.06.94zm10 10l.94 2.06.94-2.06 2.06-.94-2.06-.94-.94-2.06-.94 2.06-2.06.94z\"/><path d=\"M17.41 7.96l-1.37-1.37c-.4-.4-.92-.59-1.43-.59-.52 0-1.04.2-1.43.59L10.3 9.45l-7.72 7.72c-.78.78-.78 2.05 0 2.83L4 21.41c.39.39.9.59 1.41.59.51 0 1.02-.2 1.41-.59l7.78-7.78 2.81-2.81c.8-.78.8-2.07 0-2.86zM5.41 20L4 18.59l7.72-7.72 1.47 1.35L5.41 20z\"/>\n",
              "  </svg>\n",
              "      </button>\n",
              "      \n",
              "  <style>\n",
              "    .colab-df-container {\n",
              "      display:flex;\n",
              "      flex-wrap:wrap;\n",
              "      gap: 12px;\n",
              "    }\n",
              "\n",
              "    .colab-df-convert {\n",
              "      background-color: #E8F0FE;\n",
              "      border: none;\n",
              "      border-radius: 50%;\n",
              "      cursor: pointer;\n",
              "      display: none;\n",
              "      fill: #1967D2;\n",
              "      height: 32px;\n",
              "      padding: 0 0 0 0;\n",
              "      width: 32px;\n",
              "    }\n",
              "\n",
              "    .colab-df-convert:hover {\n",
              "      background-color: #E2EBFA;\n",
              "      box-shadow: 0px 1px 2px rgba(60, 64, 67, 0.3), 0px 1px 3px 1px rgba(60, 64, 67, 0.15);\n",
              "      fill: #174EA6;\n",
              "    }\n",
              "\n",
              "    [theme=dark] .colab-df-convert {\n",
              "      background-color: #3B4455;\n",
              "      fill: #D2E3FC;\n",
              "    }\n",
              "\n",
              "    [theme=dark] .colab-df-convert:hover {\n",
              "      background-color: #434B5C;\n",
              "      box-shadow: 0px 1px 3px 1px rgba(0, 0, 0, 0.15);\n",
              "      filter: drop-shadow(0px 1px 2px rgba(0, 0, 0, 0.3));\n",
              "      fill: #FFFFFF;\n",
              "    }\n",
              "  </style>\n",
              "\n",
              "      <script>\n",
              "        const buttonEl =\n",
              "          document.querySelector('#df-8f1ae239-76b1-443f-8bde-281d374fca8b button.colab-df-convert');\n",
              "        buttonEl.style.display =\n",
              "          google.colab.kernel.accessAllowed ? 'block' : 'none';\n",
              "\n",
              "        async function convertToInteractive(key) {\n",
              "          const element = document.querySelector('#df-8f1ae239-76b1-443f-8bde-281d374fca8b');\n",
              "          const dataTable =\n",
              "            await google.colab.kernel.invokeFunction('convertToInteractive',\n",
              "                                                     [key], {});\n",
              "          if (!dataTable) return;\n",
              "\n",
              "          const docLinkHtml = 'Like what you see? Visit the ' +\n",
              "            '<a target=\"_blank\" href=https://colab.research.google.com/notebooks/data_table.ipynb>data table notebook</a>'\n",
              "            + ' to learn more about interactive tables.';\n",
              "          element.innerHTML = '';\n",
              "          dataTable['output_type'] = 'display_data';\n",
              "          await google.colab.output.renderOutput(dataTable, element);\n",
              "          const docLink = document.createElement('div');\n",
              "          docLink.innerHTML = docLinkHtml;\n",
              "          element.appendChild(docLink);\n",
              "        }\n",
              "      </script>\n",
              "    </div>\n",
              "  </div>\n",
              "  "
            ]
          },
          "metadata": {},
          "execution_count": 87
        }
      ]
    },
    {
      "cell_type": "code",
      "source": [
        "dictionary = {'Istance': istanceVec,'Class': labVec}\n",
        "classVec = pd.DataFrame(data = dictionary)\n",
        "classVec.head(4)"
      ],
      "metadata": {
        "colab": {
          "base_uri": "https://localhost:8080/",
          "height": 175
        },
        "id": "fZfr8iVTHsuS",
        "outputId": "840175ff-f6bd-454b-d103-bf4226341977"
      },
      "execution_count": 88,
      "outputs": [
        {
          "output_type": "execute_result",
          "data": {
            "text/plain": [
              "                                             Istance                  Class\n",
              "0  PD_OFF_TesiPDL_VowelE_0022_FineCut_Short_Pitch...  class_advanced_PD-OFF\n",
              "1  PD_OFF_TesiPDL_VowelE_0040_FineCut_Short_Pitch...  class_advanced_PD-OFF\n",
              "2  PD_OFF_TesiPDL_VowelE_0036_FineCut_Short_FreqM...  class_advanced_PD-OFF\n",
              "3  PD_OFF_TesiPDL_VowelE_0048_FineCut_Short_Gauss...  class_advanced_PD-OFF"
            ],
            "text/html": [
              "\n",
              "  <div id=\"df-ef613a29-3bc7-49c5-ace9-189b35410b42\">\n",
              "    <div class=\"colab-df-container\">\n",
              "      <div>\n",
              "<style scoped>\n",
              "    .dataframe tbody tr th:only-of-type {\n",
              "        vertical-align: middle;\n",
              "    }\n",
              "\n",
              "    .dataframe tbody tr th {\n",
              "        vertical-align: top;\n",
              "    }\n",
              "\n",
              "    .dataframe thead th {\n",
              "        text-align: right;\n",
              "    }\n",
              "</style>\n",
              "<table border=\"1\" class=\"dataframe\">\n",
              "  <thead>\n",
              "    <tr style=\"text-align: right;\">\n",
              "      <th></th>\n",
              "      <th>Istance</th>\n",
              "      <th>Class</th>\n",
              "    </tr>\n",
              "  </thead>\n",
              "  <tbody>\n",
              "    <tr>\n",
              "      <th>0</th>\n",
              "      <td>PD_OFF_TesiPDL_VowelE_0022_FineCut_Short_Pitch...</td>\n",
              "      <td>class_advanced_PD-OFF</td>\n",
              "    </tr>\n",
              "    <tr>\n",
              "      <th>1</th>\n",
              "      <td>PD_OFF_TesiPDL_VowelE_0040_FineCut_Short_Pitch...</td>\n",
              "      <td>class_advanced_PD-OFF</td>\n",
              "    </tr>\n",
              "    <tr>\n",
              "      <th>2</th>\n",
              "      <td>PD_OFF_TesiPDL_VowelE_0036_FineCut_Short_FreqM...</td>\n",
              "      <td>class_advanced_PD-OFF</td>\n",
              "    </tr>\n",
              "    <tr>\n",
              "      <th>3</th>\n",
              "      <td>PD_OFF_TesiPDL_VowelE_0048_FineCut_Short_Gauss...</td>\n",
              "      <td>class_advanced_PD-OFF</td>\n",
              "    </tr>\n",
              "  </tbody>\n",
              "</table>\n",
              "</div>\n",
              "      <button class=\"colab-df-convert\" onclick=\"convertToInteractive('df-ef613a29-3bc7-49c5-ace9-189b35410b42')\"\n",
              "              title=\"Convert this dataframe to an interactive table.\"\n",
              "              style=\"display:none;\">\n",
              "        \n",
              "  <svg xmlns=\"http://www.w3.org/2000/svg\" height=\"24px\"viewBox=\"0 0 24 24\"\n",
              "       width=\"24px\">\n",
              "    <path d=\"M0 0h24v24H0V0z\" fill=\"none\"/>\n",
              "    <path d=\"M18.56 5.44l.94 2.06.94-2.06 2.06-.94-2.06-.94-.94-2.06-.94 2.06-2.06.94zm-11 1L8.5 8.5l.94-2.06 2.06-.94-2.06-.94L8.5 2.5l-.94 2.06-2.06.94zm10 10l.94 2.06.94-2.06 2.06-.94-2.06-.94-.94-2.06-.94 2.06-2.06.94z\"/><path d=\"M17.41 7.96l-1.37-1.37c-.4-.4-.92-.59-1.43-.59-.52 0-1.04.2-1.43.59L10.3 9.45l-7.72 7.72c-.78.78-.78 2.05 0 2.83L4 21.41c.39.39.9.59 1.41.59.51 0 1.02-.2 1.41-.59l7.78-7.78 2.81-2.81c.8-.78.8-2.07 0-2.86zM5.41 20L4 18.59l7.72-7.72 1.47 1.35L5.41 20z\"/>\n",
              "  </svg>\n",
              "      </button>\n",
              "      \n",
              "  <style>\n",
              "    .colab-df-container {\n",
              "      display:flex;\n",
              "      flex-wrap:wrap;\n",
              "      gap: 12px;\n",
              "    }\n",
              "\n",
              "    .colab-df-convert {\n",
              "      background-color: #E8F0FE;\n",
              "      border: none;\n",
              "      border-radius: 50%;\n",
              "      cursor: pointer;\n",
              "      display: none;\n",
              "      fill: #1967D2;\n",
              "      height: 32px;\n",
              "      padding: 0 0 0 0;\n",
              "      width: 32px;\n",
              "    }\n",
              "\n",
              "    .colab-df-convert:hover {\n",
              "      background-color: #E2EBFA;\n",
              "      box-shadow: 0px 1px 2px rgba(60, 64, 67, 0.3), 0px 1px 3px 1px rgba(60, 64, 67, 0.15);\n",
              "      fill: #174EA6;\n",
              "    }\n",
              "\n",
              "    [theme=dark] .colab-df-convert {\n",
              "      background-color: #3B4455;\n",
              "      fill: #D2E3FC;\n",
              "    }\n",
              "\n",
              "    [theme=dark] .colab-df-convert:hover {\n",
              "      background-color: #434B5C;\n",
              "      box-shadow: 0px 1px 3px 1px rgba(0, 0, 0, 0.15);\n",
              "      filter: drop-shadow(0px 1px 2px rgba(0, 0, 0, 0.3));\n",
              "      fill: #FFFFFF;\n",
              "    }\n",
              "  </style>\n",
              "\n",
              "      <script>\n",
              "        const buttonEl =\n",
              "          document.querySelector('#df-ef613a29-3bc7-49c5-ace9-189b35410b42 button.colab-df-convert');\n",
              "        buttonEl.style.display =\n",
              "          google.colab.kernel.accessAllowed ? 'block' : 'none';\n",
              "\n",
              "        async function convertToInteractive(key) {\n",
              "          const element = document.querySelector('#df-ef613a29-3bc7-49c5-ace9-189b35410b42');\n",
              "          const dataTable =\n",
              "            await google.colab.kernel.invokeFunction('convertToInteractive',\n",
              "                                                     [key], {});\n",
              "          if (!dataTable) return;\n",
              "\n",
              "          const docLinkHtml = 'Like what you see? Visit the ' +\n",
              "            '<a target=\"_blank\" href=https://colab.research.google.com/notebooks/data_table.ipynb>data table notebook</a>'\n",
              "            + ' to learn more about interactive tables.';\n",
              "          element.innerHTML = '';\n",
              "          dataTable['output_type'] = 'display_data';\n",
              "          await google.colab.output.renderOutput(dataTable, element);\n",
              "          const docLink = document.createElement('div');\n",
              "          docLink.innerHTML = docLinkHtml;\n",
              "          element.appendChild(docLink);\n",
              "        }\n",
              "      </script>\n",
              "    </div>\n",
              "  </div>\n",
              "  "
            ]
          },
          "metadata": {},
          "execution_count": 88
        }
      ]
    },
    {
      "cell_type": "markdown",
      "source": [
        "# 🔪 Split in K-Folds"
      ],
      "metadata": {
        "id": "P4YSgqN-zIvI"
      }
    },
    {
      "cell_type": "markdown",
      "source": [
        "Dividiamo ogni colonna di labColumns in K gruppi diversi. Divideremo ogni colonna con la stessa percentuale di split, così da essere sicuri di avere in ogni folder lo stesso numero di soggetti per ogni classe"
      ],
      "metadata": {
        "id": "zXXp2PdlK8eq"
      }
    },
    {
      "cell_type": "code",
      "source": [
        "from sklearn.model_selection import KFold\n",
        "# perform crossvalidation \n",
        "testPath = []\n",
        "y_trainClass = []\n",
        "y_testClass = []\n",
        "kfoldClass = []\n",
        "splittedData = []\n",
        "print('\\nFound', len(classnames), 'classes, perform', k, '-fold Crossvalidation')\n",
        "for i in range(0,len(classnames)):\n",
        "  # define crossvalidation object\n",
        "  kf = KFold(n_splits = k, shuffle = True, random_state = np.random.randint(1, 100))\n",
        "  kfoldClass = []\n",
        "  # take the current class vector\n",
        "  currentClassVector = labColumns[classnames[i]]\n",
        "  currentClassVector = currentClassVector.dropna()\n",
        "  #print('Class: ', classnames[i])\n",
        "  # split train and test set for each class\n",
        "  for train_index , test_index in kf.split(currentClassVector):\n",
        "    #print('train=', train_index, 'test=', test_index)\n",
        "    trainPathClass = pathColumns[classnames[i]][train_index]\n",
        "    testPathClass = pathColumns[classnames[i]][test_index]\n",
        "    y_trainClass = labColumns[classnames[i]][train_index]\n",
        "    y_testClass = labColumns[classnames[i]][test_index]\n",
        "    # define dataframe for test and training for the current class\n",
        "    dictionClassTrain = {'Path': trainPathClass,'Class': y_trainClass}\n",
        "    dictionClassTest = {'Path': testPathClass,'Class': y_testClass}\n",
        "    dfPathTest = pd.DataFrame(data = dictionClassTest)\n",
        "    dfPathTrain = pd.DataFrame(data = dictionClassTrain)\n",
        "    # make a tuple for the current folder (k) of the current class (i)\n",
        "    kfoldTuple = (dfPathTest,dfPathTrain)\n",
        "    # kfoldClass is a list containing k tuple regarding the i-th class\n",
        "    kfoldClass.append(kfoldTuple)\n",
        "  print('\\nClass: ', classnames[i], '. Found ', len(currentClassVector), 'subjects')\n",
        "  print('\\n Training set contains', len(y_trainClass), 'subjects')\n",
        "  print('\\n Test set contains', len(y_testClass), 'subjects')\n",
        "  # splittedData is a list containing a list for each class (the latter contains k tuple)\n",
        "  splittedData.append(kfoldClass)"
      ],
      "metadata": {
        "id": "UNSrx6djSz0O",
        "colab": {
          "base_uri": "https://localhost:8080/"
        },
        "outputId": "c63970a0-c37b-4177-b297-ad5f59a1e90d"
      },
      "execution_count": 89,
      "outputs": [
        {
          "output_type": "stream",
          "name": "stdout",
          "text": [
            "\n",
            "Found 2 classes, perform 10 -fold Crossvalidation\n",
            "\n",
            "Class:  class_advanced_PD-OFF . Found  648 subjects\n",
            "\n",
            " Training set contains 584 subjects\n",
            "\n",
            " Test set contains 64 subjects\n",
            "\n",
            "Class:  class_HealthyControl . Found  544 subjects\n",
            "\n",
            " Training set contains 490 subjects\n",
            "\n",
            " Test set contains 54 subjects\n"
          ]
        }
      ]
    },
    {
      "cell_type": "markdown",
      "source": [
        "## Create Train Set and Test Set"
      ],
      "metadata": {
        "id": "saRw_7UbzKLW"
      }
    },
    {
      "cell_type": "code",
      "source": [
        "TrainSet = []\n",
        "TestSet = []\n",
        "TrainPath = []\n",
        "TestPath = []\n",
        "TestPath1 = []\n",
        "TrainPath1 = []\n",
        "for i in range(0,k):\n",
        "  for j in range(0,len(classnames)):\n",
        "    # take the current class (list of k tuple)\n",
        "    currClass = splittedData[j]\n",
        "    # take the tuple regarding the k-th folder\n",
        "    kfold = currClass[i]\n",
        "    dfPathTest = kfold[0]\n",
        "    dfPathTrain = kfold[1] \n",
        "    # for the first class\n",
        "    if j == 0:\n",
        "      TestPath1 = dfPathTest\n",
        "      TrainPath1 = dfPathTrain\n",
        "    # next classes\n",
        "    elif j > 0:\n",
        "      TestPath = pd.concat([TestPath1, dfPathTest],ignore_index=True)\n",
        "      TrainPath = pd.concat([TrainPath1, dfPathTrain],ignore_index=True)\n",
        "  # shuffle all the rows of train data \n",
        "  TrainPath = TrainPath.sample(frac=1)\n",
        "  # save training set and test set for all the K-folders\n",
        "  TrainSet.append(TrainPath)\n",
        "  TestSet.append(TestPath)"
      ],
      "metadata": {
        "id": "ZYRHfy0txf9Z"
      },
      "execution_count": 90,
      "outputs": []
    },
    {
      "cell_type": "markdown",
      "source": [
        "## Get the train and test data"
      ],
      "metadata": {
        "id": "VgVQrRze8aeR"
      }
    },
    {
      "cell_type": "code",
      "source": [
        "from tqdm import tqdm \n",
        "\n",
        "#A function to read and process the images to an acceptable format for our model\n",
        "def read_and_process_image(list_of_images,nrows,ncolumns):\n",
        "    \"\"\"\n",
        "    Returns X: \n",
        "        X is an array of resized images\n",
        "    \"\"\"    \n",
        "    X = [] # images\n",
        "    \n",
        "    # Store all the images in the variable X\n",
        "    for image in tqdm(list_of_images):\n",
        "        X.append(cv2.resize(cv2.imread(image, cv2.COLOR_BGR2GRAY), \n",
        "                            (nrows,ncolumns), interpolation=cv2.INTER_CUBIC))  #Read the image\n",
        "    \n",
        "    return X"
      ],
      "metadata": {
        "id": "ov8TlGDUuH9k"
      },
      "execution_count": 91,
      "outputs": []
    },
    {
      "cell_type": "markdown",
      "source": [
        "# Create new directories for test and training"
      ],
      "metadata": {
        "id": "bKvGJQgV-fP2"
      }
    },
    {
      "cell_type": "code",
      "source": [
        "def makeNewDirectory(fold,TrainSet,TestSet,local_path,fileName):\n",
        "  # copy the image from the path to another directory\n",
        "  ImageList = TrainSet[fold]['Path']\n",
        "  ImageLabel = TrainSet[fold]['Class']\n",
        "  ImageListTest = TestSet[fold]['Path']\n",
        "  ImageLabelTest = TestSet[fold]['Class']\n",
        "  foldNum = str(fold+1)\n",
        "  newfolderpath = os.path.join(local_path,'newFolder_'+fileName+'_k-'+foldNum)\n",
        "  if not os.path.exists(newfolderpath):\n",
        "    # Create a new directory because it does not exist\n",
        "    os.makedirs(newfolderpath)\n",
        "    print(\"New folder has been created!\")\n",
        "  testsubfolder = os.path.join(newfolderpath,'Test')\n",
        "  trainsubfolder = os.path.join(newfolderpath,'Training')\n",
        "  if not os.path.exists(trainsubfolder):\n",
        "    os.makedirs(trainsubfolder)\n",
        "  if not os.path.exists(testsubfolder):\n",
        "    os.makedirs(testsubfolder)\n",
        "    print(\"Subfolders have been created!\")\n",
        "  return ImageList, ImageLabel, ImageListTest, ImageLabelTest, newfolderpath, testsubfolder, trainsubfolder"
      ],
      "metadata": {
        "id": "eZGFIKhJJWCD"
      },
      "execution_count": 92,
      "outputs": []
    },
    {
      "cell_type": "markdown",
      "source": [
        "## Copy each image from the original folder to a new one (divided in subfolders representing each class)"
      ],
      "metadata": {
        "id": "XNrHECYxOtrB"
      }
    },
    {
      "cell_type": "code",
      "source": [
        "import shutil\n",
        "def CopyFile(dstn_subfolder, imageseries):\n",
        "  for originalFilePath in imageseries:\n",
        "    file_format = os.path.splitext(originalFilePath)[1] \n",
        "    filename = os.path.splitext(originalFilePath)[0] \n",
        "    fileclass = os.path.split(filename)[0]\n",
        "    fileclass = os.path.split(fileclass)[1]\n",
        "    filename = os.path.split(filename)[1]\n",
        "    newfileFolder = os.path.join(dstn_subfolder,fileclass)\n",
        "    if not os.path.exists(newfileFolder):\n",
        "      # Create a new directory because it does not exist\n",
        "      os.makedirs(newfileFolder)\n",
        "      print(\"New folder has been created!\")\n",
        "    newFilePath = os.path.join(dstn_subfolder,fileclass,filename)\n",
        "    newFilePath = newFilePath+file_format\n",
        "    shutil.copy2(originalFilePath, newFilePath, follow_symlinks=True)"
      ],
      "metadata": {
        "id": "esJGWp8fLSi6"
      },
      "execution_count": 93,
      "outputs": []
    },
    {
      "cell_type": "markdown",
      "metadata": {
        "id": "0-Kj8LW0Pll-"
      },
      "source": [
        "# 📈 Preparing the data\n",
        "We can now load the spectrograms into memory. We use the image_dataset_from_directory utility to generate the datasets. The validation set is what will ultimately be our benchmark when becomes to performance and accuracy of our classifier. The seed is for reproducibility."
      ]
    },
    {
      "cell_type": "code",
      "source": [
        "# Function to prepare our datasets for modelling\n",
        "def prepare(batches):\n",
        "\n",
        "  def normalize(img, label):\n",
        "    return img / 255.0, label\n",
        "\n",
        "  ds = (batches\n",
        "        .map(normalize)\n",
        "        .prefetch(tf.data.AUTOTUNE)\n",
        "        ) \n",
        "  return ds\n",
        "\n",
        "\n",
        "def ReadSetForKfold(trainsubfolder,testsubfolder,BATCH_SIZE,MODE,IMAGE_HEIGHT, IMAGE_WIDTH):\n",
        "  # Create the dataset and select number of classes\n",
        "  train_batches = tf.keras.preprocessing.image_dataset_from_directory(\n",
        "                                            trainsubfolder,\n",
        "                                            labels='inferred',\n",
        "                                            class_names = False,\n",
        "                                            batch_size=BATCH_SIZE,\n",
        "                                            shuffle=True,\n",
        "                                            color_mode= MODE,\n",
        "                                            image_size=(IMAGE_HEIGHT, IMAGE_WIDTH),\n",
        "                                            seed=0)\n",
        "  # Create the dataset and select number of classes\n",
        "  test_batches = tf.keras.preprocessing.image_dataset_from_directory(\n",
        "                                            testsubfolder,\n",
        "                                            labels='inferred',\n",
        "                                            class_names = False,\n",
        "                                            batch_size=BATCH_SIZE,\n",
        "                                            shuffle=True,\n",
        "                                            color_mode= MODE,\n",
        "                                            image_size=(IMAGE_HEIGHT, IMAGE_WIDTH),\n",
        "                                            seed=0)\n",
        "\n",
        "\n",
        "  classNames = train_batches.class_names\n",
        "  N_CLASSES = len(classNames)\n",
        "\n",
        "  # Extract image path for training and validation set\n",
        "  image_paths_train = train_batches.file_paths\n",
        "  image_paths_valid = test_batches.file_paths\n",
        "\n",
        "  train_dataset = prepare(train_batches)\n",
        "  valid_dataset = prepare(test_batches)\n",
        "\n",
        "  LabelNames = test_batches.class_names\n",
        "  LabelNames\n",
        "  return train_batches, test_batches, classNames, N_CLASSES, image_paths_train, image_paths_valid, train_dataset, valid_dataset, LabelNames"
      ],
      "metadata": {
        "id": "FkiysN4xQu4a"
      },
      "execution_count": 94,
      "outputs": []
    },
    {
      "cell_type": "code",
      "source": [
        "# Select number of channels\n",
        "if MODE == 'grayscale':\n",
        "  N_CHANNELS = 1\n",
        "elif MODE == 'rgb':\n",
        "  N_CHANNELS = 3\n",
        "elif MODE == 'rgba':\n",
        "  N_CHANNELS = 4"
      ],
      "metadata": {
        "id": "jUH-KbCcr8pT"
      },
      "execution_count": 95,
      "outputs": []
    },
    {
      "cell_type": "markdown",
      "metadata": {
        "id": "I-L4Yt1djL5g"
      },
      "source": [
        "# 🧠 Make Model and Train"
      ]
    },
    {
      "cell_type": "markdown",
      "metadata": {
        "id": "NdCQSCfYwBKc"
      },
      "source": [
        "## 🦾 Define Model Architecture"
      ]
    },
    {
      "cell_type": "code",
      "source": [
        "def make_model(IMAGE_HEIGHT, IMAGE_WIDTH, N_CHANNELS, N_CLASSES, num_cnn_layers):\n",
        "  # Create CNN model with 3 Convolution Layer Architecture\n",
        "  model = tf.keras.models.Sequential()\n",
        "  model.add(tf.keras.layers.Input(shape=(IMAGE_HEIGHT, IMAGE_WIDTH, N_CHANNELS)))\n",
        "  # Conv2D(NumFilter, FilterSize, option...)\n",
        "\n",
        "  NUM_FILTERS = 32\n",
        "  for i in range(1, num_cnn_layers+1):\n",
        "    model.add(tf.keras.layers.Conv2D(NUM_FILTERS*i, (3,3), strides=(1, 1), activation='relu', padding='same'))\n",
        "    model.add(tf.keras.layers.BatchNormalization())\n",
        "    model.add(tf.keras.layers.MaxPooling2D(pool_size=(2, 2)))\n",
        "    model.add(tf.keras.layers.BatchNormalization())\n",
        "\n",
        "  # flattening\n",
        "  model.add(tf.keras.layers.Flatten())\n",
        "  # NN \n",
        "  model.add(tf.keras.layers.Dense(256, activation='relu')) \n",
        "  model.add(tf.keras.layers.BatchNormalization())\n",
        "  model.add(tf.keras.layers.Dropout(0.5))\n",
        "  model.add(tf.keras.layers.Dense(N_CLASSES, activation='softmax'))\n",
        "  return model"
      ],
      "metadata": {
        "id": "9xL-jXe-SyVu"
      },
      "execution_count": 96,
      "outputs": []
    },
    {
      "cell_type": "markdown",
      "source": [
        "## ♟ Set Optimizer and Loss Function "
      ],
      "metadata": {
        "id": "hEW8oB5sn8MF"
      }
    },
    {
      "cell_type": "code",
      "source": [
        "monitorValue = 'val_loss'\n",
        "monitorMode = 'min'\n",
        "\n",
        "checkpoint_path = os.path.join(outputPath,'training_1/cp.ckpt')\n",
        "bestModelName = os.path.join(outputPath,'best_mdl.h5')\n",
        "earlyStopping = EarlyStopping(monitor=monitorValue, \n",
        "                              patience=40, \n",
        "                              verbose=0, \n",
        "                              mode=monitorMode,\n",
        "                              restore_best_weights=True)\n",
        "\n",
        "mcp_save = ModelCheckpoint(filepath=checkpoint_path,\n",
        "                           save_best_only=True, \n",
        "                           monitor=monitorValue, \n",
        "                           mode=monitorMode)\n",
        "\n",
        "reduce_lr_loss = ReduceLROnPlateau(monitor=monitorValue,\n",
        "                                   factor=0.1, patience=5, \n",
        "                                   verbose=0, min_delta=1e-4, mode=monitorMode)\n",
        "\n",
        "LOSS = 'sparse_categorical_crossentropy'\n",
        "\n",
        "# OPTIMIZER = tf.keras.optimizers.SGD(\n",
        "#         learning_rate=0.01,\n",
        "#         momentum=0.0,\n",
        "#         nesterov=False,\n",
        "#         name='SGD')\n",
        "\n",
        "OPTIMIZER = tf.keras.optimizers.Adam(learning_rate=0.001, beta_1=0.9, beta_2=0.999)"
      ],
      "metadata": {
        "id": "_BtQkstpS0hp"
      },
      "execution_count": 97,
      "outputs": []
    },
    {
      "cell_type": "markdown",
      "metadata": {
        "id": "trADRP8vP0VA"
      },
      "source": [
        "## Confusion Matrix"
      ]
    },
    {
      "cell_type": "code",
      "execution_count": 98,
      "metadata": {
        "id": "JmQQTIKDTf0A"
      },
      "outputs": [],
      "source": [
        "def Evaluate_Batches(batch_dataset):\n",
        "  #extract the labels of each batch\n",
        "  true_labels = []\n",
        "  pred_labels = [] \n",
        "  train_labels = []\n",
        "  for image_batch, label_batch in batch_dataset:\n",
        "    # image_batch contains n figure, where n is batch size.  \n",
        "    # It's an EagerTensor with a shape of (n, ImHeight, ImWidth, Nchannels)\n",
        "    preds = model.predict(image_batch,verbose=0)\n",
        "    # preds is a ndarray with n rows and N_CLASSES columns\n",
        "    # it is the output of the last neurons of the Dens/softmax Layer\n",
        "    pred_labels += np.argmax(preds, axis = - 1).tolist()\n",
        "    train_labels += label_batch.numpy().tolist()\n",
        "    # Alternative Code (use EagerTensor, a bit longer) \n",
        "    # pred_labels.append(np.argmax(preds, axis = - 1))\n",
        "    # pred_labels is a list of which each element is an ndarray with size n (batchsize)\n",
        "    # This list is composed by M elements, where M is the number of batch \n",
        "  return train_labels, pred_labels\n",
        "\n",
        "def plot_confusion_matrix(cm,\n",
        "                          target_names,\n",
        "                          title='Confusion matrix',\n",
        "                          cmap=None,\n",
        "                          normalize=True):\n",
        "    \"\"\"\n",
        "    given a sklearn confusion matrix (cm), make a nice plot\n",
        "\n",
        "    Arguments\n",
        "    ---------\n",
        "    cm:           confusion matrix from sklearn.metrics.confusion_matrix\n",
        "\n",
        "    target_names: given classification classes such as [0, 1, 2]\n",
        "                  the class names, for example: ['high', 'medium', 'low']\n",
        "\n",
        "    title:        the text to display at the top of the matrix\n",
        "\n",
        "    cmap:         the gradient of the values displayed from matplotlib.pyplot.cm\n",
        "                  see http://matplotlib.org/examples/color/colormaps_reference.html\n",
        "                  plt.get_cmap('jet') or plt.cm.Blues\n",
        "\n",
        "    normalize:    If False, plot the raw numbers\n",
        "                  If True, plot the proportions\n",
        "\n",
        "    Usage\n",
        "    -----\n",
        "    plot_confusion_matrix(cm           = cm,                  # confusion matrix created by\n",
        "                                                              # sklearn.metrics.confusion_matrix\n",
        "                          normalize    = True,                # show proportions\n",
        "                          target_names = y_labels_vals,       # list of names of the classes\n",
        "                          title        = best_estimator_name) # title of graph\n",
        "\n",
        "    Citiation\n",
        "    ---------\n",
        "    http://scikit-learn.org/stable/auto_examples/model_selection/plot_confusion_matrix.html\n",
        "\n",
        "    \"\"\"\n",
        "    import matplotlib.pyplot as plt\n",
        "    import numpy as np\n",
        "    import itertools\n",
        "\n",
        "    accuracy = np.trace(cm) / np.sum(cm).astype('float')\n",
        "    misclass = 1 - accuracy\n",
        "\n",
        "    if cmap is None:\n",
        "        cmap = plt.get_cmap('Blues')\n",
        "\n",
        "    plt.figure(figsize=(8, 6))\n",
        "    plt.imshow(cm, interpolation='nearest', cmap=cmap)\n",
        "    plt.title(title, fontsize=18)\n",
        "    plt.colorbar()\n",
        "\n",
        "    if target_names is not None:\n",
        "        tick_marks = np.arange(len(target_names))\n",
        "        plt.xticks(tick_marks, target_names, rotation=45, fontsize=13)\n",
        "        plt.yticks(tick_marks, target_names, fontsize=13)\n",
        "\n",
        "    if normalize:\n",
        "        cm = cm.astype('float') / cm.sum(axis=1)[:, np.newaxis]\n",
        "\n",
        "\n",
        "    thresh = cm.max() / 1.5 if normalize else cm.max() / 2\n",
        "    for i, j in itertools.product(range(cm.shape[0]), range(cm.shape[1])):\n",
        "        if normalize:\n",
        "            plt.text(j, i, \"{:0.4f}\".format(cm[i, j]),\n",
        "                     size='xx-large',\n",
        "                     horizontalalignment=\"center\",\n",
        "                     color=\"white\" if cm[i, j] > thresh else \"black\")\n",
        "        else:\n",
        "            plt.text(j, i, \"{:,}\".format(cm[i, j]), \n",
        "                     size='xx-large',\n",
        "                     horizontalalignment=\"center\",\n",
        "                     color=\"white\" if cm[i, j] > thresh else \"black\")\n",
        "\n",
        "\n",
        "    plt.tight_layout()\n",
        "    plt.ylabel('True label',fontsize=14)\n",
        "    plt.xlabel('Predicted label\\naccuracy={:0.4f}; misclass={:0.4f}'.format(accuracy, misclass),fontsize=14)\n",
        "    plt.show()    \n",
        "\n",
        "def ConfMtxPlot(train_labels, pred_labels):\n",
        "  confusion_mtx = confusion_matrix(train_labels, pred_labels) \n",
        "  # plot the confusion matrix\n",
        "  f,ax = plt.subplots(figsize=(8, 7))\n",
        "  sns.heatmap(confusion_mtx, annot=True, linewidths=0.1,cmap=\"Blues\",linecolor=\"k\", fmt= '.0f',ax=ax,cbar=False)\n",
        "  plt.xlabel(\"Predicted Label\")\n",
        "  plt.ylabel(\"True Label\")\n",
        "  plt.title(\"Confusion Matrix\")\n",
        "  plt.show()"
      ]
    },
    {
      "cell_type": "markdown",
      "metadata": {
        "id": "ELEmc60XS1m-"
      },
      "source": [
        "## 💪 Train the network \n"
      ]
    },
    {
      "cell_type": "code",
      "source": [
        "historyList = []\n",
        "infoList = []\n",
        "# Train the model with k-fold crossvalidation\n",
        "for fold in range(0,k):\n",
        "  print('\\nCrossValidation: Epoch', fold+1)\n",
        "  ImageList, ImageLabel, ImageListTest, ImageLabelTest, newfolderpath, \\\n",
        "   testsubfolder, trainsubfolder = \\\n",
        "   makeNewDirectory(fold,TrainSet,TestSet,local_path,fileName)\n",
        "  CopyFile(trainsubfolder, ImageList)\n",
        "  CopyFile(testsubfolder, ImageListTest)\n",
        "  train_batches, test_batches, classNames, N_CLASSES, \\\n",
        "  image_paths_train, image_paths_valid, train_dataset, \\\n",
        "  valid_dataset, LabelNames = ReadSetForKfold(trainsubfolder,testsubfolder,\\\n",
        "                                              BATCH_SIZE,MODE,IMAGE_HEIGHT, IMAGE_WIDTH)\n",
        "  # Lets plot the label to be sure we have the correct class\n",
        "  sns.countplot(x = ImageLabel)\n",
        "  plt.title('Labels')\n",
        "  plt.show\n",
        "  model = make_model(IMAGE_HEIGHT, IMAGE_WIDTH, N_CHANNELS, N_CLASSES, num_cnn_layers)\n",
        "  # Compile model\n",
        "  model.compile(\n",
        "    loss = LOSS,\n",
        "    optimizer = OPTIMIZER,\n",
        "    metrics=['accuracy'])\n",
        "  # Train model and capture the history\n",
        "  history = model.fit(train_dataset, \n",
        "                    epochs=EPOCHS, \n",
        "                    validation_data = valid_dataset,\n",
        "                    callbacks = [earlyStopping, mcp_save, reduce_lr_loss]\n",
        "                    )\n",
        "  historyList.append(history)\n",
        "  # Compute the final loss and accuracy\n",
        "  final_loss, final_acc = model.evaluate(valid_dataset, verbose=0)\n",
        "  print(\"\\nFinal loss: {0:.6f}, final accuracy: {1:.6f}\".format(final_loss, final_acc))\n",
        "  runtime = time.time() - start_time\n",
        "  print('\\nRuntime:')\n",
        "  print(\"--- %s seconds ---\" % (runtime))\n",
        "  print(\"--- %s minutes ---\" % ((runtime)/60))\n",
        "  # Save all the data to a dictionary\n",
        "  # dictionary of lists  \n",
        "  InfoDict = {'IMAGE_HEIGHT':[IMAGE_HEIGHT], 'IMAGE_WIDTH':[IMAGE_WIDTH],\n",
        "              'BATCH_SIZE': [BATCH_SIZE], 'N_CHANNELS': [N_CHANNELS], 'N_CLASSES': [N_CLASSES],\n",
        "              'EPOCHS':[EPOCHS], 'VAL_SPLIT': [VAL_SPLIT], 'MODE': MODE, 'K-Fold' : fold,\n",
        "              'FINAL VALIDATION LOSS': [final_loss], 'FINAL VALIDATION ACC': [final_acc],\n",
        "              'RUNTIME (s)': [runtime], 'RUNTIME (min)': [runtime/60]\n",
        "              }\n",
        "  infoList.append(InfoDict)\n",
        "  pred_labels, true_labels = Evaluate_Batches(valid_dataset)\n",
        "  confusion_mtx = confusion_matrix(true_labels, pred_labels)\n",
        "  plot_confusion_matrix(confusion_mtx,\n",
        "                          LabelNames,\n",
        "                          title='Confusion matrix',\n",
        "                          cmap=None,\n",
        "                          normalize=False)\n",
        "  # compute statistics from confusion matrix\n"
      ],
      "metadata": {
        "colab": {
          "base_uri": "https://localhost:8080/"
        },
        "id": "5i4meNx7uVg7",
        "outputId": "64f39127-94cc-4c18-85be-b761fd850f81"
      },
      "execution_count": null,
      "outputs": [
        {
          "output_type": "stream",
          "name": "stdout",
          "text": [
            "\n",
            "CrossValidation: Epoch 1\n",
            "Found 1181 files belonging to 2 classes.\n",
            "Found 229 files belonging to 2 classes.\n",
            "Epoch 1/100\n",
            "37/37 [==============================] - ETA: 0s - loss: 0.9519 - accuracy: 0.6850"
          ]
        },
        {
          "output_type": "stream",
          "name": "stderr",
          "text": [
            "WARNING:absl:Found untraced functions such as _jit_compiled_convolution_op, _jit_compiled_convolution_op, _jit_compiled_convolution_op, _jit_compiled_convolution_op while saving (showing 4 of 4). These functions will not be directly callable after loading.\n"
          ]
        },
        {
          "output_type": "stream",
          "name": "stdout",
          "text": [
            "\b\b\b\b\b\b\b\b\b\b\b\b\b\b\b\b\b\b\b\b\b\b\b\b\b\b\b\b\b\b\b\b\b\b\b\b\b\b\b\b\b\b\b\b\b\b\b\b\b\b\b\b\b\b\b\b\b\b\b\b\b\b\b\b\b\b\b\b\b\b\b\b\b\b\b\b\b\b\b\b\b\b\r37/37 [==============================] - 34s 802ms/step - loss: 0.9519 - accuracy: 0.6850 - val_loss: 0.8631 - val_accuracy: 0.5415 - lr: 0.0010\n",
            "Epoch 2/100\n",
            "37/37 [==============================] - 20s 469ms/step - loss: 0.3131 - accuracy: 0.8747 - val_loss: 1.3626 - val_accuracy: 0.5415 - lr: 0.0010\n",
            "Epoch 3/100\n",
            "37/37 [==============================] - 19s 437ms/step - loss: 0.1669 - accuracy: 0.9356 - val_loss: 1.1130 - val_accuracy: 0.5415 - lr: 0.0010\n",
            "Epoch 4/100\n",
            "37/37 [==============================] - 17s 391ms/step - loss: 0.1321 - accuracy: 0.9577 - val_loss: 1.9085 - val_accuracy: 0.5415 - lr: 0.0010\n",
            "Epoch 5/100\n",
            "37/37 [==============================] - 18s 396ms/step - loss: 0.0871 - accuracy: 0.9678 - val_loss: 2.2848 - val_accuracy: 0.5415 - lr: 0.0010\n",
            "Epoch 6/100\n",
            "37/37 [==============================] - ETA: 0s - loss: 0.0522 - accuracy: 0.9797"
          ]
        },
        {
          "output_type": "stream",
          "name": "stderr",
          "text": [
            "WARNING:absl:Found untraced functions such as _jit_compiled_convolution_op, _jit_compiled_convolution_op, _jit_compiled_convolution_op, _jit_compiled_convolution_op while saving (showing 4 of 4). These functions will not be directly callable after loading.\n"
          ]
        },
        {
          "output_type": "stream",
          "name": "stdout",
          "text": [
            "\b\b\b\b\b\b\b\b\b\b\b\b\b\b\b\b\b\b\b\b\b\b\b\b\b\b\b\b\b\b\b\b\b\b\b\b\b\b\b\b\b\b\b\b\b\b\b\b\b\b\b\b\b\b\b\b\b\b\b\b\b\b\b\b\b\b\b\b\b\b\b\b\b\b\b\b\b\b\b\b\b\b\r37/37 [==============================] - 24s 587ms/step - loss: 0.0522 - accuracy: 0.9797 - val_loss: 0.7763 - val_accuracy: 0.5939 - lr: 0.0010\n",
            "Epoch 7/100\n",
            "37/37 [==============================] - 17s 392ms/step - loss: 0.0560 - accuracy: 0.9780 - val_loss: 3.2902 - val_accuracy: 0.5415 - lr: 0.0010\n",
            "Epoch 8/100\n",
            "37/37 [==============================] - 30s 649ms/step - loss: 0.0434 - accuracy: 0.9797 - val_loss: 0.9215 - val_accuracy: 0.5721 - lr: 0.0010\n",
            "Epoch 9/100\n",
            "37/37 [==============================] - 18s 392ms/step - loss: 0.0318 - accuracy: 0.9881 - val_loss: 3.8168 - val_accuracy: 0.5546 - lr: 0.0010\n",
            "Epoch 10/100\n",
            "37/37 [==============================] - 19s 440ms/step - loss: 0.0413 - accuracy: 0.9848 - val_loss: 1.6401 - val_accuracy: 0.6463 - lr: 0.0010\n",
            "Epoch 11/100\n",
            "37/37 [==============================] - 19s 433ms/step - loss: 0.0278 - accuracy: 0.9941 - val_loss: 2.9722 - val_accuracy: 0.5633 - lr: 0.0010\n",
            "Epoch 12/100\n",
            " 7/37 [====>.........................] - ETA: 11s - loss: 0.0192 - accuracy: 0.9955"
          ]
        }
      ]
    },
    {
      "cell_type": "code",
      "execution_count": null,
      "metadata": {
        "id": "CJnUc6p7ll4Z"
      },
      "outputs": [],
      "source": [
        "Summary = os.path.join(outputPath,'modelsummary.txt')\n",
        "modelInfo = model.summary()\n",
        "\n",
        "stringlist = []\n",
        "model.summary(print_fn=lambda x: stringlist.append(x))\n",
        "short_model_summary = \"\\n\".join(stringlist)\n",
        "print(short_model_summary)\n",
        "\n",
        "with open(Summary, 'w') as f:\n",
        "  # Pass the file handle in as a lambda function to make it callable\n",
        "  f.write(short_model_summary)"
      ]
    },
    {
      "cell_type": "code",
      "execution_count": null,
      "metadata": {
        "id": "FYy0getAmjMT"
      },
      "outputs": [],
      "source": [
        "pngOutput = os.path.join(outputPath,'model_plot.png')\n",
        "plot_model(model, to_file=pngOutput, show_shapes=True, show_layer_names=False)"
      ]
    },
    {
      "cell_type": "markdown",
      "source": [
        "Plots to see how the models are performing"
      ],
      "metadata": {
        "_uuid": "4f0eab4ab1a3e00c4257df1fc9fb36fed7c378a3",
        "id": "ctlnbxd1qEfl"
      }
    },
    {
      "cell_type": "code",
      "source": [
        "colormap= plt.get_cmap('tab20')\n",
        "colors = iter(colormap(np.linspace(0,1,10)))\n",
        "epochs = range(1, len(historyList[0].history['accuracy'])+1)\n",
        "\n",
        "for fold in range(0,k):\n",
        "  color=next(colors)  \n",
        "  plt.plot(epochs, historyList[fold].history['accuracy'], \\\n",
        "           label='Training Fold'+str(k),color=color)\n",
        "  plt.plot(epochs, historyList[fold].history['val_accuracy'], \\\n",
        "           label='Val. Accuracy Fold'+str(k), linestyle = \"dashdot\",color=color)\n",
        "plt.legend()\n",
        "plt.grid()\n",
        "plt.title(\"Train vs Validation Accuracy\")\n",
        "plt.xlabel(\"Epochs\")\n",
        "plt.ylabel(\"Accuracy\")\n",
        "plt.xticks(range(1,EPOCHS))\n",
        "plt.show()"
      ],
      "metadata": {
        "_uuid": "e1cc0d6182d82c8021d9044343e4ec78ff109c2b",
        "execution": {
          "iopub.status.busy": "2022-11-19T18:14:33.756090Z",
          "iopub.execute_input": "2022-11-19T18:14:33.756551Z",
          "iopub.status.idle": "2022-11-19T18:14:34.040366Z",
          "shell.execute_reply.started": "2022-11-19T18:14:33.756513Z",
          "shell.execute_reply": "2022-11-19T18:14:34.038829Z"
        },
        "trusted": true,
        "id": "YFkZZDiQqEfl"
      },
      "execution_count": null,
      "outputs": []
    },
    {
      "cell_type": "code",
      "source": [
        "colormap= plt.get_cmap('tab20')\n",
        "colors = iter(colormap(np.linspace(0,1,10)))\n",
        "\n",
        "for fold in range(0,k):\n",
        "  color=next(colors)  \n",
        "  plt.plot(epochs, historyList[fold].history['loss'], \\\n",
        "           label='Training Fold'+str(k),color=color)\n",
        "  plt.plot(epochs, historyList[fold].history['val_loss'], \\\n",
        "           label='Val. Accuracy Fold'+str(k), linestyle = \"dashdot\",color=color)\n",
        "plt.legend()\n",
        "plt.grid()\n",
        "plt.title(\"Train vs Validation Loss\")\n",
        "plt.xlabel(\"Epochs\")\n",
        "plt.ylabel(\"Loss\")\n",
        "plt.xticks(range(1,EPOCHS))\n",
        "plt.show()"
      ],
      "metadata": {
        "id": "dxtzYIsi5VD0"
      },
      "execution_count": null,
      "outputs": []
    }
  ]
}