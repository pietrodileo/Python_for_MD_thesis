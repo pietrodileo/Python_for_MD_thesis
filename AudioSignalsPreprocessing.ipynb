{
  "cells": [
    {
      "cell_type": "markdown",
      "metadata": {
        "id": "view-in-github",
        "colab_type": "text"
      },
      "source": [
        "<a href=\"https://colab.research.google.com/github/pietrodileo/Python_for_MD_thesis/blob/main/AudioSignalsPreprocessing.ipynb\" target=\"_parent\"><img src=\"https://colab.research.google.com/assets/colab-badge.svg\" alt=\"Open In Colab\"/></a>"
      ]
    },
    {
      "cell_type": "markdown",
      "metadata": {
        "id": "4v0ytLlfkqPe"
      },
      "source": [
        "# 🔊 **Audio Signal Preprocessing** \n",
        "## Preprocess audio signals stored in Google Drive"
      ]
    },
    {
      "cell_type": "markdown",
      "metadata": {
        "id": "75sL32jtmAjS"
      },
      "source": [
        "# 📚 Import libraries "
      ]
    },
    {
      "cell_type": "code",
      "execution_count": null,
      "metadata": {
        "id": "LuPxg6GVwA9r"
      },
      "outputs": [],
      "source": [
        "#importing the libraries\n",
        "import os \n",
        "import cv2\n",
        "import numpy as np\n",
        "import matplotlib\n",
        "#This backend of matplotlib doesn't show plots to the user, but we can save them to Google Drive\n",
        "matplotlib.use('Agg')\n",
        "import matplotlib.pyplot as plt\n",
        "import pdb\n",
        "import librosa\n",
        "import librosa.display\n",
        "from scipy.io import wavfile\n",
        "import seaborn as sns\n",
        "from pathlib import Path\n",
        "import pylab\n",
        "import sys\n",
        "import soundfile as sf\n",
        "import tensorflow as tf\n",
        "import IPython.display as ipd\n",
        "#!pip install audiomentations\n",
        "#!pip install noisereduce\n",
        "from scipy.io import wavfile\n",
        "#import noisereduce as nr\n",
        "from librosa.util import fix_length\n",
        "from scipy import signal\n",
        "#let the plot appear and store it with the notebook\n",
        "%matplotlib inline"
      ]
    },
    {
      "cell_type": "code",
      "source": [
        "def outputPath(subfolder,filename,OUTPUT_DIR,destination):\n",
        "  file_path = os.path.join(subfolder, filename)\n",
        "  file_stem = Path(subfolder).stem\n",
        "  target_dir = f'class_{file_stem}'\n",
        "  destination_dir = os.path.join(os.path.join(OUTPUT_DIR, destination), target_dir)\n",
        "  # generate image name\n",
        "  file_stem = Path(file_path).stem\n",
        "  imageName = os.path.join(destination_dir, file_stem)\n",
        "  return file_path, destination_dir,imageName;"
      ],
      "metadata": {
        "id": "bQ7hZQMN54j0"
      },
      "execution_count": null,
      "outputs": []
    },
    {
      "cell_type": "markdown",
      "source": [
        "# Filtering"
      ],
      "metadata": {
        "id": "fapG136thxem"
      }
    },
    {
      "cell_type": "code",
      "source": [
        "def LowPassFilt(data, sample_rate):\n",
        " cutFreq = 16000. # in Hz\n",
        " fs = sample_rate\n",
        " filterOrder = 6\n",
        " nyqFreq = fs / 2.\n",
        " normalCutoff = cutFreq / nyqFreq\n",
        " b, a = signal.butter(filterOrder, normalCutoff, 'low', analog=False)\n",
        " filtered = signal.filtfilt(b, a, data)\n",
        " return filtered "
      ],
      "metadata": {
        "id": "VMrC4E1ehw3R"
      },
      "execution_count": null,
      "outputs": []
    },
    {
      "cell_type": "code",
      "source": [
        "# cutFreq = 16000. # in Hz\n",
        "# fs = 44100 \n",
        "# filterOrder = 6\n",
        "# nyqFreq = fs / 2.\n",
        "# normalCutoff = cutFreq / nyqFreq\n",
        "# b, a = signal.butter(filterOrder, normalCutoff, 'low', analog=False)\n",
        "# w, h = signal.freqz(b, a, fs=sample_rate)\n",
        "# plt.plot(w,  np.abs(h))\n",
        "# plt.title('Butterworth filter frequency response')\n",
        "# plt.xlabel('Frequency [Hz]')\n",
        "# plt.ylabel('Magnitude (abs)')\n",
        "# plt.xlim(0, 0.5*sample_rate)\n",
        "# plt.grid(which='both', axis='both')\n",
        "# plt.plot(cutFreq, 0.5*np.sqrt(2), 'ko')\n",
        "# plt.axvline(cutFreq, color='k') # cutoff frequency\n",
        "# plt.show()"
      ],
      "metadata": {
        "id": "rolm4kooiUAU"
      },
      "execution_count": null,
      "outputs": []
    },
    {
      "cell_type": "markdown",
      "source": [
        "# 🏗 Data Normalization "
      ],
      "metadata": {
        "id": "J1vORkhunRTc"
      }
    },
    {
      "cell_type": "code",
      "source": [
        "# Data normalization function\n",
        "# from audiomentations import Normalize, Compose\n",
        "# # data normalization\n",
        "# DataNormalization = Compose([Normalize(p=1.0)])  "
      ],
      "metadata": {
        "id": "tg_G9WQnPVwy"
      },
      "execution_count": null,
      "outputs": []
    },
    {
      "cell_type": "markdown",
      "metadata": {
        "id": "beB6kUWfI4lJ"
      },
      "source": [
        "# ⛹ Define Input and Output directory "
      ]
    },
    {
      "cell_type": "code",
      "source": [
        "fileName = 'DatasetTesiFinale_vowelE_FineCut_Short_LowCut12kHz'\n",
        "zipfile = fileName + '.zip'\n",
        "directory = '/content/drive/MyDrive/DatasetTesi/'\n",
        "\n",
        "zipPath = os.path.join(directory,zipfile)\n",
        "outputPath = os.path.join(directory,'Risultati')\n",
        "\n",
        "if not os.path.exists(outputPath):\n",
        "   # Create a new directory because it does not exist\n",
        "   os.makedirs(outputPath)\n",
        "   print(\"The output folder has been created!\")\n",
        "\n",
        "# Location of Zip File\n",
        "drive_path = zipPath\n",
        "local_path = '/content'\n",
        "\n",
        "zipCopyPath = os.path.join(local_path,zipfile)\n",
        "if not os.path.exists(zipCopyPath):\n",
        "  # Copy the zip file and move it up one level (AKA out of the drive folder)\n",
        "  !cp '{drive_path}' .\n",
        "else:\n",
        "  print('Files already transferred from Drive')\n",
        "\n",
        "if not os.path.exists(fileName):\n",
        "  # Navigate to the copied file and unzip it quietly\n",
        "  os.chdir(local_path)\n",
        "  !unzip -q '{zipfile}'\n",
        "else:\n",
        "  print('Files already unzipped')\n",
        "# change directory to the new one\n",
        "NewDir = os.path.join(local_path,fileName)\n",
        "valid_formats = [\".wav\"]"
      ],
      "metadata": {
        "id": "uLrJRJibyL28"
      },
      "execution_count": null,
      "outputs": []
    },
    {
      "cell_type": "code",
      "source": [
        "# Delete a folder\n",
        "# !rm -rf '{NewDir}'\n",
        "\n",
        "# Clear all variables\n",
        "#%reset"
      ],
      "metadata": {
        "id": "cVybZjfp4V5g"
      },
      "execution_count": null,
      "outputs": []
    },
    {
      "cell_type": "markdown",
      "metadata": {
        "id": "8aLp35x-bZHz"
      },
      "source": [
        "Creo una cartella dove salvare l'output"
      ]
    },
    {
      "cell_type": "code",
      "execution_count": null,
      "metadata": {
        "id": "fj6Miy66bC_a"
      },
      "outputs": [],
      "source": [
        "# For every recording, make a spectogram and save it as label_speaker_no.png\n",
        "# if not os.path.exists(os.path.join(OUTPUT_DIR, 'preprocessed')):\n",
        "#     os.makedirs(os.path.join(OUTPUT_DIR, 'preprocessed'))"
      ]
    },
    {
      "cell_type": "markdown",
      "metadata": {
        "id": "NvK0wQoUJGIx"
      },
      "source": [
        "# 📽 Preprocessing\n",
        "1.   Resample all audio files to 44100 Hz \n",
        "2.   Convert all audio files in mono\n",
        "3.   Data normalization\n",
        "4.   Noise Reduction (eventually do it manually, if needed)\n",
        "5.   Remove unvoiced parts of the signal (manually)\n",
        "6.   Standardize Length \n",
        "7.   PreEmphasis or Low Pass\n",
        "8.   Save pre-processed audio file\n"
      ]
    },
    {
      "cell_type": "code",
      "execution_count": null,
      "metadata": {
        "id": "Q88vv9ObJEVW"
      },
      "outputs": [],
      "source": [
        "time_array = []\n",
        "name_array = []\n",
        "label_array = []\n",
        "for folders in os.listdir(NewDir):\n",
        "  # select a subfolder\n",
        "  subfolder = os.path.join(NewDir,folders)\n",
        "  # select all the records in the subfolder\n",
        "  for filename in os.listdir(subfolder):\n",
        "    file_format = os.path.splitext(filename)[1] \n",
        "    if file_format.lower() in valid_formats:\n",
        "      #print('Now reading', filename)\n",
        "      name_array.append(filename)\n",
        "      # define output path\n",
        "      #file_path, destination_dir, imageName = outputPath(subfolder,filename,outputPath,'preprocessed')\n",
        "      # create destination folder if it doesn't exist\n",
        "      #if not os.path.exists(destination_dir):\n",
        "      #  os.mkdir(destination_dir)\n",
        "      \n",
        "      # 1. & 2. Resample data to fs = 44100 Hz and convert it to mono\n",
        "      # sr = 44100 convert all the audio  file to a sample frequency of 44100\n",
        "      # sr = None leave the fs untouched\n",
        "      data, sample_rate = librosa.load(os.path.join(subfolder,filename),sr=44100,mono=True)\n",
        "      \n",
        "      # labels\n",
        "      label_array.append(folders)\n",
        "      # calculate signal length\n",
        "      sigLenght = len(data)\n",
        "      Time = sigLenght/sample_rate\n",
        "      time_array.append(Time)\n",
        "\n",
        "      # 3. Normalize data\n",
        "      #data = DataNormalization(data,sample_rate)      \n",
        "\n",
        "      # 5. Remove unvoiced parts\n",
        "\n",
        "      # 6. Standardize lenght\n",
        "      # duration in seconds => required_audio_size\n",
        "      #required_audio_size = 2 # audio of size 2 second needs to be padded to 5 seconds\n",
        "      #padded_audio = fix_length(data, size=required_audio_size*sample_rate) # array size is required_audio_size*sampling frequency\n",
        "\n",
        "      # 7. Preemphasis and Lowcut \n",
        "      # PreEmphasis\n",
        "      # data = librosa.effects.preemphasis(data)\n",
        "\n",
        "      # LowCut\n",
        "      #data = LowPassFilt(data, sample_rate)\n",
        "      \n",
        "      # 8. Export preprocessed signals"
      ]
    },
    {
      "cell_type": "code",
      "source": [
        "# import IPython.display as ipd\n",
        "# ipd.Audio(data, rate=sample_rate) # load a NumPy array"
      ],
      "metadata": {
        "id": "otByH1xrPZAX"
      },
      "execution_count": null,
      "outputs": []
    },
    {
      "cell_type": "code",
      "source": [
        "# ipd.Audio(padded_audio, rate=sample_rate) # load a NumPy array"
      ],
      "metadata": {
        "id": "6QGMUcX3Pfv8"
      },
      "execution_count": null,
      "outputs": []
    },
    {
      "cell_type": "code",
      "source": [
        "# Histogram of time duration\n",
        "\n",
        "# #specify bin start and end points\n",
        "# bin_ranges = [0, 1, 2, 3, 4, 5, 6, 7, 8, 9, 10,20]\n",
        "\n",
        "# #create histogram with 4 bins\n",
        "# plt.hist(time_array, bins=bin_ranges, edgecolor='black')"
      ],
      "metadata": {
        "id": "WkxcVg4pA3VE"
      },
      "execution_count": null,
      "outputs": []
    },
    {
      "cell_type": "code",
      "source": [
        "plt.hist(time_array, bins=30,edgecolor='black');"
      ],
      "metadata": {
        "colab": {
          "base_uri": "https://localhost:8080/",
          "height": 265
        },
        "id": "VbWpSyJwTiWV",
        "outputId": "e4ee8df8-e9bd-417f-dd76-8381c00c567e"
      },
      "execution_count": null,
      "outputs": [
        {
          "output_type": "display_data",
          "data": {
            "text/plain": [
              "<Figure size 432x288 with 1 Axes>"
            ],
            "image/png": "[encoded data removed]"
          },
          "metadata": {
            "needs_background": "light"
          }
        }
      ]
    },
    {
      "cell_type": "code",
      "source": [
        "np.mean(time_array)"
      ],
      "metadata": {
        "colab": {
          "base_uri": "https://localhost:8080/"
        },
        "id": "xHm8oQokBGoo",
        "outputId": "d87abd6e-e573-4c4a-bc6e-1ee5b93195b5"
      },
      "execution_count": null,
      "outputs": [
        {
          "output_type": "execute_result",
          "data": {
            "text/plain": [
              "2.450703161432024"
            ]
          },
          "metadata": {},
          "execution_count": 14
        }
      ]
    },
    {
      "cell_type": "code",
      "source": [
        "np.std(time_array)"
      ],
      "metadata": {
        "colab": {
          "base_uri": "https://localhost:8080/"
        },
        "id": "04f0mVe4S_jH",
        "outputId": "572f4673-2a89-4d15-fec8-983d622a8e11"
      },
      "execution_count": null,
      "outputs": [
        {
          "output_type": "execute_result",
          "data": {
            "text/plain": [
              "0.4360370317754099"
            ]
          },
          "metadata": {},
          "execution_count": 15
        }
      ]
    },
    {
      "cell_type": "code",
      "source": [
        "def search(original_list, element):\n",
        "  for i, value in enumerate(original_list):\n",
        "      if original_list[i] == element:\n",
        "        return i\n",
        "  return False\n",
        "\n",
        "def sort_list(list1, list2):\n",
        " \n",
        "    zipped_pairs = zip(list2, list1)\n",
        " \n",
        "    z = [x for _, x in sorted(zipped_pairs)]\n",
        " \n",
        "    return z"
      ],
      "metadata": {
        "id": "nxGx0H5kD9yF"
      },
      "execution_count": null,
      "outputs": []
    },
    {
      "cell_type": "code",
      "source": [
        "import pandas as pd \n",
        "# define a list of \n",
        "sortedTimeArray = sorted(time_array, reverse=True)\n",
        "sorted_order = []\n",
        "name_sorted = []\n",
        "label_sorted = []\n"
      ],
      "metadata": {
        "id": "_uo95ecYCJEK"
      },
      "execution_count": null,
      "outputs": []
    },
    {
      "cell_type": "code",
      "source": [
        "for i in range(0,len(sortedTimeArray)):\n",
        "  # search the index of the subjects with a greater time lenght\n",
        "  idx = search(time_array, sortedTimeArray[i])\n",
        "  # Save the indexes of the longest recordings in a list \n",
        "  sorted_order.append(idx)\n",
        "  # sort the name list in order of lenght \n",
        "  name_sorted.append(name_array[idx])\n",
        "  label_sorted.append(label_array[idx])\n",
        "\n",
        "list2df = list(zip(name_sorted, sortedTimeArray, sorted_order, label_sorted))\n",
        "df = pd.DataFrame(list2df, columns = ['Names','Duration(s)', 'IDX','Class'])\n",
        "df.head(100)"
      ],
      "metadata": {
        "colab": {
          "base_uri": "https://localhost:8080/",
          "height": 424
        },
        "id": "wCLL_L6C2wci",
        "outputId": "6253348e-d8af-479d-ba1f-6c550f70852d"
      },
      "execution_count": null,
      "outputs": [
        {
          "output_type": "execute_result",
          "data": {
            "text/plain": [
              "                                                Names  Duration(s)  IDX  \\\n",
              "0   PD_ON_TesiPDL_VowelE_0005_FineCut_Short_LowCut...     2.721111    5   \n",
              "1   PD_ON_TesiPDL_VowelE_0005_FineCut_Short_LowCut...     2.721111    5   \n",
              "2   PD_ON_TesiPDL_VowelE_0005_FineCut_Short_LowCut...     2.721111    5   \n",
              "3   PD_ON_TesiPDL_VowelE_0005_FineCut_Short_LowCut...     2.721111    5   \n",
              "4   PD_ON_TesiPDL_VowelE_0005_FineCut_Short_LowCut...     2.721111    5   \n",
              "..                                                ...          ...  ...   \n",
              "95  PD_ON_TesiPDL_VowelE_0005_FineCut_Short_LowCut...     2.721111    5   \n",
              "96  PD_ON_TesiPDL_VowelE_0005_FineCut_Short_LowCut...     2.721111    5   \n",
              "97  PD_ON_TesiPDL_VowelE_0005_FineCut_Short_LowCut...     2.721111    5   \n",
              "98  PD_ON_TesiPDL_VowelE_0005_FineCut_Short_LowCut...     2.721111    5   \n",
              "99  PD_ON_TesiPDL_VowelE_0005_FineCut_Short_LowCut...     2.721111    5   \n",
              "\n",
              "             Class  \n",
              "0   advanced_PD-on  \n",
              "1   advanced_PD-on  \n",
              "2   advanced_PD-on  \n",
              "3   advanced_PD-on  \n",
              "4   advanced_PD-on  \n",
              "..             ...  \n",
              "95  advanced_PD-on  \n",
              "96  advanced_PD-on  \n",
              "97  advanced_PD-on  \n",
              "98  advanced_PD-on  \n",
              "99  advanced_PD-on  \n",
              "\n",
              "[100 rows x 4 columns]"
            ],
            "text/html": [
              "\n",
              "  <div id=\"df-24fe7976-a1fa-4d02-b3e5-ab080dc9ef55\">\n",
              "    <div class=\"colab-df-container\">\n",
              "      <div>\n",
              "<style scoped>\n",
              "    .dataframe tbody tr th:only-of-type {\n",
              "        vertical-align: middle;\n",
              "    }\n",
              "\n",
              "    .dataframe tbody tr th {\n",
              "        vertical-align: top;\n",
              "    }\n",
              "\n",
              "    .dataframe thead th {\n",
              "        text-align: right;\n",
              "    }\n",
              "</style>\n",
              "<table border=\"1\" class=\"dataframe\">\n",
              "  <thead>\n",
              "    <tr style=\"text-align: right;\">\n",
              "      <th></th>\n",
              "      <th>Names</th>\n",
              "      <th>Duration(s)</th>\n",
              "      <th>IDX</th>\n",
              "      <th>Class</th>\n",
              "    </tr>\n",
              "  </thead>\n",
              "  <tbody>\n",
              "    <tr>\n",
              "      <th>0</th>\n",
              "      <td>PD_ON_TesiPDL_VowelE_0005_FineCut_Short_LowCut...</td>\n",
              "      <td>2.721111</td>\n",
              "      <td>5</td>\n",
              "      <td>advanced_PD-on</td>\n",
              "    </tr>\n",
              "    <tr>\n",
              "      <th>1</th>\n",
              "      <td>PD_ON_TesiPDL_VowelE_0005_FineCut_Short_LowCut...</td>\n",
              "      <td>2.721111</td>\n",
              "      <td>5</td>\n",
              "      <td>advanced_PD-on</td>\n",
              "    </tr>\n",
              "    <tr>\n",
              "      <th>2</th>\n",
              "      <td>PD_ON_TesiPDL_VowelE_0005_FineCut_Short_LowCut...</td>\n",
              "      <td>2.721111</td>\n",
              "      <td>5</td>\n",
              "      <td>advanced_PD-on</td>\n",
              "    </tr>\n",
              "    <tr>\n",
              "      <th>3</th>\n",
              "      <td>PD_ON_TesiPDL_VowelE_0005_FineCut_Short_LowCut...</td>\n",
              "      <td>2.721111</td>\n",
              "      <td>5</td>\n",
              "      <td>advanced_PD-on</td>\n",
              "    </tr>\n",
              "    <tr>\n",
              "      <th>4</th>\n",
              "      <td>PD_ON_TesiPDL_VowelE_0005_FineCut_Short_LowCut...</td>\n",
              "      <td>2.721111</td>\n",
              "      <td>5</td>\n",
              "      <td>advanced_PD-on</td>\n",
              "    </tr>\n",
              "    <tr>\n",
              "      <th>...</th>\n",
              "      <td>...</td>\n",
              "      <td>...</td>\n",
              "      <td>...</td>\n",
              "      <td>...</td>\n",
              "    </tr>\n",
              "    <tr>\n",
              "      <th>95</th>\n",
              "      <td>PD_ON_TesiPDL_VowelE_0005_FineCut_Short_LowCut...</td>\n",
              "      <td>2.721111</td>\n",
              "      <td>5</td>\n",
              "      <td>advanced_PD-on</td>\n",
              "    </tr>\n",
              "    <tr>\n",
              "      <th>96</th>\n",
              "      <td>PD_ON_TesiPDL_VowelE_0005_FineCut_Short_LowCut...</td>\n",
              "      <td>2.721111</td>\n",
              "      <td>5</td>\n",
              "      <td>advanced_PD-on</td>\n",
              "    </tr>\n",
              "    <tr>\n",
              "      <th>97</th>\n",
              "      <td>PD_ON_TesiPDL_VowelE_0005_FineCut_Short_LowCut...</td>\n",
              "      <td>2.721111</td>\n",
              "      <td>5</td>\n",
              "      <td>advanced_PD-on</td>\n",
              "    </tr>\n",
              "    <tr>\n",
              "      <th>98</th>\n",
              "      <td>PD_ON_TesiPDL_VowelE_0005_FineCut_Short_LowCut...</td>\n",
              "      <td>2.721111</td>\n",
              "      <td>5</td>\n",
              "      <td>advanced_PD-on</td>\n",
              "    </tr>\n",
              "    <tr>\n",
              "      <th>99</th>\n",
              "      <td>PD_ON_TesiPDL_VowelE_0005_FineCut_Short_LowCut...</td>\n",
              "      <td>2.721111</td>\n",
              "      <td>5</td>\n",
              "      <td>advanced_PD-on</td>\n",
              "    </tr>\n",
              "  </tbody>\n",
              "</table>\n",
              "<p>100 rows × 4 columns</p>\n",
              "</div>\n",
              "      <button class=\"colab-df-convert\" onclick=\"convertToInteractive('df-24fe7976-a1fa-4d02-b3e5-ab080dc9ef55')\"\n",
              "              title=\"Convert this dataframe to an interactive table.\"\n",
              "              style=\"display:none;\">\n",
              "        \n",
              "  <svg xmlns=\"http://www.w3.org/2000/svg\" height=\"24px\"viewBox=\"0 0 24 24\"\n",
              "       width=\"24px\">\n",
              "    <path d=\"M0 0h24v24H0V0z\" fill=\"none\"/>\n",
              "    <path d=\"M18.56 5.44l.94 2.06.94-2.06 2.06-.94-2.06-.94-.94-2.06-.94 2.06-2.06.94zm-11 1L8.5 8.5l.94-2.06 2.06-.94-2.06-.94L8.5 2.5l-.94 2.06-2.06.94zm10 10l.94 2.06.94-2.06 2.06-.94-2.06-.94-.94-2.06-.94 2.06-2.06.94z\"/><path d=\"M17.41 7.96l-1.37-1.37c-.4-.4-.92-.59-1.43-.59-.52 0-1.04.2-1.43.59L10.3 9.45l-7.72 7.72c-.78.78-.78 2.05 0 2.83L4 21.41c.39.39.9.59 1.41.59.51 0 1.02-.2 1.41-.59l7.78-7.78 2.81-2.81c.8-.78.8-2.07 0-2.86zM5.41 20L4 18.59l7.72-7.72 1.47 1.35L5.41 20z\"/>\n",
              "  </svg>\n",
              "      </button>\n",
              "      \n",
              "  <style>\n",
              "    .colab-df-container {\n",
              "      display:flex;\n",
              "      flex-wrap:wrap;\n",
              "      gap: 12px;\n",
              "    }\n",
              "\n",
              "    .colab-df-convert {\n",
              "      background-color: #E8F0FE;\n",
              "      border: none;\n",
              "      border-radius: 50%;\n",
              "      cursor: pointer;\n",
              "      display: none;\n",
              "      fill: #1967D2;\n",
              "      height: 32px;\n",
              "      padding: 0 0 0 0;\n",
              "      width: 32px;\n",
              "    }\n",
              "\n",
              "    .colab-df-convert:hover {\n",
              "      background-color: #E2EBFA;\n",
              "      box-shadow: 0px 1px 2px rgba(60, 64, 67, 0.3), 0px 1px 3px 1px rgba(60, 64, 67, 0.15);\n",
              "      fill: #174EA6;\n",
              "    }\n",
              "\n",
              "    [theme=dark] .colab-df-convert {\n",
              "      background-color: #3B4455;\n",
              "      fill: #D2E3FC;\n",
              "    }\n",
              "\n",
              "    [theme=dark] .colab-df-convert:hover {\n",
              "      background-color: #434B5C;\n",
              "      box-shadow: 0px 1px 3px 1px rgba(0, 0, 0, 0.15);\n",
              "      filter: drop-shadow(0px 1px 2px rgba(0, 0, 0, 0.3));\n",
              "      fill: #FFFFFF;\n",
              "    }\n",
              "  </style>\n",
              "\n",
              "      <script>\n",
              "        const buttonEl =\n",
              "          document.querySelector('#df-24fe7976-a1fa-4d02-b3e5-ab080dc9ef55 button.colab-df-convert');\n",
              "        buttonEl.style.display =\n",
              "          google.colab.kernel.accessAllowed ? 'block' : 'none';\n",
              "\n",
              "        async function convertToInteractive(key) {\n",
              "          const element = document.querySelector('#df-24fe7976-a1fa-4d02-b3e5-ab080dc9ef55');\n",
              "          const dataTable =\n",
              "            await google.colab.kernel.invokeFunction('convertToInteractive',\n",
              "                                                     [key], {});\n",
              "          if (!dataTable) return;\n",
              "\n",
              "          const docLinkHtml = 'Like what you see? Visit the ' +\n",
              "            '<a target=\"_blank\" href=https://colab.research.google.com/notebooks/data_table.ipynb>data table notebook</a>'\n",
              "            + ' to learn more about interactive tables.';\n",
              "          element.innerHTML = '';\n",
              "          dataTable['output_type'] = 'display_data';\n",
              "          await google.colab.output.renderOutput(dataTable, element);\n",
              "          const docLink = document.createElement('div');\n",
              "          docLink.innerHTML = docLinkHtml;\n",
              "          element.appendChild(docLink);\n",
              "        }\n",
              "      </script>\n",
              "    </div>\n",
              "  </div>\n",
              "  "
            ]
          },
          "metadata": {},
          "execution_count": 18
        }
      ]
    },
    {
      "cell_type": "code",
      "source": [
        "df.tail(100)"
      ],
      "metadata": {
        "id": "4Cgx0ri7M0_Y",
        "outputId": "c1b64d51-25e8-41c5-ada2-c48815638884",
        "colab": {
          "base_uri": "https://localhost:8080/",
          "height": 656
        }
      },
      "execution_count": null,
      "outputs": [
        {
          "output_type": "execute_result",
          "data": {
            "text/plain": [
              "                                                 Names  Duration(s)  IDX  \\\n",
              "537  PD_ON_TesiPDL_VowelE_0028_FineCut_Short_LowCut...     2.500023    0   \n",
              "538  PD_ON_TesiPDL_VowelE_0028_FineCut_Short_LowCut...     2.500023    0   \n",
              "539  PD_ON_TesiPDL_VowelE_0028_FineCut_Short_LowCut...     2.500023    0   \n",
              "540  PD_ON_TesiPDL_VowelE_0028_FineCut_Short_LowCut...     2.500023    0   \n",
              "541  PD_ON_TesiPDL_VowelE_0028_FineCut_Short_LowCut...     2.500023    0   \n",
              "..                                                 ...          ...  ...   \n",
              "632  PD_DBS_ONON_TesiPDL_VowelE_0031_FineCut_Short_...     0.395850  491   \n",
              "633  PD_OFF_TesiPDL_VowelE_0004_FineCut_Short_LowCu...     0.376712  620   \n",
              "634  PD_Early_TesiPDL_VowelE_0049_FineCut_Short_Low...     0.345170  446   \n",
              "635  HC_TesiPDL_VowelE_0073_FineCut_Short_LowCut12k...     0.340091  334   \n",
              "636  PD_DBS_ONON_TesiPDL_VowelE_0021_FineCut_Short_...     0.316032  520   \n",
              "\n",
              "               Class  \n",
              "537   advanced_PD-on  \n",
              "538   advanced_PD-on  \n",
              "539   advanced_PD-on  \n",
              "540   advanced_PD-on  \n",
              "541   advanced_PD-on  \n",
              "..               ...  \n",
              "632         DBS-onon  \n",
              "633  advanced_PD-OFF  \n",
              "634         Early_PD  \n",
              "635   HealthyControl  \n",
              "636         DBS-onon  \n",
              "\n",
              "[100 rows x 4 columns]"
            ],
            "text/html": [
              "\n",
              "  <div id=\"df-6b3d47cf-e694-42de-8448-5bbaab6ed316\">\n",
              "    <div class=\"colab-df-container\">\n",
              "      <div>\n",
              "<style scoped>\n",
              "    .dataframe tbody tr th:only-of-type {\n",
              "        vertical-align: middle;\n",
              "    }\n",
              "\n",
              "    .dataframe tbody tr th {\n",
              "        vertical-align: top;\n",
              "    }\n",
              "\n",
              "    .dataframe thead th {\n",
              "        text-align: right;\n",
              "    }\n",
              "</style>\n",
              "<table border=\"1\" class=\"dataframe\">\n",
              "  <thead>\n",
              "    <tr style=\"text-align: right;\">\n",
              "      <th></th>\n",
              "      <th>Names</th>\n",
              "      <th>Duration(s)</th>\n",
              "      <th>IDX</th>\n",
              "      <th>Class</th>\n",
              "    </tr>\n",
              "  </thead>\n",
              "  <tbody>\n",
              "    <tr>\n",
              "      <th>537</th>\n",
              "      <td>PD_ON_TesiPDL_VowelE_0028_FineCut_Short_LowCut...</td>\n",
              "      <td>2.500023</td>\n",
              "      <td>0</td>\n",
              "      <td>advanced_PD-on</td>\n",
              "    </tr>\n",
              "    <tr>\n",
              "      <th>538</th>\n",
              "      <td>PD_ON_TesiPDL_VowelE_0028_FineCut_Short_LowCut...</td>\n",
              "      <td>2.500023</td>\n",
              "      <td>0</td>\n",
              "      <td>advanced_PD-on</td>\n",
              "    </tr>\n",
              "    <tr>\n",
              "      <th>539</th>\n",
              "      <td>PD_ON_TesiPDL_VowelE_0028_FineCut_Short_LowCut...</td>\n",
              "      <td>2.500023</td>\n",
              "      <td>0</td>\n",
              "      <td>advanced_PD-on</td>\n",
              "    </tr>\n",
              "    <tr>\n",
              "      <th>540</th>\n",
              "      <td>PD_ON_TesiPDL_VowelE_0028_FineCut_Short_LowCut...</td>\n",
              "      <td>2.500023</td>\n",
              "      <td>0</td>\n",
              "      <td>advanced_PD-on</td>\n",
              "    </tr>\n",
              "    <tr>\n",
              "      <th>541</th>\n",
              "      <td>PD_ON_TesiPDL_VowelE_0028_FineCut_Short_LowCut...</td>\n",
              "      <td>2.500023</td>\n",
              "      <td>0</td>\n",
              "      <td>advanced_PD-on</td>\n",
              "    </tr>\n",
              "    <tr>\n",
              "      <th>...</th>\n",
              "      <td>...</td>\n",
              "      <td>...</td>\n",
              "      <td>...</td>\n",
              "      <td>...</td>\n",
              "    </tr>\n",
              "    <tr>\n",
              "      <th>632</th>\n",
              "      <td>PD_DBS_ONON_TesiPDL_VowelE_0031_FineCut_Short_...</td>\n",
              "      <td>0.395850</td>\n",
              "      <td>491</td>\n",
              "      <td>DBS-onon</td>\n",
              "    </tr>\n",
              "    <tr>\n",
              "      <th>633</th>\n",
              "      <td>PD_OFF_TesiPDL_VowelE_0004_FineCut_Short_LowCu...</td>\n",
              "      <td>0.376712</td>\n",
              "      <td>620</td>\n",
              "      <td>advanced_PD-OFF</td>\n",
              "    </tr>\n",
              "    <tr>\n",
              "      <th>634</th>\n",
              "      <td>PD_Early_TesiPDL_VowelE_0049_FineCut_Short_Low...</td>\n",
              "      <td>0.345170</td>\n",
              "      <td>446</td>\n",
              "      <td>Early_PD</td>\n",
              "    </tr>\n",
              "    <tr>\n",
              "      <th>635</th>\n",
              "      <td>HC_TesiPDL_VowelE_0073_FineCut_Short_LowCut12k...</td>\n",
              "      <td>0.340091</td>\n",
              "      <td>334</td>\n",
              "      <td>HealthyControl</td>\n",
              "    </tr>\n",
              "    <tr>\n",
              "      <th>636</th>\n",
              "      <td>PD_DBS_ONON_TesiPDL_VowelE_0021_FineCut_Short_...</td>\n",
              "      <td>0.316032</td>\n",
              "      <td>520</td>\n",
              "      <td>DBS-onon</td>\n",
              "    </tr>\n",
              "  </tbody>\n",
              "</table>\n",
              "<p>100 rows × 4 columns</p>\n",
              "</div>\n",
              "      <button class=\"colab-df-convert\" onclick=\"convertToInteractive('df-6b3d47cf-e694-42de-8448-5bbaab6ed316')\"\n",
              "              title=\"Convert this dataframe to an interactive table.\"\n",
              "              style=\"display:none;\">\n",
              "        \n",
              "  <svg xmlns=\"http://www.w3.org/2000/svg\" height=\"24px\"viewBox=\"0 0 24 24\"\n",
              "       width=\"24px\">\n",
              "    <path d=\"M0 0h24v24H0V0z\" fill=\"none\"/>\n",
              "    <path d=\"M18.56 5.44l.94 2.06.94-2.06 2.06-.94-2.06-.94-.94-2.06-.94 2.06-2.06.94zm-11 1L8.5 8.5l.94-2.06 2.06-.94-2.06-.94L8.5 2.5l-.94 2.06-2.06.94zm10 10l.94 2.06.94-2.06 2.06-.94-2.06-.94-.94-2.06-.94 2.06-2.06.94z\"/><path d=\"M17.41 7.96l-1.37-1.37c-.4-.4-.92-.59-1.43-.59-.52 0-1.04.2-1.43.59L10.3 9.45l-7.72 7.72c-.78.78-.78 2.05 0 2.83L4 21.41c.39.39.9.59 1.41.59.51 0 1.02-.2 1.41-.59l7.78-7.78 2.81-2.81c.8-.78.8-2.07 0-2.86zM5.41 20L4 18.59l7.72-7.72 1.47 1.35L5.41 20z\"/>\n",
              "  </svg>\n",
              "      </button>\n",
              "      \n",
              "  <style>\n",
              "    .colab-df-container {\n",
              "      display:flex;\n",
              "      flex-wrap:wrap;\n",
              "      gap: 12px;\n",
              "    }\n",
              "\n",
              "    .colab-df-convert {\n",
              "      background-color: #E8F0FE;\n",
              "      border: none;\n",
              "      border-radius: 50%;\n",
              "      cursor: pointer;\n",
              "      display: none;\n",
              "      fill: #1967D2;\n",
              "      height: 32px;\n",
              "      padding: 0 0 0 0;\n",
              "      width: 32px;\n",
              "    }\n",
              "\n",
              "    .colab-df-convert:hover {\n",
              "      background-color: #E2EBFA;\n",
              "      box-shadow: 0px 1px 2px rgba(60, 64, 67, 0.3), 0px 1px 3px 1px rgba(60, 64, 67, 0.15);\n",
              "      fill: #174EA6;\n",
              "    }\n",
              "\n",
              "    [theme=dark] .colab-df-convert {\n",
              "      background-color: #3B4455;\n",
              "      fill: #D2E3FC;\n",
              "    }\n",
              "\n",
              "    [theme=dark] .colab-df-convert:hover {\n",
              "      background-color: #434B5C;\n",
              "      box-shadow: 0px 1px 3px 1px rgba(0, 0, 0, 0.15);\n",
              "      filter: drop-shadow(0px 1px 2px rgba(0, 0, 0, 0.3));\n",
              "      fill: #FFFFFF;\n",
              "    }\n",
              "  </style>\n",
              "\n",
              "      <script>\n",
              "        const buttonEl =\n",
              "          document.querySelector('#df-6b3d47cf-e694-42de-8448-5bbaab6ed316 button.colab-df-convert');\n",
              "        buttonEl.style.display =\n",
              "          google.colab.kernel.accessAllowed ? 'block' : 'none';\n",
              "\n",
              "        async function convertToInteractive(key) {\n",
              "          const element = document.querySelector('#df-6b3d47cf-e694-42de-8448-5bbaab6ed316');\n",
              "          const dataTable =\n",
              "            await google.colab.kernel.invokeFunction('convertToInteractive',\n",
              "                                                     [key], {});\n",
              "          if (!dataTable) return;\n",
              "\n",
              "          const docLinkHtml = 'Like what you see? Visit the ' +\n",
              "            '<a target=\"_blank\" href=https://colab.research.google.com/notebooks/data_table.ipynb>data table notebook</a>'\n",
              "            + ' to learn more about interactive tables.';\n",
              "          element.innerHTML = '';\n",
              "          dataTable['output_type'] = 'display_data';\n",
              "          await google.colab.output.renderOutput(dataTable, element);\n",
              "          const docLink = document.createElement('div');\n",
              "          docLink.innerHTML = docLinkHtml;\n",
              "          element.appendChild(docLink);\n",
              "        }\n",
              "      </script>\n",
              "    </div>\n",
              "  </div>\n",
              "  "
            ]
          },
          "metadata": {},
          "execution_count": 19
        }
      ]
    },
    {
      "cell_type": "code",
      "source": [
        "df.groupby(['Class']).mean()"
      ],
      "metadata": {
        "colab": {
          "base_uri": "https://localhost:8080/",
          "height": 237
        },
        "id": "aicD4lGRlSn0",
        "outputId": "3971d473-bc5c-489b-8d05-cb8d19f9c2c6"
      },
      "execution_count": null,
      "outputs": [
        {
          "output_type": "execute_result",
          "data": {
            "text/plain": [
              "                 Duration(s)         IDX\n",
              "Class                                   \n",
              "DBS-onon            1.330814  496.555556\n",
              "Early_PD            1.454837  425.000000\n",
              "HealthyControl      1.795712  266.030303\n",
              "advanced_PD-OFF     1.143045  561.700000\n",
              "advanced_PD-on      2.571121    2.202128"
            ],
            "text/html": [
              "\n",
              "  <div id=\"df-7f882b18-9e5c-4a85-987e-99481225b1e6\">\n",
              "    <div class=\"colab-df-container\">\n",
              "      <div>\n",
              "<style scoped>\n",
              "    .dataframe tbody tr th:only-of-type {\n",
              "        vertical-align: middle;\n",
              "    }\n",
              "\n",
              "    .dataframe tbody tr th {\n",
              "        vertical-align: top;\n",
              "    }\n",
              "\n",
              "    .dataframe thead th {\n",
              "        text-align: right;\n",
              "    }\n",
              "</style>\n",
              "<table border=\"1\" class=\"dataframe\">\n",
              "  <thead>\n",
              "    <tr style=\"text-align: right;\">\n",
              "      <th></th>\n",
              "      <th>Duration(s)</th>\n",
              "      <th>IDX</th>\n",
              "    </tr>\n",
              "    <tr>\n",
              "      <th>Class</th>\n",
              "      <th></th>\n",
              "      <th></th>\n",
              "    </tr>\n",
              "  </thead>\n",
              "  <tbody>\n",
              "    <tr>\n",
              "      <th>DBS-onon</th>\n",
              "      <td>1.330814</td>\n",
              "      <td>496.555556</td>\n",
              "    </tr>\n",
              "    <tr>\n",
              "      <th>Early_PD</th>\n",
              "      <td>1.454837</td>\n",
              "      <td>425.000000</td>\n",
              "    </tr>\n",
              "    <tr>\n",
              "      <th>HealthyControl</th>\n",
              "      <td>1.795712</td>\n",
              "      <td>266.030303</td>\n",
              "    </tr>\n",
              "    <tr>\n",
              "      <th>advanced_PD-OFF</th>\n",
              "      <td>1.143045</td>\n",
              "      <td>561.700000</td>\n",
              "    </tr>\n",
              "    <tr>\n",
              "      <th>advanced_PD-on</th>\n",
              "      <td>2.571121</td>\n",
              "      <td>2.202128</td>\n",
              "    </tr>\n",
              "  </tbody>\n",
              "</table>\n",
              "</div>\n",
              "      <button class=\"colab-df-convert\" onclick=\"convertToInteractive('df-7f882b18-9e5c-4a85-987e-99481225b1e6')\"\n",
              "              title=\"Convert this dataframe to an interactive table.\"\n",
              "              style=\"display:none;\">\n",
              "        \n",
              "  <svg xmlns=\"http://www.w3.org/2000/svg\" height=\"24px\"viewBox=\"0 0 24 24\"\n",
              "       width=\"24px\">\n",
              "    <path d=\"M0 0h24v24H0V0z\" fill=\"none\"/>\n",
              "    <path d=\"M18.56 5.44l.94 2.06.94-2.06 2.06-.94-2.06-.94-.94-2.06-.94 2.06-2.06.94zm-11 1L8.5 8.5l.94-2.06 2.06-.94-2.06-.94L8.5 2.5l-.94 2.06-2.06.94zm10 10l.94 2.06.94-2.06 2.06-.94-2.06-.94-.94-2.06-.94 2.06-2.06.94z\"/><path d=\"M17.41 7.96l-1.37-1.37c-.4-.4-.92-.59-1.43-.59-.52 0-1.04.2-1.43.59L10.3 9.45l-7.72 7.72c-.78.78-.78 2.05 0 2.83L4 21.41c.39.39.9.59 1.41.59.51 0 1.02-.2 1.41-.59l7.78-7.78 2.81-2.81c.8-.78.8-2.07 0-2.86zM5.41 20L4 18.59l7.72-7.72 1.47 1.35L5.41 20z\"/>\n",
              "  </svg>\n",
              "      </button>\n",
              "      \n",
              "  <style>\n",
              "    .colab-df-container {\n",
              "      display:flex;\n",
              "      flex-wrap:wrap;\n",
              "      gap: 12px;\n",
              "    }\n",
              "\n",
              "    .colab-df-convert {\n",
              "      background-color: #E8F0FE;\n",
              "      border: none;\n",
              "      border-radius: 50%;\n",
              "      cursor: pointer;\n",
              "      display: none;\n",
              "      fill: #1967D2;\n",
              "      height: 32px;\n",
              "      padding: 0 0 0 0;\n",
              "      width: 32px;\n",
              "    }\n",
              "\n",
              "    .colab-df-convert:hover {\n",
              "      background-color: #E2EBFA;\n",
              "      box-shadow: 0px 1px 2px rgba(60, 64, 67, 0.3), 0px 1px 3px 1px rgba(60, 64, 67, 0.15);\n",
              "      fill: #174EA6;\n",
              "    }\n",
              "\n",
              "    [theme=dark] .colab-df-convert {\n",
              "      background-color: #3B4455;\n",
              "      fill: #D2E3FC;\n",
              "    }\n",
              "\n",
              "    [theme=dark] .colab-df-convert:hover {\n",
              "      background-color: #434B5C;\n",
              "      box-shadow: 0px 1px 3px 1px rgba(0, 0, 0, 0.15);\n",
              "      filter: drop-shadow(0px 1px 2px rgba(0, 0, 0, 0.3));\n",
              "      fill: #FFFFFF;\n",
              "    }\n",
              "  </style>\n",
              "\n",
              "      <script>\n",
              "        const buttonEl =\n",
              "          document.querySelector('#df-7f882b18-9e5c-4a85-987e-99481225b1e6 button.colab-df-convert');\n",
              "        buttonEl.style.display =\n",
              "          google.colab.kernel.accessAllowed ? 'block' : 'none';\n",
              "\n",
              "        async function convertToInteractive(key) {\n",
              "          const element = document.querySelector('#df-7f882b18-9e5c-4a85-987e-99481225b1e6');\n",
              "          const dataTable =\n",
              "            await google.colab.kernel.invokeFunction('convertToInteractive',\n",
              "                                                     [key], {});\n",
              "          if (!dataTable) return;\n",
              "\n",
              "          const docLinkHtml = 'Like what you see? Visit the ' +\n",
              "            '<a target=\"_blank\" href=https://colab.research.google.com/notebooks/data_table.ipynb>data table notebook</a>'\n",
              "            + ' to learn more about interactive tables.';\n",
              "          element.innerHTML = '';\n",
              "          dataTable['output_type'] = 'display_data';\n",
              "          await google.colab.output.renderOutput(dataTable, element);\n",
              "          const docLink = document.createElement('div');\n",
              "          docLink.innerHTML = docLinkHtml;\n",
              "          element.appendChild(docLink);\n",
              "        }\n",
              "      </script>\n",
              "    </div>\n",
              "  </div>\n",
              "  "
            ]
          },
          "metadata": {},
          "execution_count": 20
        }
      ]
    },
    {
      "cell_type": "code",
      "source": [
        "df.groupby(['Class']).std()"
      ],
      "metadata": {
        "colab": {
          "base_uri": "https://localhost:8080/",
          "height": 237
        },
        "id": "qsX_WDEUl1j6",
        "outputId": "6dfbf57f-7f7b-4275-b64e-ad9f5326e749"
      },
      "execution_count": null,
      "outputs": [
        {
          "output_type": "execute_result",
          "data": {
            "text/plain": [
              "                 Duration(s)        IDX\n",
              "Class                                  \n",
              "DBS-onon            0.627042  14.682101\n",
              "Early_PD            1.169052  18.248288\n",
              "HealthyControl      0.653007  94.810826\n",
              "advanced_PD-OFF     0.660310  31.637004\n",
              "advanced_PD-on      0.159447   3.902214"
            ],
            "text/html": [
              "\n",
              "  <div id=\"df-c9ca6b99-2eb8-4342-ac43-335dfedf9eff\">\n",
              "    <div class=\"colab-df-container\">\n",
              "      <div>\n",
              "<style scoped>\n",
              "    .dataframe tbody tr th:only-of-type {\n",
              "        vertical-align: middle;\n",
              "    }\n",
              "\n",
              "    .dataframe tbody tr th {\n",
              "        vertical-align: top;\n",
              "    }\n",
              "\n",
              "    .dataframe thead th {\n",
              "        text-align: right;\n",
              "    }\n",
              "</style>\n",
              "<table border=\"1\" class=\"dataframe\">\n",
              "  <thead>\n",
              "    <tr style=\"text-align: right;\">\n",
              "      <th></th>\n",
              "      <th>Duration(s)</th>\n",
              "      <th>IDX</th>\n",
              "    </tr>\n",
              "    <tr>\n",
              "      <th>Class</th>\n",
              "      <th></th>\n",
              "      <th></th>\n",
              "    </tr>\n",
              "  </thead>\n",
              "  <tbody>\n",
              "    <tr>\n",
              "      <th>DBS-onon</th>\n",
              "      <td>0.627042</td>\n",
              "      <td>14.682101</td>\n",
              "    </tr>\n",
              "    <tr>\n",
              "      <th>Early_PD</th>\n",
              "      <td>1.169052</td>\n",
              "      <td>18.248288</td>\n",
              "    </tr>\n",
              "    <tr>\n",
              "      <th>HealthyControl</th>\n",
              "      <td>0.653007</td>\n",
              "      <td>94.810826</td>\n",
              "    </tr>\n",
              "    <tr>\n",
              "      <th>advanced_PD-OFF</th>\n",
              "      <td>0.660310</td>\n",
              "      <td>31.637004</td>\n",
              "    </tr>\n",
              "    <tr>\n",
              "      <th>advanced_PD-on</th>\n",
              "      <td>0.159447</td>\n",
              "      <td>3.902214</td>\n",
              "    </tr>\n",
              "  </tbody>\n",
              "</table>\n",
              "</div>\n",
              "      <button class=\"colab-df-convert\" onclick=\"convertToInteractive('df-c9ca6b99-2eb8-4342-ac43-335dfedf9eff')\"\n",
              "              title=\"Convert this dataframe to an interactive table.\"\n",
              "              style=\"display:none;\">\n",
              "        \n",
              "  <svg xmlns=\"http://www.w3.org/2000/svg\" height=\"24px\"viewBox=\"0 0 24 24\"\n",
              "       width=\"24px\">\n",
              "    <path d=\"M0 0h24v24H0V0z\" fill=\"none\"/>\n",
              "    <path d=\"M18.56 5.44l.94 2.06.94-2.06 2.06-.94-2.06-.94-.94-2.06-.94 2.06-2.06.94zm-11 1L8.5 8.5l.94-2.06 2.06-.94-2.06-.94L8.5 2.5l-.94 2.06-2.06.94zm10 10l.94 2.06.94-2.06 2.06-.94-2.06-.94-.94-2.06-.94 2.06-2.06.94z\"/><path d=\"M17.41 7.96l-1.37-1.37c-.4-.4-.92-.59-1.43-.59-.52 0-1.04.2-1.43.59L10.3 9.45l-7.72 7.72c-.78.78-.78 2.05 0 2.83L4 21.41c.39.39.9.59 1.41.59.51 0 1.02-.2 1.41-.59l7.78-7.78 2.81-2.81c.8-.78.8-2.07 0-2.86zM5.41 20L4 18.59l7.72-7.72 1.47 1.35L5.41 20z\"/>\n",
              "  </svg>\n",
              "      </button>\n",
              "      \n",
              "  <style>\n",
              "    .colab-df-container {\n",
              "      display:flex;\n",
              "      flex-wrap:wrap;\n",
              "      gap: 12px;\n",
              "    }\n",
              "\n",
              "    .colab-df-convert {\n",
              "      background-color: #E8F0FE;\n",
              "      border: none;\n",
              "      border-radius: 50%;\n",
              "      cursor: pointer;\n",
              "      display: none;\n",
              "      fill: #1967D2;\n",
              "      height: 32px;\n",
              "      padding: 0 0 0 0;\n",
              "      width: 32px;\n",
              "    }\n",
              "\n",
              "    .colab-df-convert:hover {\n",
              "      background-color: #E2EBFA;\n",
              "      box-shadow: 0px 1px 2px rgba(60, 64, 67, 0.3), 0px 1px 3px 1px rgba(60, 64, 67, 0.15);\n",
              "      fill: #174EA6;\n",
              "    }\n",
              "\n",
              "    [theme=dark] .colab-df-convert {\n",
              "      background-color: #3B4455;\n",
              "      fill: #D2E3FC;\n",
              "    }\n",
              "\n",
              "    [theme=dark] .colab-df-convert:hover {\n",
              "      background-color: #434B5C;\n",
              "      box-shadow: 0px 1px 3px 1px rgba(0, 0, 0, 0.15);\n",
              "      filter: drop-shadow(0px 1px 2px rgba(0, 0, 0, 0.3));\n",
              "      fill: #FFFFFF;\n",
              "    }\n",
              "  </style>\n",
              "\n",
              "      <script>\n",
              "        const buttonEl =\n",
              "          document.querySelector('#df-c9ca6b99-2eb8-4342-ac43-335dfedf9eff button.colab-df-convert');\n",
              "        buttonEl.style.display =\n",
              "          google.colab.kernel.accessAllowed ? 'block' : 'none';\n",
              "\n",
              "        async function convertToInteractive(key) {\n",
              "          const element = document.querySelector('#df-c9ca6b99-2eb8-4342-ac43-335dfedf9eff');\n",
              "          const dataTable =\n",
              "            await google.colab.kernel.invokeFunction('convertToInteractive',\n",
              "                                                     [key], {});\n",
              "          if (!dataTable) return;\n",
              "\n",
              "          const docLinkHtml = 'Like what you see? Visit the ' +\n",
              "            '<a target=\"_blank\" href=https://colab.research.google.com/notebooks/data_table.ipynb>data table notebook</a>'\n",
              "            + ' to learn more about interactive tables.';\n",
              "          element.innerHTML = '';\n",
              "          dataTable['output_type'] = 'display_data';\n",
              "          await google.colab.output.renderOutput(dataTable, element);\n",
              "          const docLink = document.createElement('div');\n",
              "          docLink.innerHTML = docLinkHtml;\n",
              "          element.appendChild(docLink);\n",
              "        }\n",
              "      </script>\n",
              "    </div>\n",
              "  </div>\n",
              "  "
            ]
          },
          "metadata": {},
          "execution_count": 21
        }
      ]
    },
    {
      "cell_type": "code",
      "source": [
        "fig, axs = plt.subplots(ncols=2)\n",
        "df.groupby(['Class'])['Duration(s)'].plot(kind='kde', ax=axs[1],legend=True)\n",
        "df.groupby(['Class'])['Duration(s)'].hist(alpha=0.4, ax=axs[0])\n",
        "range=[df['Duration(s)'].min(), df['Duration(s)'].max()]\n",
        "fig = matplotlib.pyplot.gcf()\n",
        "fig.set_size_inches(18.5, 10.5)\n",
        "save_plot = 1\n",
        "# save the plot\n",
        "if save_plot == 1:\n",
        "  fig1 = plt.gcf()\n",
        "  pylab.savefig(outputPath,pad_inches=0)\n",
        "  plt.cla()\n",
        "  pylab.close()\n",
        "  plt.close(fig1)"
      ],
      "metadata": {
        "id": "RV6abdjWlyTn"
      },
      "execution_count": null,
      "outputs": []
    }
  ],
  "metadata": {
    "colab": {
      "collapsed_sections": [
        "4v0ytLlfkqPe"
      ],
      "provenance": [],
      "mount_file_id": "1R-oWf_X_Jmyx_k4G6TUc9wFcN9hqGEp4",
      "authorship_tag": "ABX9TyPFUFMTMRe+0zzDLLrG/FNm",
      "include_colab_link": true
    },
    "kernelspec": {
      "display_name": "Python 3",
      "name": "python3"
    },
    "language_info": {
      "name": "python"
    }
  },
  "nbformat": 4,
  "nbformat_minor": 0
}