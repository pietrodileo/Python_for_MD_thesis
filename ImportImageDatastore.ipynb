{
  "nbformat": 4,
  "nbformat_minor": 0,
  "metadata": {
    "colab": {
      "provenance": [],
      "collapsed_sections": [],
      "mount_file_id": "15xlb_3JYgV11BhKHDuysFV-lF-O3GQVP",
      "authorship_tag": "ABX9TyNyYIAGFEXTboIMhaTJ+yct",
      "include_colab_link": true
    },
    "kernelspec": {
      "name": "python3",
      "display_name": "Python 3"
    },
    "language_info": {
      "name": "python"
    }
  },
  "cells": [
    {
      "cell_type": "markdown",
      "metadata": {
        "id": "view-in-github",
        "colab_type": "text"
      },
      "source": [
        "<a href=\"https://colab.research.google.com/github/pietrodileo/Python_for_MD_thesis/blob/main/ImportImageDatastore.ipynb\" target=\"_parent\"><img src=\"https://colab.research.google.com/assets/colab-badge.svg\" alt=\"Open In Colab\"/></a>"
      ]
    },
    {
      "cell_type": "markdown",
      "source": [
        "# Creiamo un datastore di immagini che possa essere usato come training set per addestrare una CNN"
      ],
      "metadata": {
        "id": "5uhmSEQqhIsy"
      }
    },
    {
      "cell_type": "markdown",
      "source": [
        "Carichiamo le librerie e il path da cui prendere le immagini"
      ],
      "metadata": {
        "id": "Zs9phlE9jvQQ"
      }
    },
    {
      "cell_type": "code",
      "source": [
        "#importing the libraries\n",
        "import os \n",
        "import cv2\n",
        "import numpy as np\n",
        "import matplotlib.pyplot as plt\n",
        "import pdb\n",
        "# set a breakpoint\n",
        "#pdb.set_trace(), (type h for help) \n",
        "#pdb.set_trace()\n",
        "\n",
        "#let the plot appear and store it with the notebook\n",
        "%matplotlib inline\n",
        "#setting the path to the directory containing the pics\n",
        "path = '/content/drive/MyDrive/SpectrogramDatastore/DBS_noiseless_E'\n",
        "\n",
        "#list all the files in the folder path\n",
        "files = os.listdir(path) \n",
        "\n",
        "#appending the pics to the training data list\n",
        "training_data = []\n",
        "for img in os.listdir(path):\n",
        "    # select only the images\n",
        "    if img is not None:\n",
        "            pic = cv2.imread(os.path.join(path,img))\n",
        "            pic = cv2.cvtColor(pic,cv2.COLOR_BGR2RGB)\n",
        "            #pic = cv2.resize(pic,(80,80))\n",
        "            training_data.append([pic])\n",
        "\n",
        "#converting the list to numpy array and saving it to a file using #numpy.save\n",
        "np.save(os.path.join(path,'features'),np.array(training_data))\n",
        "\n",
        "#loading the saved file once again\n",
        "saved = np.load(os.path.join(path,'features.npy'))\n",
        "\n",
        "plt.imshow(saved[0].reshape(80,80,3))\n",
        "plt.imshow(np.array(training_data[0]).reshape(80,80,3))\n"
      ],
      "metadata": {
        "colab": {
          "base_uri": "https://localhost:8080/",
          "height": 235
        },
        "id": "9zj1uC9963Bq",
        "outputId": "6757555e-61af-4d33-caf2-5a0c1a019c3c"
      },
      "execution_count": 5,
      "outputs": [
        {
          "output_type": "error",
          "ename": "error",
          "evalue": "ignored",
          "traceback": [
            "\u001b[0;31m---------------------------------------------------------------------------\u001b[0m",
            "\u001b[0;31merror\u001b[0m                                     Traceback (most recent call last)",
            "\u001b[0;32m<ipython-input-5-28424b10f388>\u001b[0m in \u001b[0;36m<module>\u001b[0;34m\u001b[0m\n\u001b[1;32m     20\u001b[0m \u001b[0mtraining_data\u001b[0m \u001b[0;34m=\u001b[0m \u001b[0;34m[\u001b[0m\u001b[0;34m]\u001b[0m\u001b[0;34m\u001b[0m\u001b[0;34m\u001b[0m\u001b[0m\n\u001b[1;32m     21\u001b[0m \u001b[0;32mfor\u001b[0m \u001b[0mimg\u001b[0m \u001b[0;32min\u001b[0m \u001b[0mos\u001b[0m\u001b[0;34m.\u001b[0m\u001b[0mlistdir\u001b[0m\u001b[0;34m(\u001b[0m\u001b[0mpath\u001b[0m\u001b[0;34m)\u001b[0m\u001b[0;34m:\u001b[0m\u001b[0;34m\u001b[0m\u001b[0;34m\u001b[0m\u001b[0m\n\u001b[0;32m---> 22\u001b[0;31m     \u001b[0mpic\u001b[0m \u001b[0;34m=\u001b[0m \u001b[0mcv2\u001b[0m\u001b[0;34m.\u001b[0m\u001b[0mimread\u001b[0m\u001b[0;34m(\u001b[0m\u001b[0mos\u001b[0m\u001b[0;34m.\u001b[0m\u001b[0mpath\u001b[0m\u001b[0;34m.\u001b[0m\u001b[0mjoin\u001b[0m\u001b[0;34m(\u001b[0m\u001b[0mpath\u001b[0m\u001b[0;34m,\u001b[0m\u001b[0mimg\u001b[0m\u001b[0;34m)\u001b[0m\u001b[0;34m)\u001b[0m\u001b[0;34m\u001b[0m\u001b[0;34m\u001b[0m\u001b[0m\n\u001b[0m\u001b[1;32m     23\u001b[0m     \u001b[0mpic\u001b[0m \u001b[0;34m=\u001b[0m \u001b[0mcv2\u001b[0m\u001b[0;34m.\u001b[0m\u001b[0mcvtColor\u001b[0m\u001b[0;34m(\u001b[0m\u001b[0mpic\u001b[0m\u001b[0;34m,\u001b[0m\u001b[0mcv2\u001b[0m\u001b[0;34m.\u001b[0m\u001b[0mCOLOR_BGR2RGB\u001b[0m\u001b[0;34m)\u001b[0m\u001b[0;34m\u001b[0m\u001b[0;34m\u001b[0m\u001b[0m\n\u001b[1;32m     24\u001b[0m     \u001b[0;31m#pic = cv2.resize(pic,(80,80))\u001b[0m\u001b[0;34m\u001b[0m\u001b[0;34m\u001b[0m\u001b[0;34m\u001b[0m\u001b[0m\n",
            "\u001b[0;31merror\u001b[0m: OpenCV(4.6.0) /io/opencv/modules/imgproc/src/color.cpp:182: error: (-215:Assertion failed) !_src.empty() in function 'cvtColor'\n"
          ]
        }
      ]
    },
    {
      "cell_type": "code",
      "source": [
        "#importing the libraries\n",
        "import os \n",
        "import cv2\n",
        "import numpy as np\n",
        "import matplotlib.pyplot as plt\n",
        "import pdb\n",
        "\n",
        "# Define a local function\n",
        "def load_images_from_folder(folder):\n",
        "    images = []\n",
        "    for filename in os.listdir(folder):\n",
        "        img = cv2.imread(os.path.join(folder,filename))\n",
        "        # if img is an image (so if it is not None), append it to the images list\n",
        "        if img is not None:\n",
        "            images.append(img)\n",
        "    return images\n",
        "\n",
        "#let the plot appear and store it with the notebook\n",
        "%matplotlib inline\n",
        "#setting the path to the directory containing the pics\n",
        "path = '/content/drive/MyDrive/SpectrogramDatastore/DBS_noiseless_E'\n",
        "\n",
        "# load all the images in the path to a local list\n",
        "images_list = load_images_from_folder(path)\n"
      ],
      "metadata": {
        "id": "Cbl2KdhOftS9"
      },
      "execution_count": 9,
      "outputs": []
    }
  ]
}