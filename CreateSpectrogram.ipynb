{
  "cells": [
    {
      "cell_type": "markdown",
      "metadata": {
        "id": "view-in-github",
        "colab_type": "text"
      },
      "source": [
        "<a href=\"https://colab.research.google.com/github/pietrodileo/Python_for_MD_thesis/blob/main/CreateSpectrogram.ipynb\" target=\"_parent\"><img src=\"https://colab.research.google.com/assets/colab-badge.svg\" alt=\"Open In Colab\"/></a>"
      ]
    },
    {
      "cell_type": "markdown",
      "metadata": {
        "id": "4v0ytLlfkqPe"
      },
      "source": [
        "# 🔊 **Audio Signal Visualization** \n",
        "## Generate easily different plot from audio signals stored in Google Drive"
      ]
    },
    {
      "cell_type": "markdown",
      "metadata": {
        "id": "75sL32jtmAjS"
      },
      "source": [
        "## Import libraries 📚"
      ]
    },
    {
      "cell_type": "code",
      "execution_count": 1,
      "metadata": {
        "colab": {
          "base_uri": "https://localhost:8080/"
        },
        "id": "LuPxg6GVwA9r",
        "outputId": "728c4716-08d6-456f-a769-86d24ce1dbe9"
      },
      "outputs": [
        {
          "output_type": "stream",
          "name": "stdout",
          "text": [
            "Looking in indexes: https://pypi.org/simple, https://us-python.pkg.dev/colab-wheels/public/simple/\n",
            "Requirement already satisfied: audiomentations in /usr/local/lib/python3.7/dist-packages (0.27.0)\n",
            "Requirement already satisfied: numpy>=1.13.0 in /usr/local/lib/python3.7/dist-packages (from audiomentations) (1.21.6)\n",
            "Requirement already satisfied: librosa<0.10.0,>0.7.2 in /usr/local/lib/python3.7/dist-packages (from audiomentations) (0.8.1)\n",
            "Requirement already satisfied: scipy<2,>=1.0.0 in /usr/local/lib/python3.7/dist-packages (from audiomentations) (1.7.3)\n",
            "Requirement already satisfied: audioread>=2.0.0 in /usr/local/lib/python3.7/dist-packages (from librosa<0.10.0,>0.7.2->audiomentations) (3.0.0)\n",
            "Requirement already satisfied: joblib>=0.14 in /usr/local/lib/python3.7/dist-packages (from librosa<0.10.0,>0.7.2->audiomentations) (1.2.0)\n",
            "Requirement already satisfied: numba>=0.43.0 in /usr/local/lib/python3.7/dist-packages (from librosa<0.10.0,>0.7.2->audiomentations) (0.56.3)\n",
            "Requirement already satisfied: decorator>=3.0.0 in /usr/local/lib/python3.7/dist-packages (from librosa<0.10.0,>0.7.2->audiomentations) (4.4.2)\n",
            "Requirement already satisfied: scikit-learn!=0.19.0,>=0.14.0 in /usr/local/lib/python3.7/dist-packages (from librosa<0.10.0,>0.7.2->audiomentations) (1.0.2)\n",
            "Requirement already satisfied: resampy>=0.2.2 in /usr/local/lib/python3.7/dist-packages (from librosa<0.10.0,>0.7.2->audiomentations) (0.4.2)\n",
            "Requirement already satisfied: soundfile>=0.10.2 in /usr/local/lib/python3.7/dist-packages (from librosa<0.10.0,>0.7.2->audiomentations) (0.11.0)\n",
            "Requirement already satisfied: pooch>=1.0 in /usr/local/lib/python3.7/dist-packages (from librosa<0.10.0,>0.7.2->audiomentations) (1.6.0)\n",
            "Requirement already satisfied: packaging>=20.0 in /usr/local/lib/python3.7/dist-packages (from librosa<0.10.0,>0.7.2->audiomentations) (21.3)\n",
            "Requirement already satisfied: importlib-metadata in /usr/local/lib/python3.7/dist-packages (from numba>=0.43.0->librosa<0.10.0,>0.7.2->audiomentations) (4.13.0)\n",
            "Requirement already satisfied: llvmlite<0.40,>=0.39.0dev0 in /usr/local/lib/python3.7/dist-packages (from numba>=0.43.0->librosa<0.10.0,>0.7.2->audiomentations) (0.39.1)\n",
            "Requirement already satisfied: setuptools in /usr/local/lib/python3.7/dist-packages (from numba>=0.43.0->librosa<0.10.0,>0.7.2->audiomentations) (57.4.0)\n",
            "Requirement already satisfied: pyparsing!=3.0.5,>=2.0.2 in /usr/local/lib/python3.7/dist-packages (from packaging>=20.0->librosa<0.10.0,>0.7.2->audiomentations) (3.0.9)\n",
            "Requirement already satisfied: appdirs>=1.3.0 in /usr/local/lib/python3.7/dist-packages (from pooch>=1.0->librosa<0.10.0,>0.7.2->audiomentations) (1.4.4)\n",
            "Requirement already satisfied: requests>=2.19.0 in /usr/local/lib/python3.7/dist-packages (from pooch>=1.0->librosa<0.10.0,>0.7.2->audiomentations) (2.23.0)\n",
            "Requirement already satisfied: urllib3!=1.25.0,!=1.25.1,<1.26,>=1.21.1 in /usr/local/lib/python3.7/dist-packages (from requests>=2.19.0->pooch>=1.0->librosa<0.10.0,>0.7.2->audiomentations) (1.24.3)\n",
            "Requirement already satisfied: certifi>=2017.4.17 in /usr/local/lib/python3.7/dist-packages (from requests>=2.19.0->pooch>=1.0->librosa<0.10.0,>0.7.2->audiomentations) (2022.9.24)\n",
            "Requirement already satisfied: idna<3,>=2.5 in /usr/local/lib/python3.7/dist-packages (from requests>=2.19.0->pooch>=1.0->librosa<0.10.0,>0.7.2->audiomentations) (2.10)\n",
            "Requirement already satisfied: chardet<4,>=3.0.2 in /usr/local/lib/python3.7/dist-packages (from requests>=2.19.0->pooch>=1.0->librosa<0.10.0,>0.7.2->audiomentations) (3.0.4)\n",
            "Requirement already satisfied: threadpoolctl>=2.0.0 in /usr/local/lib/python3.7/dist-packages (from scikit-learn!=0.19.0,>=0.14.0->librosa<0.10.0,>0.7.2->audiomentations) (3.1.0)\n",
            "Requirement already satisfied: cffi>=1.0 in /usr/local/lib/python3.7/dist-packages (from soundfile>=0.10.2->librosa<0.10.0,>0.7.2->audiomentations) (1.15.1)\n",
            "Requirement already satisfied: pycparser in /usr/local/lib/python3.7/dist-packages (from cffi>=1.0->soundfile>=0.10.2->librosa<0.10.0,>0.7.2->audiomentations) (2.21)\n",
            "Requirement already satisfied: zipp>=0.5 in /usr/local/lib/python3.7/dist-packages (from importlib-metadata->numba>=0.43.0->librosa<0.10.0,>0.7.2->audiomentations) (3.9.0)\n",
            "Requirement already satisfied: typing-extensions>=3.6.4 in /usr/local/lib/python3.7/dist-packages (from importlib-metadata->numba>=0.43.0->librosa<0.10.0,>0.7.2->audiomentations) (4.1.1)\n"
          ]
        }
      ],
      "source": [
        "#importing the libraries\n",
        "import os \n",
        "import cv2\n",
        "import numpy as np\n",
        "import matplotlib\n",
        "#This backend of matplotlib doesn't show plots to the user, but we can save them to Google Drive\n",
        "matplotlib.use('Agg')\n",
        "import matplotlib.pyplot as plt\n",
        "import pdb\n",
        "import librosa\n",
        "import librosa.display\n",
        "from scipy.io import wavfile\n",
        "import seaborn as sns\n",
        "from pathlib import Path\n",
        "import pylab\n",
        "import sys\n",
        "import soundfile as sf\n",
        "import tensorflow as tf\n",
        "!pip install audiomentations\n",
        "import torch\n",
        "import torchaudio\n",
        "from torchaudio import transforms\n",
        "import IPython.display as ipd\n",
        "# Define augmentation functions\n",
        "from audiomentations import AddGaussianNoise, PitchShift, TimeStretch, RoomSimulator"
      ]
    },
    {
      "cell_type": "markdown",
      "metadata": {
        "id": "T3mhs-y6e5iD"
      },
      "source": [
        "# ➗ Define local functions"
      ]
    },
    {
      "cell_type": "markdown",
      "metadata": {
        "id": "35Y5pyDsbOJf"
      },
      "source": [
        "\n",
        "## Control functions \n",
        "In this section: the functions that define the outputPath and the analysis selection"
      ]
    },
    {
      "cell_type": "code",
      "execution_count": 2,
      "metadata": {
        "id": "sMVHTf6Wc0KF"
      },
      "outputs": [],
      "source": [
        "def outputPath(subfolder,filename,OUTPUT_DIR,destination):\n",
        "  file_path = os.path.join(subfolder, filename)\n",
        "  file_stem = Path(subfolder).stem\n",
        "  target_dir = f'class_{file_stem}'\n",
        "  destination_dir = os.path.join(os.path.join(OUTPUT_DIR, destination), target_dir)\n",
        "  # generate image name\n",
        "  file_stem = Path(file_path).stem\n",
        "  imageName = os.path.join(destination_dir, file_stem)\n",
        "  return file_path, destination_dir,imageName;\n",
        "\n",
        "def SelectDestination(selection_var):\n",
        "  if selection_var == 1:\n",
        "    destination = 'Sig_Spect'\n",
        "  elif selection_var == 2:\n",
        "    destination = 'Spectrogram' \n",
        "  elif selection_var == 3:\n",
        "    destination = 'Mel-Spectrogram' \n",
        "  elif selection_var == 4:\n",
        "    destination = 'Scalogram' \n",
        "  elif selection_var == 5:\n",
        "    destination = 'Chromagram'\n",
        "  elif selection_var == 6:\n",
        "    destination = 'MFCC'\n",
        "  elif selection_var == 7:\n",
        "    destination = 'RASTAMAT'\n",
        "  else: \n",
        "    # If an exact match is not confirmed, this last case will be used if provided\n",
        "    sys.exit(\"Assign a proper value to the selection variable!\")\n",
        "  return destination\n",
        "\n",
        "def signalAnalysis(selection_var,data,sample_rate,save_plot,imageName,overwriteControl,CMAP):\n",
        "  if selection_var == 1:\n",
        "    # Plot the signal\n",
        "    plotSignal(data,sample_rate,save_plot,imageName, overwriteControl,CMAP)\n",
        "    result = 0;\n",
        "  elif selection_var == 2:\n",
        "    # Plot Spectrogram\n",
        "    result = spectrogramPlot(data,sample_rate,save_plot,imageName, overwriteControl,CMAP)\n",
        "  elif selection_var == 3:\n",
        "    result = MelSpectrogramPlot(data,sample_rate,save_plot,imageName, overwriteControl,CMAP)\n",
        "  elif selection_var == 4:\n",
        "    result = Scalogram(data,sample_rate,save_plot,imageName, overwriteControl,CMAP)\n",
        "  elif selection_var == 5:\n",
        "    result = Chromagram(data,sample_rate,save_plot,imageName, overwriteControl,CMAP)\n",
        "  elif selection_var == 6:\n",
        "    result = plotMFCC(data,sample_rate,save_plot,imageName, overwriteControl,CMAP)\n",
        "  elif selection_var == 7:\n",
        "    result = plotRASTAMAT(data,sample_rate,save_plot,imageName, overwriteControl,CMAP)\n",
        "  else: \n",
        "    # If an exact match is not confirmed, this last case will be used if provided\n",
        "    sys.exit(\"Assign a proper value to the selection variable!\")\n",
        "  return result"
      ]
    },
    {
      "cell_type": "markdown",
      "metadata": {
        "id": "BHIt_Px87Ist"
      },
      "source": [
        "## Plot Signal Function"
      ]
    },
    {
      "cell_type": "code",
      "execution_count": 3,
      "metadata": {
        "id": "6prw0knV7HrO"
      },
      "outputs": [],
      "source": [
        "def plotSignal(data,sample_rate,save_plot,imageName):\n",
        "    print('Working on it...')\n",
        "    # plt.figure(figsize=(20,20))\n",
        "    \n",
        "    # plot_a = plt.subplot(211)\n",
        "    # #plot_a.set_title('Title')\n",
        "    # plot_a.plot(data)\n",
        "    # plot_a.set_xlabel('sample rate * time')\n",
        "    # plot_a.set_ylabel('energy')\n",
        "\n",
        "    # plot_b = plt.subplot(212)\n",
        "    # plot_b.specgram(data, NFFT=1024, Fs=sample_rate, noverlap=900)\n",
        "    # plot_b.set_xlabel('Time')\n",
        "    # plot_b.set_ylabel('Frequency')\n",
        "    \n",
        "    # plt.show()\n",
        "\n",
        "    # # save the plot\n",
        "    # if save_plot == 1:\n",
        "    #   fig1 = plt.gcf()\n",
        "    #   pylab.savefig(f'{imageName}.png',bbox_inches='tight',pad_inches=0)\n",
        "    #   pylab.close() \n"
      ]
    },
    {
      "cell_type": "markdown",
      "metadata": {
        "id": "o_5E3Y_H7UnT"
      },
      "source": [
        "## Plot Spectrogram and Mel-Spectrogram functions\n",
        "\n"
      ]
    },
    {
      "cell_type": "code",
      "execution_count": 4,
      "metadata": {
        "id": "YKLjUfw77O42"
      },
      "outputs": [],
      "source": [
        "def spectrogramPlot(y,sample_rate,save_plot,imageName,overwriteControl,CMAP):\n",
        "  \n",
        "  # D_highres: numpy array\n",
        "  D_highres = librosa.stft(y, hop_length=256, n_fft=4096)\n",
        "  # converting into energy levels(dB)\n",
        "  S_db_hr = librosa.amplitude_to_db(np.abs(D_highres), ref=np.max)\n",
        "  \n",
        "  # overwrite control after calculating the spectrum because it could be necessary to the image augmentation procedure with the overwrite control\n",
        "  outputName = f'{imageName}_regular.png'\n",
        "  if overwriteControl == 1 and os.path.exists(outputName):\n",
        "    return S_db_hr\n",
        "  \n",
        "  fig1 = plt.figure()\n",
        "  plt.figure(figsize=(20, 20), frameon=False)\n",
        "\n",
        "  librosa.display.specshow(S_db_hr, hop_length=256, sr=sample_rate, \n",
        "                           x_axis='time', y_axis='log',cmap=CMAP)\n",
        "  #plt.colorbar()\n",
        "  plt.clim(-80,0)  # identical to caxis([-4,4]) in MATLAB\n",
        "  plt.ylim([0, 11000])\n",
        "  plt.axis('off')\n",
        "\n",
        "  # save the plot\n",
        "  if save_plot == 1:\n",
        "    fig1 = plt.gcf()\n",
        "    pylab.savefig(outputName)\n",
        "    pylab.close()\n",
        "\n",
        "  return S_db_hr\n",
        "\n",
        "def MelSpectrogramPlot(y,sample_rate,save_plot,imageName,overwriteControl,CMAP):\n",
        "  \n",
        "  M = librosa.feature.melspectrogram(y=y, sr=sample_rate, n_fft=4096)\n",
        "  M_db = librosa.power_to_db(M, ref=np.max)\n",
        "\n",
        "  outputName = f'{imageName}_regular.png'\n",
        "  if overwriteControl == 1 and os.path.exists(outputName):\n",
        "    return M_db\n",
        "\n",
        "  fig1 = plt.figure()\n",
        "\n",
        "  plt.figure(figsize=(20, 20), frameon=False)\n",
        "  librosa.display.specshow(M_db, sr=sample_rate, x_axis='time', \n",
        "                           y_axis='mel',cmap=CMAP)\n",
        "  #plt.colorbar()\n",
        "  plt.clim(-80,0)  # identical to caxis([-4,4]) in MATLAB\n",
        "  plt.ylim([0, 11000])\n",
        "  plt.axis('off')\n",
        "  \n",
        "  # save the plot\n",
        "  if save_plot == 1:\n",
        "    fig1 = plt.gcf()\n",
        "    pylab.savefig(outputName,bbox_inches='tight',pad_inches=0)\n",
        "    pylab.close()\n",
        "  \n",
        "  return M_db"
      ]
    },
    {
      "cell_type": "markdown",
      "metadata": {
        "id": "w2clFz_V7YaU"
      },
      "source": [
        "## Plot Scalogram Function"
      ]
    },
    {
      "cell_type": "code",
      "execution_count": 5,
      "metadata": {
        "id": "ZVsIRBkJ7RlY"
      },
      "outputs": [],
      "source": [
        "def Scalogram(data,sample_rate,save_plot,imageName,overwriteControl,CMAP):\n",
        "  print('Working on it...')"
      ]
    },
    {
      "cell_type": "markdown",
      "metadata": {
        "id": "RPheqjMf7hCc"
      },
      "source": [
        "## Plot Chromagram"
      ]
    },
    {
      "cell_type": "code",
      "execution_count": 6,
      "metadata": {
        "id": "OgZ4lBql7gb4"
      },
      "outputs": [],
      "source": [
        "def Chromagram(data,sample_rate,save_plot,imageName,overwriteControl,CMAP):\n",
        "  print('Working on it...')"
      ]
    },
    {
      "cell_type": "markdown",
      "metadata": {
        "id": "0NLKsFNo7k-2"
      },
      "source": [
        "## Plot MFCC"
      ]
    },
    {
      "cell_type": "code",
      "execution_count": 7,
      "metadata": {
        "id": "hjN7d_ty7j_J"
      },
      "outputs": [],
      "source": [
        "def plotMFCC(data,sample_rate,save_plot,imageName,overwriteControl,CMAP):\n",
        "  \n",
        "  n_mfcc = 13\n",
        "  n_mels = 40\n",
        "  n_fft = 4096 \n",
        "  hop_length = 160\n",
        "  fmin = 0\n",
        "  fmax = None\n",
        "  mfcc_librosa = librosa.feature.mfcc(y=data, sr=sample_rate, n_fft=n_fft,\n",
        "                                      n_mfcc=n_mfcc, n_mels=n_mels,\n",
        "                                      hop_length=hop_length,\n",
        "                                      fmin=fmin, fmax=fmax, htk=False)\n",
        "  \n",
        "  outputName = f'{imageName}_regular.png'\n",
        "  if overwriteControl == 1 and os.path.exists(outputName):\n",
        "    return mfcc_librosa\n",
        "  \n",
        "  plt.figure(figsize=(20, 20), frameon=False)\n",
        "  sns.heatmap(mfcc_librosa, vmin=-500, vmax=300, cbar=False)\n",
        "  plt.axis('off')\n",
        "  \n",
        "  # save the plot\n",
        "  if save_plot == 1:\n",
        "    fig1 = plt.gcf()\n",
        "    pylab.savefig(outputName,bbox_inches='tight',pad_inches=0)\n",
        "    pylab.close()\n",
        "    \n",
        "  return mfcc_librosa"
      ]
    },
    {
      "cell_type": "markdown",
      "metadata": {
        "id": "Dlff-LdRGC6g"
      },
      "source": [
        "## Plot RASTAMAT"
      ]
    },
    {
      "cell_type": "code",
      "execution_count": 8,
      "metadata": {
        "id": "W3Ujlaj6GEvT"
      },
      "outputs": [],
      "source": [
        "def plotRASTAMAT(data,sample_rate,save_plot,imageName,overwriteControl,CMAP):\n",
        "  \n",
        "  n_mfcc = 13\n",
        "  n_mels = 40\n",
        "  n_fft = 4096 \n",
        "  hop_length = 160\n",
        "  fmin = 0\n",
        "  fmax = None\n",
        "  mfcc_librosa = librosa.feature.mfcc(y=data, sr=sample_rate, n_fft=n_fft,\n",
        "                                      n_mfcc=n_mfcc, n_mels=n_mels,\n",
        "                                      hop_length=hop_length,\n",
        "                                      fmin=fmin, fmax=fmax, dct_type = 2,\n",
        "                                      htk=False)\n",
        "  \n",
        "  outputName = f'{imageName}_regular.png'\n",
        "  if overwriteControl == 1 and os.path.exists(outputName):\n",
        "    return mfcc_librosa\n",
        "\n",
        "  plt.figure(figsize=(20, 20), frameon=False)\n",
        "  sns.heatmap(mfcc_librosa, vmin=-500, vmax=300, cbar=False)\n",
        "  plt.axis('off')\n",
        "\n",
        "  # save the plot\n",
        "  if save_plot == 1:\n",
        "    fig1 = plt.gcf()\n",
        "    pylab.savefig(outputName,bbox_inches='tight',pad_inches=0)\n",
        "    pylab.close()\n",
        "\n",
        "  return mfcc_librosa"
      ]
    },
    {
      "cell_type": "markdown",
      "source": [
        "# 🏗 Data Normalization "
      ],
      "metadata": {
        "id": "J1vORkhunRTc"
      }
    },
    {
      "cell_type": "code",
      "source": [
        "# Data normalization function\n",
        "from audiomentations import Normalize, Compose\n",
        "# data normalization\n",
        "DataNormalization = Compose([Normalize(p=1.0)])  "
      ],
      "metadata": {
        "id": "tg_G9WQnPVwy"
      },
      "execution_count": 9,
      "outputs": []
    },
    {
      "cell_type": "markdown",
      "metadata": {
        "id": "v7dg0zDO27lD"
      },
      "source": [
        "# 🎨 Data augmentation Functions"
      ]
    },
    {
      "cell_type": "markdown",
      "metadata": {
        "id": "k6XmeQSo5ZeT"
      },
      "source": [
        "## Data Augmentation to the Signal"
      ]
    },
    {
      "cell_type": "code",
      "source": [
        "def DataAugmentation(data,sample_rate,selection_var,save_plot,\n",
        "                     imageName,overwriteControl,CMAP,result):\n",
        "  ## 1. Data Augmentation to the signal\n",
        "  Signal_Augmentation(selection_var,data,sample_rate,\n",
        "                          save_plot,imageName,overwriteControl,CMAP)\n",
        "  \n",
        "  ## 2. Data Augmentation to the spectrogram\n",
        "  # Freq masking\n",
        "  param = 10 \n",
        "  FreqBandNum = 5\n",
        "  FrequencyMasking(result,param,FreqBandNum,sample_rate,\n",
        "                   save_plot,imageName,overwriteControl,CMAP)\n",
        "  # Time masking\n",
        "  TimeBandNum = 4\n",
        "  TimeMasking(result,param,TimeBandNum,sample_rate,\n",
        "                  save_plot,imageName,overwriteControl,CMAP)\n",
        "  # Time + Frequency\n",
        "  FreqBandNum = 3\n",
        "  TimeBandNum = 2\n",
        "  Freq_and_Time_Masking(result,param,TimeBandNum,FreqBandNum,sample_rate,\n",
        "                        save_plot,imageName,overwriteControl,CMAP)"
      ],
      "metadata": {
        "id": "ig2sKpfHnMLC"
      },
      "execution_count": 10,
      "outputs": []
    },
    {
      "cell_type": "code",
      "source": [
        "def my_GaussianNoiseAddition(data, sample_rate):\n",
        "  # Play audio in Jupiter Notebook / Google Colab\n",
        "  #ipd.Audio('audio/conga_groove.wav') # load a local WAV file\n",
        "  #ipd.Audio(data, rate=sample_rate) # load a NumPy array\n",
        "  rms = np.sqrt(np.mean(data**2))\n",
        "  # Noise is 20% of RMS value of the signal\n",
        "  noiseMean = 0.20*rms\n",
        "  noiseLen = len(data)\n",
        "  stdDevNoise = 0.20*np.std(data)\n",
        "  noise = np.random.normal(noiseMean,stdDevNoise,noiseLen)\n",
        "  # noiseMean is the mean of the normal distribution you are choosing from\n",
        "  # stdDevNoise is the standard deviation of the normal distribution\n",
        "  # noiseLen is the number of elements you get in array noise\n",
        "  noisyData = data+noise\n",
        "  #ipd.Audio(data2, rate=sample_rate) # load a NumPy array\n",
        "  return noisyData"
      ],
      "metadata": {
        "id": "ASgQ2A_xocYG"
      },
      "execution_count": 11,
      "outputs": []
    },
    {
      "cell_type": "code",
      "execution_count": 12,
      "metadata": {
        "id": "Q7GZlEZ05iHd"
      },
      "outputs": [],
      "source": [
        "def Signal_Augmentation(selection_var,data,sample_rate,save_plot,imageName,overwriteControl,CMAP):\n",
        "  \n",
        "  # For noise addition I use my own function\n",
        "  # add gaussian noise\n",
        "  # AddNoise = Compose([AddGaussianNoise(min_amplitude = minNoise, max_amplitude = maxNoise, p=1)])\n",
        "  \n",
        "  # Multiaugmentation (not necessary)\n",
        "  # augment = Compose([AddGaussianNoise(min_amplitude = minNoise, max_amplitude = maxNoise, p=1),\n",
        "  #     PitchShift(min_semitones = -8, max_semitones = -8, p=1),\n",
        "  #     TimeStretch(min_rate=0.8,max_rate=1.25,leave_length_unchanged=True,p=1.0),\n",
        "  #     #HighPassFilter(min_cutoff_freq = 2000, max_cutoff_freq=4000, p=1) \n",
        "  #     ])\n",
        "   \n",
        "  # shift pitch (shift a random number of semitones between min_semitones and max_semitones)\n",
        "  pitchShifting = Compose([PitchShift(min_semitones = -2, max_semitones = -2, p=1)])\n",
        "\n",
        "  # pitch shifting with formant preservation (unused due bad conversion results)\n",
        "  # pitch = 1.1\n",
        "  # formantPreservation = 1\n",
        "  # timbre = 1\n",
        "  # pitchshifter = StftPitchShift(1024, 256, sample_rate)\n",
        "  # y = pitchshifter.shiftpitch(data,pitch, formantPreservation, timbre)\n",
        "  # ipd.Audio(y, rate=sample_rate) # load a NumPy array\n",
        "\n",
        "  # stretch time\n",
        "  timeStretch = Compose([TimeStretch(min_rate=0.8,max_rate=1.25,leave_length_unchanged=True,p=1.0)])\n",
        "\n",
        "  # Large Room Simulation (more reverb)\n",
        "  # RoomSimulation = Compose([RoomSimulator(calculation_mode=\"absorption\",\n",
        "  #                                         min_absorption_value=0.00015,\n",
        "  #                                         max_absorption_value=0.001,\n",
        "  #                                         min_source_x = 0.1,\n",
        "  #                                         max_source_x = 1,\n",
        "  #                                         min_mic_distance=0.3,\n",
        "  #                                         max_mic_distance=0.5,\n",
        "  #                                         use_ray_tracing=True)])\n",
        "  rt60 = 0.9 #min 0.2 for small rooms\n",
        "  LargeRoom = Compose([RoomSimulator(calculation_mode=\"rt60\",\n",
        "                                        min_target_rt60=rt60-0.1,\n",
        "                                        max_target_rt60=rt60+0.1,\n",
        "                                        use_ray_tracing=True)])\n",
        "\n",
        "  # Save plot = 0 or the picture will overwrite the non-augmented one\n",
        "  # also overwritecontrol = 0, because it is not necessary in this case\n",
        "  outputName = f'{imageName}_GaussianNoise.png'\n",
        "  if not(overwriteControl == 1 and os.path.exists(outputName)): \n",
        "    #noisy_signal = AddNoise(data,sample_rate)\n",
        "    noisy_signal = my_GaussianNoiseAddition(data,sample_rate)\n",
        "    signalAnalysis(selection_var,noisy_signal,sample_rate,0,imageName,0,CMAP)\n",
        "    if save_plot == 1:\n",
        "      fig = plt.gcf()\n",
        "      pylab.savefig(outputName,bbox_inches='tight',pad_inches=0)\n",
        "      pylab.close()\n",
        " \n",
        "  outputName = f'{imageName}_PitchShifted.png'\n",
        "  if not(overwriteControl == 1 and os.path.exists(outputName)): \n",
        "    pitchy_signal = pitchShifting(data,sample_rate)\n",
        "    signalAnalysis(selection_var,pitchy_signal,sample_rate,0,imageName,0,CMAP)\n",
        "    if save_plot == 1:\n",
        "      fig = plt.gcf()\n",
        "      pylab.savefig(outputName,bbox_inches='tight',pad_inches=0)\n",
        "      pylab.close()\n",
        "\n",
        "  outputName = f'{imageName}_Stretched.png'\n",
        "  if not(overwriteControl == 1 and os.path.exists(outputName)): \n",
        "    stretchy_signal = timeStretch(data,sample_rate)\n",
        "    signalAnalysis(selection_var,stretchy_signal,sample_rate,0,imageName,0,CMAP)\n",
        "    if save_plot == 1:\n",
        "      fig = plt.gcf()\n",
        "      pylab.savefig(outputName,bbox_inches='tight',pad_inches=0)\n",
        "      pylab.close()\n",
        "  \n",
        "  outputName = f'{imageName}_LargeRoom.png'\n",
        "  if not(overwriteControl == 1 and os.path.exists(outputName)): \n",
        "    roomSim_signal = LargeRoom(data,sample_rate)\n",
        "    signalAnalysis(selection_var,roomSim_signal,sample_rate,0,imageName,0,CMAP)\n",
        "    if save_plot == 1:\n",
        "      fig = plt.gcf()\n",
        "      pylab.savefig(outputName,bbox_inches='tight',pad_inches=0)\n",
        "      pylab.close()\n",
        "\n",
        "  # outputName = f'{imageName}_SignalAugmented.png'\n",
        "  # if not(overwriteControl == 1 and os.path.exists(outputName)): \n",
        "  #   augmented_signal = augment(data,sample_rate)\n",
        "  #   signalAnalysis(selection_var,augmented_signal,sample_rate,0,imageName,0,CMAP)\n",
        "  #   if save_plot == 1:\n",
        "  #     fig = plt.gcf()\n",
        "  #     pylab.savefig(outputName,bbox_inches='tight',pad_inches=0)\n",
        "  #     pylab.close()"
      ]
    },
    {
      "cell_type": "markdown",
      "metadata": {
        "id": "ypiYdp7t5emp"
      },
      "source": [
        "##Data Augmentation to the Spectrogram/Plot 🤿"
      ]
    },
    {
      "cell_type": "markdown",
      "metadata": {
        "id": "6cQjCuypBh1S"
      },
      "source": [
        "### Time Masking"
      ]
    },
    {
      "cell_type": "code",
      "execution_count": 13,
      "metadata": {
        "id": "437qu6Ourawz"
      },
      "outputs": [],
      "source": [
        "def my_time_mask(input, param, TimeNum, name=None):\n",
        "    \"\"\"\n",
        "    Apply masking to a spectrogram in the freq domain.\n",
        "    Args:\n",
        "      input: An audio spectogram.\n",
        "      param: Parameter of masking.\n",
        "      name: A name for the operation (optional).\n",
        "    Returns:\n",
        "      A tensor of spectrogram.\n",
        "    \"\"\"\n",
        "    input = tf.convert_to_tensor(input)\n",
        "    minElement = tf.reduce_min(input)\n",
        "    # TODO: Support audio with channel > 1.\n",
        "    time_max = tf.shape(input)[1]\n",
        "    # calculate the indexes for all the frequencies\n",
        "    indices = tf.reshape(tf.range(time_max), (1, -1))\n",
        "    for x in range(TimeNum):\n",
        "      # param is the max value of a uniform random distribution\n",
        "      t = tf.random.uniform(shape=(), minval=0, \n",
        "                            maxval=param, dtype=tf.dtypes.int32)\n",
        "      # t0 is a random selected number from a uniform distribution \n",
        "      # with range (0, time_max-t)\n",
        "      t0 = tf.random.uniform(shape=(), minval=0, \n",
        "                             maxval=time_max - t, dtype=tf.dtypes.int32)\n",
        "      # select all the frequencies greater or equal to t0\n",
        "      cond1 = tf.math.greater_equal(indices, t0)\n",
        "      # select all the frequencies smaller than t0 + t\n",
        "      cond2 = tf.math.less(indices, t0 + t)\n",
        "      # select all the frequencies between t0 and t0 + t\n",
        "      condition = tf.math.logical_and(cond1, cond2)\n",
        "      time_mask = tf.where(condition,  minElement, input)\n",
        "\n",
        "      # I was working on an alternative with numpy, but using reduce_min with tensorflow is a better option\n",
        "      # c = tf.where(condition)\n",
        "      # selected_indexes = c[:,1].numpy()\n",
        "      # firstIndex = selected_indexes[0]\n",
        "      # lastIndex = selected_indexes[-1]+1\n",
        "      # time_mask = time_mask.numpy() \n",
        "      # minElement = np.amin(time_mask) #For faster implementation set directly: minElement = -80\n",
        "      # # Example: time_mask[:, 122:125] # time_mask columns from 122 to 124\n",
        "      # time_mask[:, firstIndex:lastIndex] = minElement\n",
        "      # input = tf.convert_to_tensor(time_mask)\n",
        "    return time_mask"
      ]
    },
    {
      "cell_type": "code",
      "execution_count": 14,
      "metadata": {
        "id": "sz5wh6Du5iU-"
      },
      "outputs": [],
      "source": [
        "def TimeMasking(result,param,TimeNum,sample_rate,save_plot,imageName,overwriteControl,CMAP):\n",
        "  \n",
        "  outputName = f'{imageName}_TimeMasked.png'\n",
        "  if overwriteControl == 1 and os.path.exists(outputName):\n",
        "    return \n",
        "  \n",
        "  # Freq masking\n",
        "  # Convert ndarray representing the spectrogram to a tensor for pytorch\n",
        "  result_tensor = torch.from_numpy(result)        \n",
        "  time_mask = my_time_mask(result_tensor, param, TimeNum)\n",
        "  plt.figure(figsize=(20, 20),frameon=False)\n",
        "\n",
        "  # TO DO: now the plot is limited to mel-spectrogram, define data augmentation also for MFCC, spectrogram, etc..\n",
        "  librosa.display.specshow(time_mask.numpy(), sr=sample_rate, x_axis='time', \n",
        "                           y_axis='mel',cmap=CMAP)   \n",
        "  #plt.colorbar()\n",
        "  plt.clim(-80,0)  # identical to caxis([-4,4]) in MATLAB\n",
        "  plt.ylim([0, 11000])\n",
        "  plt.axis('off')   \n",
        "  \n",
        "  if save_plot == 1:\n",
        "    fig2 = plt.gcf()\n",
        "    pylab.savefig(outputName,bbox_inches='tight',pad_inches=0)\n",
        "    pylab.close()"
      ]
    },
    {
      "cell_type": "markdown",
      "metadata": {
        "id": "Uosvnc4eBliJ"
      },
      "source": [
        "### Time Masking"
      ]
    },
    {
      "cell_type": "code",
      "execution_count": 15,
      "metadata": {
        "id": "yFUHqRYBUHBr"
      },
      "outputs": [],
      "source": [
        "def my_freq_mask(input, param, FreqNum, name=None):\n",
        "    \"\"\"\n",
        "    Apply masking to a spectrogram in the time domain.\n",
        "    Args:\n",
        "      input: An audio spectogram.\n",
        "      param: Parameter of masking.\n",
        "      name: A name for the operation (optional).\n",
        "    Returns:\n",
        "      A tensor of spectrogram.\n",
        "    \"\"\"\n",
        "    # code is quite similar to my_freq_mask\n",
        "    input = tf.convert_to_tensor(input)\n",
        "    minElement = tf.reduce_min(input)\n",
        "    # TODO: Support audio with channel > 1.\n",
        "    freq_max = tf.shape(input)[0]\n",
        "    indices = tf.reshape(tf.range(freq_max), (-1, 1))\n",
        "    for x in range(FreqNum):\n",
        "      f = tf.random.uniform(shape=(), minval=0, \n",
        "                          maxval=param, dtype=tf.dtypes.int32)\n",
        "      f0 = tf.random.uniform(shape=(), minval=0,\n",
        "                          maxval=freq_max - f, dtype=tf.dtypes.int32)\n",
        "      cond1 = tf.math.greater_equal(indices, f0)\n",
        "      cond2 = tf.math.less(indices, f0 + f)\n",
        "      condition = tf.math.logical_and(cond1, cond2)\n",
        "      masking = tf.where(condition, minElement, input)\n",
        "      input = masking\n",
        "    return masking"
      ]
    },
    {
      "cell_type": "code",
      "execution_count": 16,
      "metadata": {
        "id": "SJGSJn_LVbeX"
      },
      "outputs": [],
      "source": [
        "def FrequencyMasking(result,param,FreqNum,sample_rate,save_plot,imageName,overwriteControl,CMAP):\n",
        "  \n",
        "  outputName = f'{imageName}_FreqMasked.png'\n",
        "  if overwriteControl == 1 and os.path.exists(outputName):\n",
        "    return \n",
        "  \n",
        "  # Time masking\n",
        "  # Convert ndarray representing the spectrogram to a tensor for pytorch\n",
        "  result_tensor = torch.from_numpy(result)        \n",
        "  freq_mask = my_freq_mask(result_tensor, param, FreqNum)\n",
        "  \n",
        "  plt.figure(figsize=(20, 20), frameon=False)\n",
        "  librosa.display.specshow(freq_mask.numpy(), sr=sample_rate, x_axis='time', \n",
        "                           y_axis='mel',cmap=CMAP)   \n",
        "  #plt.colorbar()\n",
        "  plt.clim(-80,0)  # identical to caxis([-4,4]) in MATLAB\n",
        "  plt.ylim([0, 11000])\n",
        "  plt.axis('off')   \n",
        "  \n",
        "  if save_plot == 1:\n",
        "    fig2 = plt.gcf()\n",
        "    pylab.savefig(outputName,bbox_inches='tight',pad_inches=0)\n",
        "    pylab.close()"
      ]
    },
    {
      "cell_type": "markdown",
      "metadata": {
        "id": "dG4k5A_QXKwI"
      },
      "source": [
        "### Time + Frequency Masking "
      ]
    },
    {
      "cell_type": "code",
      "execution_count": 17,
      "metadata": {
        "id": "in5xX7R1W7xH"
      },
      "outputs": [],
      "source": [
        "def Freq_and_Time_Masking(result,param,TimeNum,FreqNum,sample_rate,save_plot,imageName,overwriteControl,CMAP):\n",
        "  \n",
        "  outputName = f'{imageName}_Time_and_Freq_Masked.png'\n",
        "  if overwriteControl == 1 and os.path.exists(outputName):\n",
        "    return \n",
        "  \n",
        "  # Time masking\n",
        "  # Convert ndarray representing the spectrogram to a tensor for pytorch\n",
        "  result_tensor = torch.from_numpy(result)        \n",
        "  time_mask = my_time_mask(result_tensor, param, TimeNum)\n",
        "  \n",
        "  # Freq masking\n",
        "  # Convert ndarray representing the spectrogram to a tensor for pytorch\n",
        "  freq_mask = my_freq_mask(time_mask, param, FreqNum)\n",
        "\n",
        "  plt.figure(figsize=(20, 20),frameon=False)\n",
        "  librosa.display.specshow(freq_mask.numpy(), sr=sample_rate, x_axis='time', \n",
        "                           y_axis='mel',cmap=CMAP)   \n",
        "  #plt.colorbar()\n",
        "  plt.clim(-80,0)  # identical to caxis([-4,4]) in MATLAB\n",
        "  plt.ylim([0, 11000])\n",
        "  plt.axis('off')   \n",
        "  \n",
        "  if save_plot == 1:\n",
        "    fig = plt.gcf()\n",
        "    pylab.savefig(outputName,bbox_inches='tight',pad_inches=0)\n",
        "    pylab.close()"
      ]
    },
    {
      "cell_type": "markdown",
      "metadata": {
        "id": "beB6kUWfI4lJ"
      },
      "source": [
        "# 👆 Define Input and Output directory "
      ]
    },
    {
      "cell_type": "code",
      "execution_count": 18,
      "metadata": {
        "id": "zgSU5q2XItlp"
      },
      "outputs": [],
      "source": [
        "#let the plot appear and store it with the notebook\n",
        "%matplotlib inline\n",
        "#setting the path to the directory containing the pics\n",
        "INPUT_DIR = '/content/drive/MyDrive/DatasetTesi/Vowel_E_REC'\n",
        "OUTPUT_DIR = '/content/drive/MyDrive/DatasetTesi/outputSpectrogram/'\n",
        "valid_formats = [\".wav\"]\n",
        "#audio_data = []"
      ]
    },
    {
      "cell_type": "markdown",
      "metadata": {
        "id": "GTAmtjX2xA-d"
      },
      "source": [
        "# 🔎 Choose the plot to be generated \n",
        "\n",
        "Change the value of selection variable to plot:\n",
        "1. Signal + Spectrogram\n",
        "2. Spectrogram\n",
        "3. Mel-Spectrogram\n",
        "4. CWT (Scalogram)\n",
        "5. Chromagram\n",
        "6. MFCC\n",
        "7. RASTAMAT Coefficients\n",
        "\n",
        "\n"
      ]
    },
    {
      "cell_type": "code",
      "execution_count": 19,
      "metadata": {
        "id": "QX52a40gw8ZG"
      },
      "outputs": [],
      "source": [
        "selection_var = 3\n",
        "destination = SelectDestination(selection_var)\n",
        "save_plot = 1; # if 1, save plot on Google Drive\n",
        "overwriteControl = 1;\n",
        "CMAP = 'jet'\n",
        "#plasma, jet, Greys, Greys_r (reverse), ..."
      ]
    },
    {
      "cell_type": "markdown",
      "source": [
        "# 🏋 Choose whether to augment the data or not"
      ],
      "metadata": {
        "id": "gd6auTUxPXiJ"
      }
    },
    {
      "cell_type": "code",
      "execution_count": 20,
      "metadata": {
        "id": "-kTCQXvqbIrl"
      },
      "outputs": [],
      "source": [
        "doAugmentation = True"
      ]
    },
    {
      "cell_type": "markdown",
      "metadata": {
        "id": "8aLp35x-bZHz"
      },
      "source": [
        "Creo una cartella dove salvare l'output"
      ]
    },
    {
      "cell_type": "code",
      "execution_count": 21,
      "metadata": {
        "id": "fj6Miy66bC_a"
      },
      "outputs": [],
      "source": [
        "# For every recording, make a spectogram and save it as label_speaker_no.png\n",
        "if not os.path.exists(os.path.join(OUTPUT_DIR, destination)):\n",
        "    os.makedirs(os.path.join(OUTPUT_DIR, destination))"
      ]
    },
    {
      "cell_type": "markdown",
      "metadata": {
        "id": "NvK0wQoUJGIx"
      },
      "source": [
        "# ✔ Generate Plot! "
      ]
    },
    {
      "cell_type": "code",
      "execution_count": null,
      "metadata": {
        "id": "Q88vv9ObJEVW"
      },
      "outputs": [],
      "source": [
        "for folders in os.listdir(INPUT_DIR):\n",
        "  # select a subfolder\n",
        "  subfolder = os.path.join(INPUT_DIR,folders)\n",
        "  # select all the records in the subfolder\n",
        "  for filename in os.listdir(subfolder):\n",
        "    file_format = os.path.splitext(filename)[1] \n",
        "    if file_format.lower() in valid_formats:\n",
        "      data, sample_rate = librosa.load(os.path.join(subfolder,filename))\n",
        "      # define output path\n",
        "      file_path, destination_dir, imageName = outputPath(subfolder,filename,OUTPUT_DIR,destination)\n",
        "      \n",
        "      print('Now reading', filename)\n",
        "      \n",
        "      # create destination folder if it doesn't exist\n",
        "      if not os.path.exists(destination_dir):\n",
        "        os.mkdir(destination_dir)\n",
        "      \n",
        "      # Normalize data\n",
        "      data = DataNormalization(data,sample_rate)      \n",
        "      # Plot the signal, result is an ndarray containing the plot\n",
        "      result = signalAnalysis(selection_var,data,sample_rate,\n",
        "                              save_plot,imageName,overwriteControl,CMAP)\n",
        "      \n",
        "      if doAugmentation == True:\n",
        "        DataAugmentation(data,sample_rate,selection_var,save_plot,\n",
        "                     imageName,overwriteControl,CMAP,result)\n"
      ]
    }
  ],
  "metadata": {
    "colab": {
      "collapsed_sections": [],
      "provenance": [],
      "toc_visible": true,
      "mount_file_id": "1QAgpzVoGcHTMf7ZkRxglexkCspWpDphT",
      "authorship_tag": "ABX9TyPdj71MAev6UvRFHcT5ZwB6",
      "include_colab_link": true
    },
    "kernelspec": {
      "display_name": "Python 3",
      "name": "python3"
    },
    "language_info": {
      "name": "python"
    }
  },
  "nbformat": 4,
  "nbformat_minor": 0
}