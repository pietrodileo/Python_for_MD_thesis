{
  "nbformat": 4,
  "nbformat_minor": 0,
  "metadata": {
    "colab": {
      "provenance": [],
      "collapsed_sections": [],
      "toc_visible": true,
      "mount_file_id": "1QAgpzVoGcHTMf7ZkRxglexkCspWpDphT",
      "authorship_tag": "ABX9TyMO7EdgSQomJxFQynAVeDcL",
      "include_colab_link": true
    },
    "kernelspec": {
      "name": "python3",
      "display_name": "Python 3"
    },
    "language_info": {
      "name": "python"
    }
  },
  "cells": [
    {
      "cell_type": "markdown",
      "metadata": {
        "id": "view-in-github",
        "colab_type": "text"
      },
      "source": [
        "<a href=\"https://colab.research.google.com/github/pietrodileo/Python_for_MD_thesis/blob/main/CreateSpectrogram.ipynb\" target=\"_parent\"><img src=\"https://colab.research.google.com/assets/colab-badge.svg\" alt=\"Open In Colab\"/></a>"
      ]
    },
    {
      "cell_type": "markdown",
      "source": [
        "# **Audio Signal Visualization**\n",
        "## Generate easily different plot from audio signals stored in Google Drive"
      ],
      "metadata": {
        "id": "4v0ytLlfkqPe"
      }
    },
    {
      "cell_type": "markdown",
      "source": [
        "## Import libraries"
      ],
      "metadata": {
        "id": "75sL32jtmAjS"
      }
    },
    {
      "cell_type": "code",
      "execution_count": 637,
      "metadata": {
        "id": "LuPxg6GVwA9r"
      },
      "outputs": [],
      "source": [
        "#importing the libraries\n",
        "import os \n",
        "import cv2\n",
        "import numpy as np\n",
        "import matplotlib\n",
        "#This backend of matplotlib doesn't show plots to the user, but we can save them to Google Drive\n",
        "matplotlib.use('Agg')\n",
        "import matplotlib.pyplot as plt\n",
        "import pdb\n",
        "import librosa\n",
        "import librosa.display\n",
        "from scipy.io import wavfile\n",
        "import seaborn as sns\n",
        "from pathlib import Path\n",
        "import pylab\n",
        "import sys\n",
        "import soundfile as sf"
      ]
    },
    {
      "cell_type": "markdown",
      "source": [
        "# Define local functions\n",
        "In this section: the functions that define the outputPath and the analysis selection"
      ],
      "metadata": {
        "id": "T3mhs-y6e5iD"
      }
    },
    {
      "cell_type": "code",
      "source": [
        "def outputPath(subfolder,filename,OUTPUT_DIR,destination):\n",
        "  file_path = os.path.join(subfolder, filename)\n",
        "  file_stem = Path(subfolder).stem\n",
        "  target_dir = f'class_{file_stem}'\n",
        "  destination_dir = os.path.join(os.path.join(OUTPUT_DIR, destination), target_dir)\n",
        "  # generate image name\n",
        "  file_stem = Path(file_path).stem\n",
        "  imageName = os.path.join(destination_dir, file_stem)\n",
        "  return file_path, destination_dir,imageName;\n",
        "\n",
        "def SelectDestination(selection_var):\n",
        "  if selection_var == 1:\n",
        "    destination = 'Sig_Spect'\n",
        "  elif selection_var == 2:\n",
        "    destination = 'Spectrogram' \n",
        "  elif selection_var == 3:\n",
        "    destination = 'Mel-Spectrogram' \n",
        "  elif selection_var == 4:\n",
        "    destination = 'Scalogram' \n",
        "  elif selection_var == 5:\n",
        "    destination = 'Chromagram'\n",
        "  elif selection_var == 6:\n",
        "    destination = 'MFCC'\n",
        "  elif selection_var == 7:\n",
        "    destination = 'RASTAMAT'\n",
        "  else: \n",
        "    # If an exact match is not confirmed, this last case will be used if provided\n",
        "    sys.exit(\"Assign a proper value to the selection variable!\")\n",
        "  return destination\n",
        "\n",
        "def signalAnalysis(selection_var,data,sample_rate,save_plot,imageName):\n",
        "  if selection_var == 1:\n",
        "    # Plot the signal\n",
        "    plotSignal(data,sample_rate,save_plot,imageName)\n",
        "    result = 0;\n",
        "  elif selection_var == 2:\n",
        "    # Plot Spectrogram\n",
        "    result = spectrogramPlot(data,sample_rate,save_plot,imageName)\n",
        "  elif selection_var == 3:\n",
        "    result = MelSpectrogramPlot(data,sample_rate,save_plot,imageName)\n",
        "  elif selection_var == 4:\n",
        "    result = Scalogram(data,sample_rate,save_plot,imageName)\n",
        "  elif selection_var == 5:\n",
        "    result = Chromagram(data,sample_rate,save_plot,imageName)\n",
        "  elif selection_var == 6:\n",
        "    result = plotMFCC(data,sample_rate,save_plot,imageName)\n",
        "  elif selection_var == 7:\n",
        "    result = plotRASTAMAT(data,sample_rate,save_plot,imageName)\n",
        "  else: \n",
        "    # If an exact match is not confirmed, this last case will be used if provided\n",
        "    sys.exit(\"Assign a proper value to the selection variable!\")\n",
        "  return result"
      ],
      "metadata": {
        "id": "sMVHTf6Wc0KF"
      },
      "execution_count": 638,
      "outputs": []
    },
    {
      "cell_type": "markdown",
      "source": [
        "## Plot Signal Function"
      ],
      "metadata": {
        "id": "BHIt_Px87Ist"
      }
    },
    {
      "cell_type": "code",
      "source": [
        "def plotSignal(data,sample_rate,save_plot,imageName):\n",
        "    plt.figure(figsize=(20,20))\n",
        "    \n",
        "    plot_a = plt.subplot(211)\n",
        "    #plot_a.set_title('Title')\n",
        "    plot_a.plot(data)\n",
        "    plot_a.set_xlabel('sample rate * time')\n",
        "    plot_a.set_ylabel('energy')\n",
        "\n",
        "    plot_b = plt.subplot(212)\n",
        "    plot_b.specgram(data, NFFT=1024, Fs=sample_rate, noverlap=900)\n",
        "    plot_b.set_xlabel('Time')\n",
        "    plot_b.set_ylabel('Frequency')\n",
        "    \n",
        "    plt.show()\n",
        "\n",
        "    # save the plot\n",
        "    if save_plot == 1:\n",
        "      fig1 = plt.gcf()\n",
        "      pylab.savefig(f'{imageName}.png')\n",
        "      pylab.close() \n"
      ],
      "metadata": {
        "id": "6prw0knV7HrO"
      },
      "execution_count": 639,
      "outputs": []
    },
    {
      "cell_type": "markdown",
      "source": [
        "## Plot Spectrogram and Mel-Spectrogram functions\n",
        "\n"
      ],
      "metadata": {
        "id": "o_5E3Y_H7UnT"
      }
    },
    {
      "cell_type": "code",
      "source": [
        "def spectrogramPlot(y,sample_rate,save_plot,imageName):\n",
        "  #D_highres: numpy array\n",
        "  D_highres = librosa.stft(y, hop_length=256, n_fft=4096)\n",
        "  #converting into energy levels(dB)\n",
        "  S_db_hr = librosa.amplitude_to_db(np.abs(D_highres), ref=np.max)\n",
        "\n",
        "  fig1 = plt.figure()\n",
        "  plt.figure(figsize=(20, 20))\n",
        "\n",
        "  librosa.display.specshow(S_db_hr, hop_length=256, sr=sample_rate, \n",
        "                           x_axis='time', y_axis='log',cmap='jet')\n",
        "  #plt.colorbar()\n",
        "  plt.clim(-80,0)  # identical to caxis([-4,4]) in MATLAB\n",
        "  plt.ylim([0, 14000])\n",
        "  plt.axis('off')\n",
        "\n",
        "  # save the plot\n",
        "  if save_plot == 1:\n",
        "    fig1 = plt.gcf()\n",
        "    pylab.savefig(f'{imageName}.png')\n",
        "    pylab.close()\n",
        "\n",
        "  return S_db_hr\n",
        "\n",
        "def MelSpectrogramPlot(y,sample_rate,save_plot,imageName):\n",
        "  M = librosa.feature.melspectrogram(y=y, sr=sample_rate, n_fft=4096)\n",
        "  M_db = librosa.power_to_db(M, ref=np.max)\n",
        "\n",
        "  fig1 = plt.figure()\n",
        "\n",
        "  plt.figure(figsize=(20, 20))\n",
        "  librosa.display.specshow(M_db, sr=sample_rate, x_axis='time', \n",
        "                           y_axis='mel',cmap='jet')\n",
        "  #plt.colorbar()\n",
        "  plt.clim(-80,0)  # identical to caxis([-4,4]) in MATLAB\n",
        "  plt.ylim([0, 14000])\n",
        "  plt.axis('off')\n",
        "  \n",
        "  # save the plot\n",
        "  if save_plot == 1:\n",
        "    fig1 = plt.gcf()\n",
        "    pylab.savefig(f'{imageName}.png')\n",
        "    pylab.close()\n",
        "  \n",
        "  return M_db"
      ],
      "metadata": {
        "id": "YKLjUfw77O42"
      },
      "execution_count": 640,
      "outputs": []
    },
    {
      "cell_type": "markdown",
      "source": [
        "## Plot Scalogram Function"
      ],
      "metadata": {
        "id": "w2clFz_V7YaU"
      }
    },
    {
      "cell_type": "code",
      "source": [
        "def Scalogram(data,sample_rate,save_plot,imageName):\n",
        "  print('Working on it...')"
      ],
      "metadata": {
        "id": "ZVsIRBkJ7RlY"
      },
      "execution_count": 641,
      "outputs": []
    },
    {
      "cell_type": "markdown",
      "source": [
        "## Plot Chromagram"
      ],
      "metadata": {
        "id": "RPheqjMf7hCc"
      }
    },
    {
      "cell_type": "code",
      "source": [
        "def Chromagram(data,sample_rate,save_plot,imageName):\n",
        "  print('Working on it...')"
      ],
      "metadata": {
        "id": "OgZ4lBql7gb4"
      },
      "execution_count": 642,
      "outputs": []
    },
    {
      "cell_type": "markdown",
      "source": [
        "## Plot MFCC"
      ],
      "metadata": {
        "id": "0NLKsFNo7k-2"
      }
    },
    {
      "cell_type": "code",
      "source": [
        "def plotMFCC(data,sample_rate,save_plot,imageName):\n",
        "  n_mfcc = 13\n",
        "  n_mels = 40\n",
        "  n_fft = 4096 \n",
        "  hop_length = 160\n",
        "  fmin = 0\n",
        "  fmax = None\n",
        "  mfcc_librosa = librosa.feature.mfcc(y=data, sr=sample_rate, n_fft=n_fft,\n",
        "                                      n_mfcc=n_mfcc, n_mels=n_mels,\n",
        "                                      hop_length=hop_length,\n",
        "                                      fmin=fmin, fmax=fmax, htk=False)\n",
        "  plt.figure(figsize=(20, 20))\n",
        "  sns.heatmap(mfcc_librosa, vmin=-500, vmax=300, cbar=False)\n",
        "  plt.axis('off')\n",
        "  \n",
        "  # save the plot\n",
        "  if save_plot == 1:\n",
        "    fig1 = plt.gcf()\n",
        "    pylab.savefig(f'{imageName}.png')\n",
        "    pylab.close()\n",
        "    \n",
        "  return mfcc_librosa"
      ],
      "metadata": {
        "id": "hjN7d_ty7j_J"
      },
      "execution_count": 643,
      "outputs": []
    },
    {
      "cell_type": "markdown",
      "source": [
        "## Plot RASTAMAT"
      ],
      "metadata": {
        "id": "Dlff-LdRGC6g"
      }
    },
    {
      "cell_type": "code",
      "source": [
        "def plotRASTAMAT(data,sample_rate,save_plot,imageName):\n",
        "  n_mfcc = 13\n",
        "  n_mels = 40\n",
        "  n_fft = 4096 \n",
        "  hop_length = 160\n",
        "  fmin = 0\n",
        "  fmax = None\n",
        "  mfcc_librosa = librosa.feature.mfcc(y=data, sr=sample_rate, n_fft=n_fft,\n",
        "                                      n_mfcc=n_mfcc, n_mels=n_mels,\n",
        "                                      hop_length=hop_length,\n",
        "                                      fmin=fmin, fmax=fmax, dct_type = 2,\n",
        "                                      htk=False)\n",
        "  plt.figure(figsize=(20, 20))\n",
        "  sns.heatmap(mfcc_librosa, vmin=-500, vmax=300, cbar=False)\n",
        "  plt.axis('off')\n",
        "\n",
        "  # save the plot\n",
        "  if save_plot == 1:\n",
        "    fig1 = plt.gcf()\n",
        "    pylab.savefig(f'{imageName}.png')\n",
        "    pylab.close()\n",
        "\n",
        "  return mfcc_librosa"
      ],
      "metadata": {
        "id": "W3Ujlaj6GEvT"
      },
      "execution_count": 644,
      "outputs": []
    },
    {
      "cell_type": "markdown",
      "source": [
        "# Data augmentation Functions"
      ],
      "metadata": {
        "id": "v7dg0zDO27lD"
      }
    },
    {
      "cell_type": "markdown",
      "source": [
        "##Data Augmentation to the Signal"
      ],
      "metadata": {
        "id": "k6XmeQSo5ZeT"
      }
    },
    {
      "cell_type": "code",
      "source": [
        "from audiomentations.augmentations.time_mask import TimeMask\n",
        "from audiomentations import TimeStretch\n",
        "import torch\n",
        "import torchaudio\n",
        "from torchaudio import transforms\n",
        "\n",
        "doAugmentation = True\n",
        "if doAugmentation == True:\n",
        "  #!pip install audiomentations\n",
        "  ## Data Augmentation\n",
        "  from audiomentations import Compose, AddGaussianNoise, PitchShift, HighPassFilter\n",
        "  # add gaussian noise\n",
        "  AddNoise = Compose([AddGaussianNoise(min_amplitude = 0.05, max_amplitude = 0.15, p=1)])\n",
        "  # shift pitch\n",
        "  pitchShifting = Compose([PitchShift(min_semitones = -8, max_semitones = -8, p=1)])\n",
        "  # stretch time\n",
        "  timeStretch = Compose([TimeStretch(min_rate=0.8,max_rate=1.25,leave_length_unchanged=True,p=1.0)])\n",
        "  # time Mask\n",
        "  timeMask = Compose([TimeMask(min_band_part=0.2, max_band_part=0.5, p=1.0)])\n",
        "\n",
        "  augment = Compose([AddGaussianNoise(min_amplitude = 0.05, max_amplitude = 0.15, p=1),\n",
        "      PitchShift(min_semitones = -8, max_semitones = -8, p=1),\n",
        "      TimeStretch(min_rate=0.8,max_rate=1.25,leave_length_unchanged=True,p=1.0),\n",
        "      #HighPassFilter(min_cutoff_freq = 2000, max_cutoff_freq=4000, p=1) \n",
        "      ])"
      ],
      "metadata": {
        "id": "-kTCQXvqbIrl"
      },
      "execution_count": 645,
      "outputs": []
    },
    {
      "cell_type": "code",
      "source": [
        "def Signal_Augmentation(selection_var,data,sample_rate,save_plot,imageName):\n",
        "  #Save plot = 0 or the picture will overwrite another one\n",
        "  noisy_signal = AddNoise(data,sample_rate)\n",
        "  signalAnalysis(selection_var,noisy_signal,sample_rate,0,imageName)\n",
        "  # picture are saved now!\n",
        "  if save_plot == 1:\n",
        "    fig = plt.gcf()\n",
        "    pylab.savefig(f'{imageName}_GaussianNoise.png')\n",
        "    pylab.close()\n",
        "\n",
        "  pitchy_signal = pitchShifting(data,sample_rate)\n",
        "  signalAnalysis(selection_var,pitchy_signal,sample_rate,0,imageName)\n",
        "  if save_plot == 1:\n",
        "    fig = plt.gcf()\n",
        "    pylab.savefig(f'{imageName}_PitchShifted.png')\n",
        "    pylab.close()\n",
        "\n",
        "  stretchy_signal = timeStretch(data,sample_rate)\n",
        "  signalAnalysis(selection_var,stretchy_signal,sample_rate,0,imageName)\n",
        "  if save_plot == 1:\n",
        "    fig = plt.gcf()\n",
        "    pylab.savefig(f'{imageName}_Stretched.png')\n",
        "    pylab.close()\n",
        "\n",
        "  augmented_signal = augment(data,sample_rate)\n",
        "  signalAnalysis(selection_var,augmented_signal,sample_rate,0,imageName)\n",
        "  if save_plot == 1:\n",
        "    fig = plt.gcf()\n",
        "    pylab.savefig(f'{imageName}_SignalAugmented.png')\n",
        "    pylab.close()"
      ],
      "metadata": {
        "id": "Q7GZlEZ05iHd"
      },
      "execution_count": 646,
      "outputs": []
    },
    {
      "cell_type": "markdown",
      "source": [
        "##Data Augmentation to the Spectrogram/Plot"
      ],
      "metadata": {
        "id": "ypiYdp7t5emp"
      }
    },
    {
      "cell_type": "markdown",
      "source": [
        "### Frequency Masking"
      ],
      "metadata": {
        "id": "6cQjCuypBh1S"
      }
    },
    {
      "cell_type": "code",
      "source": [
        "import tensorflow as tf\n",
        "\n",
        "def my_freq_mask(input, param, FreqNum, name=None):\n",
        "    \"\"\"\n",
        "    Apply masking to a spectrogram in the freq domain.\n",
        "    Args:\n",
        "      input: An audio spectogram.\n",
        "      param: Parameter of freq masking.\n",
        "      name: A name for the operation (optional).\n",
        "    Returns:\n",
        "      A tensor of spectrogram.\n",
        "    \"\"\"\n",
        "    input = tf.convert_to_tensor(input)\n",
        "    # TODO: Support audio with channel > 1.\n",
        "    freq_max = tf.shape(input)[1]\n",
        "    # calculate the indexes for all the frequencies\n",
        "    indices = tf.reshape(tf.range(freq_max), (1, -1))\n",
        "    for x in range(FreqNum):\n",
        "      # param is the max value of a uniform random distribution\n",
        "      f = tf.random.uniform(shape=(), minval=0, \n",
        "                            maxval=param, dtype=tf.dtypes.int32)\n",
        "      # f0 is a random selected number from a uniform distribution \n",
        "      # with range (0, freq_max-f)\n",
        "      f0 = tf.random.uniform(shape=(), minval=0, \n",
        "                             maxval=freq_max - f, dtype=tf.dtypes.int32)\n",
        "      # select all the frequencies greater or equal to f0\n",
        "      cond1 = tf.math.greater_equal(indices, f0)\n",
        "      # select all the frequencies smaller than f0 + f\n",
        "      cond2 = tf.math.less(indices, f0 + f)\n",
        "      # select all the frequencies between f0 and f0+f\n",
        "      condition = tf.math.logical_and(cond1, cond2)\n",
        "      masking = tf.where(condition,  tf.cast(0, input.dtype), input)\n",
        "      input = masking\n",
        "    return masking"
      ],
      "metadata": {
        "id": "437qu6Ourawz"
      },
      "execution_count": 647,
      "outputs": []
    },
    {
      "cell_type": "code",
      "source": [
        "def FrequencyMasking(result,param,FreqNum,sample_rate,save_plot,imageName):\n",
        "  # Freq masking\n",
        "  # Convert ndarray representing the spectrogram to a tensor for pytorch\n",
        "  result_tensor = torch.from_numpy(result)        \n",
        "  freq_mask = my_freq_mask(result_tensor, param, FreqNum)\n",
        "  plt.figure(figsize=(20, 20))\n",
        "  librosa.display.specshow(freq_mask.numpy(), sr=sample_rate, x_axis='time', \n",
        "                           y_axis='mel',cmap='jet')   \n",
        "  #plt.colorbar()\n",
        "  plt.clim(-80,0)  # identical to caxis([-4,4]) in MATLAB\n",
        "  plt.ylim([0, 14000])\n",
        "  plt.axis('off')   \n",
        "  \n",
        "  if save_plot == 1:\n",
        "    fig2 = plt.gcf()\n",
        "    pylab.savefig(f'{imageName}_FreqMasked.png')\n",
        "    pylab.close()"
      ],
      "metadata": {
        "id": "sz5wh6Du5iU-"
      },
      "execution_count": 648,
      "outputs": []
    },
    {
      "cell_type": "markdown",
      "source": [
        "### Time Masking"
      ],
      "metadata": {
        "id": "Uosvnc4eBliJ"
      }
    },
    {
      "cell_type": "code",
      "source": [
        "def my_time_mask(input, param, TimeNum, name=None):\n",
        "    \"\"\"\n",
        "    Apply masking to a spectrogram in the time domain.\n",
        "    Args:\n",
        "      input: An audio spectogram.\n",
        "      param: Parameter of time masking.\n",
        "      name: A name for the operation (optional).\n",
        "    Returns:\n",
        "      A tensor of spectrogram.\n",
        "    \"\"\"\n",
        "    # code is quite similar to my_freq_mask\n",
        "    input = tf.convert_to_tensor(input)\n",
        "    # TODO: Support audio with channel > 1.\n",
        "    time_max = tf.shape(input)[0]\n",
        "    indices = tf.reshape(tf.range(time_max), (-1, 1))\n",
        "    for x in range(TimeNum):\n",
        "      t = tf.random.uniform(shape=(), minval=0, \n",
        "                          maxval=param, dtype=tf.dtypes.int32)\n",
        "      t0 = tf.random.uniform(shape=(), minval=0,\n",
        "                          maxval=time_max - t, dtype=tf.dtypes.int32)\n",
        "      cond1 = tf.math.greater_equal(indices, t0)\n",
        "      cond2 = tf.math.less(indices, t0 + t)\n",
        "      condition = tf.math.logical_and(cond1, cond2)\n",
        "      masking = tf.where(condition, tf.cast(0, input.dtype), input)\n",
        "      input = masking\n",
        "    return masking"
      ],
      "metadata": {
        "id": "yFUHqRYBUHBr"
      },
      "execution_count": 649,
      "outputs": []
    },
    {
      "cell_type": "code",
      "source": [
        "def TimeMasking(result,param,TimeNum,sample_rate,save_plot,imageName):\n",
        "  # Time masking\n",
        "  # Convert ndarray representing the spectrogram to a tensor for pytorch\n",
        "  result_tensor = torch.from_numpy(result)        \n",
        "  time_mask = my_time_mask(result_tensor, param, TimeNum)\n",
        "  \n",
        "  plt.figure(figsize=(20, 20))\n",
        "  librosa.display.specshow(time_mask.numpy(), sr=sample_rate, x_axis='time', \n",
        "                           y_axis='mel',cmap='jet')   \n",
        "  #plt.colorbar()\n",
        "  plt.clim(-80,0)  # identical to caxis([-4,4]) in MATLAB\n",
        "  plt.ylim([0, 14000])\n",
        "  plt.axis('off')   \n",
        "  \n",
        "  if save_plot == 1:\n",
        "    fig2 = plt.gcf()\n",
        "    pylab.savefig(f'{imageName}_TimeMasked.png')\n",
        "    pylab.close()"
      ],
      "metadata": {
        "id": "SJGSJn_LVbeX"
      },
      "execution_count": 650,
      "outputs": []
    },
    {
      "cell_type": "markdown",
      "source": [
        "### Time + Frequency Masking"
      ],
      "metadata": {
        "id": "dG4k5A_QXKwI"
      }
    },
    {
      "cell_type": "code",
      "source": [
        "def Freq_and_Time_Masking(result,param,TimeNum,FreqNum,sample_rate,save_plot,imageName):\n",
        "  # Time masking\n",
        "  # Convert ndarray representing the spectrogram to a tensor for pytorch\n",
        "  result_tensor = torch.from_numpy(result)        \n",
        "  time_mask = my_time_mask(result_tensor, param, TimeNum)\n",
        "  \n",
        "  # Freq masking\n",
        "  # Convert ndarray representing the spectrogram to a tensor for pytorch\n",
        "#  result_tensor = torch.from_numpy(time_mask)        \n",
        "  freq_mask = my_freq_mask(time_mask, param, FreqNum)\n",
        "\n",
        "  plt.figure(figsize=(20, 20))\n",
        "  librosa.display.specshow(freq_mask.numpy(), sr=sample_rate, x_axis='time', \n",
        "                           y_axis='mel',cmap='jet')   \n",
        "  #plt.colorbar()\n",
        "  plt.clim(-80,0)  # identical to caxis([-4,4]) in MATLAB\n",
        "  plt.ylim([0, 14000])\n",
        "  plt.axis('off')   \n",
        "  \n",
        "  if save_plot == 1:\n",
        "    fig = plt.gcf()\n",
        "    pylab.savefig(f'{imageName}_Time_and_Freq_Masked.png')\n",
        "    pylab.close()"
      ],
      "metadata": {
        "id": "in5xX7R1W7xH"
      },
      "execution_count": 651,
      "outputs": []
    },
    {
      "cell_type": "markdown",
      "source": [
        "# Define Input and Output directory"
      ],
      "metadata": {
        "id": "beB6kUWfI4lJ"
      }
    },
    {
      "cell_type": "code",
      "source": [
        "#let the plot appear and store it with the notebook\n",
        "%matplotlib inline\n",
        "#setting the path to the directory containing the pics\n",
        "INPUT_DIR = '/content/drive/MyDrive/DatasetTesi/Vowel_E_REC'\n",
        "OUTPUT_DIR = '/content/drive/MyDrive/DatasetTesi/outputSpectrogram/'\n",
        "valid_formats = [\".wav\"]\n",
        "#audio_data = []"
      ],
      "metadata": {
        "id": "zgSU5q2XItlp"
      },
      "execution_count": 652,
      "outputs": []
    },
    {
      "cell_type": "markdown",
      "source": [
        "# Choose the plot to be generated\n",
        "Change the value of selection variable to plot:\n",
        "1. Signal + Spectrogram\n",
        "2. Spectrogram\n",
        "3. Mel-Spectrogram\n",
        "4. CWT (Scalogram)\n",
        "5. Chromagram\n",
        "6. MFCC\n",
        "7. RASTAMAT Coefficients\n",
        "\n",
        "\n"
      ],
      "metadata": {
        "id": "GTAmtjX2xA-d"
      }
    },
    {
      "cell_type": "code",
      "source": [
        "selection_var = 3\n",
        "destination = SelectDestination(selection_var)\n",
        "save_plot = 1; # if 1, save plot on Google Drive\n",
        "overwriteControl = 0;"
      ],
      "metadata": {
        "id": "QX52a40gw8ZG"
      },
      "execution_count": 653,
      "outputs": []
    },
    {
      "cell_type": "markdown",
      "source": [
        "Creo una cartella dove salvare l'output"
      ],
      "metadata": {
        "id": "8aLp35x-bZHz"
      }
    },
    {
      "cell_type": "code",
      "source": [
        "# For every recording, make a spectogram and save it as label_speaker_no.png\n",
        "if not os.path.exists(os.path.join(OUTPUT_DIR, destination)):\n",
        "    os.makedirs(os.path.join(OUTPUT_DIR, destination))"
      ],
      "metadata": {
        "id": "fj6Miy66bC_a"
      },
      "execution_count": 654,
      "outputs": []
    },
    {
      "cell_type": "markdown",
      "source": [
        "# Generate Plot! ✔"
      ],
      "metadata": {
        "id": "NvK0wQoUJGIx"
      }
    },
    {
      "cell_type": "code",
      "source": [
        "for folders in os.listdir(INPUT_DIR):\n",
        "  # select a subfolder\n",
        "  subfolder = os.path.join(INPUT_DIR,folders)\n",
        "  # select all the records in the subfolder\n",
        "  for filename in os.listdir(subfolder):\n",
        "    file_format = os.path.splitext(filename)[1] \n",
        "    if file_format.lower() in valid_formats:\n",
        "      data, sample_rate = librosa.load(os.path.join(subfolder,filename))\n",
        "      # define output path\n",
        "      file_path, destination_dir, imageName = outputPath(subfolder,filename,OUTPUT_DIR,destination)\n",
        "      \n",
        "      print('Now reading', filename)\n",
        "      # if we don't want to overwrite data\n",
        "      if overwriteControl == 1:\n",
        "        if os.path.exists(imageName + '.png'): \n",
        "          continue \n",
        "      \n",
        "      # create destination folder if it doesn't exist\n",
        "      if not os.path.exists(destination_dir):\n",
        "        os.mkdir(destination_dir)\n",
        "\n",
        "      # Plot the signal, result is an ndarray containing the plot\n",
        "      result = signalAnalysis(selection_var,data,sample_rate,save_plot,imageName)\n",
        "      \n",
        "      if doAugmentation == True:\n",
        "        # 1. Data Augmentation to the signal\n",
        "        Signal_Augmentation(selection_var,data,sample_rate,save_plot,imageName)\n",
        "\n",
        "        # 2. Data Augmentation to the spectrogram\n",
        "        # Freq masking\n",
        "        param = 10 \n",
        "        FreqNum = 5\n",
        "        FrequencyMasking(result,param,FreqNum,sample_rate,save_plot,imageName)\n",
        "        # Time masking\n",
        "        TimeNum = 4\n",
        "        TimeMasking(result,param,TimeNum,sample_rate,save_plot,imageName)\n",
        "        # Time + Frequency\n",
        "        FreqNum = 3\n",
        "        TimeNum = 2\n",
        "        Freq_and_Time_Masking(result,param,TimeNum,FreqNum,\n",
        "                              sample_rate,save_plot,imageName)\n"
      ],
      "metadata": {
        "id": "Q88vv9ObJEVW"
      },
      "execution_count": null,
      "outputs": []
    }
  ]
}