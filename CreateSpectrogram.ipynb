{
  "nbformat": 4,
  "nbformat_minor": 0,
  "metadata": {
    "colab": {
      "provenance": [],
      "collapsed_sections": [],
      "mount_file_id": "1QAgpzVoGcHTMf7ZkRxglexkCspWpDphT",
      "authorship_tag": "ABX9TyOiGlrN5LppYRvG3gkalxKu",
      "include_colab_link": true
    },
    "kernelspec": {
      "name": "python3",
      "display_name": "Python 3"
    },
    "language_info": {
      "name": "python"
    }
  },
  "cells": [
    {
      "cell_type": "markdown",
      "metadata": {
        "id": "view-in-github",
        "colab_type": "text"
      },
      "source": [
        "<a href=\"https://colab.research.google.com/github/pietrodileo/Python_for_MD_thesis/blob/main/CreateSpectrogram.ipynb\" target=\"_parent\"><img src=\"https://colab.research.google.com/assets/colab-badge.svg\" alt=\"Open In Colab\"/></a>"
      ]
    },
    {
      "cell_type": "markdown",
      "source": [
        "# **Audio Signal Visualization**\n",
        "## Generate easily different plot from audio signals stored in Google Drive"
      ],
      "metadata": {
        "id": "4v0ytLlfkqPe"
      }
    },
    {
      "cell_type": "markdown",
      "source": [
        "## Import libraries and define local functions"
      ],
      "metadata": {
        "id": "75sL32jtmAjS"
      }
    },
    {
      "cell_type": "code",
      "execution_count": 1,
      "metadata": {
        "id": "LuPxg6GVwA9r"
      },
      "outputs": [],
      "source": [
        "#importing the libraries\n",
        "import os \n",
        "import cv2\n",
        "import numpy as np\n",
        "import matplotlib\n",
        "#This backend of matplotlib doesn't show plots to the user, but we can save them to Google Drive\n",
        "matplotlib.use('Agg')\n",
        "import matplotlib.pyplot as plt\n",
        "import pdb\n",
        "import librosa\n",
        "import librosa.display\n",
        "from scipy.io import wavfile\n",
        "import seaborn as sns\n",
        "from pathlib import Path\n",
        "import pylab\n",
        "import sys\n",
        "\n",
        "# Define local functions\n",
        "def outputPath(subfolder,filename,OUTPUT_DIR,destination):\n",
        "  file_path = os.path.join(subfolder, filename)\n",
        "  file_stem = Path(subfolder).stem\n",
        "  target_dir = f'class_{file_stem}'\n",
        "  destination_dir = os.path.join(os.path.join(OUTPUT_DIR, destination), target_dir)\n",
        "  # generate image name\n",
        "  file_stem = Path(file_path).stem\n",
        "  imageName = os.path.join(destination_dir, file_stem)\n",
        "  return file_path, destination_dir,imageName;\n",
        "\n",
        "def SelectDestination(selection_var):\n",
        "  if selection_var == 1:\n",
        "    destination = 'Sig_Spect'\n",
        "  elif selection_var == 2:\n",
        "    destination = 'Spectrogram' \n",
        "  elif selection_var == 3:\n",
        "    destination = 'Mel-Spectrogram' \n",
        "  elif selection_var == 4:\n",
        "    destination = 'Scalogram' \n",
        "  elif selection_var == 5:\n",
        "    destination = 'Chromagram'\n",
        "  elif selection_var == 6:\n",
        "    destination = 'MFCC'\n",
        "  elif selection_var == 7:\n",
        "    destination = 'RASTAMAT'\n",
        "  else: \n",
        "    # If an exact match is not confirmed, this last case will be used if provided\n",
        "    sys.exit(\"Assign a proper value to the selection variable!\")\n",
        "  return destination\n",
        "\n",
        "def signalAnalysis(selection_var,data,sample_rate):\n",
        "  if selection_var == 1:\n",
        "    # Plot the signal\n",
        "    plotSignal(data,sample_rate)\n",
        "  elif selection_var == 2:\n",
        "    # Plot Spectrogram\n",
        "    spectrogramPlot(data,sample_rate)\n",
        "  elif selection_var == 3:\n",
        "    MelSpectrogramPlot(data,sample_rate)\n",
        "  elif selection_var == 4:\n",
        "    Scalogram(data,sample_rate)\n",
        "  elif selection_var == 5:\n",
        "    Chromagram(data,sample_rate)\n",
        "  elif selection_var == 6:\n",
        "    plotMFCC(data,sample_rate)\n",
        "  elif selection_var == 7:\n",
        "    plotRASTAMAT(data,sample_rate)\n",
        "  else: \n",
        "    # If an exact match is not confirmed, this last case will be used if provided\n",
        "    sys.exit(\"Assign a proper value to the selection variable!\")\n"
      ]
    },
    {
      "cell_type": "markdown",
      "source": [
        "Plot Signal Function"
      ],
      "metadata": {
        "id": "BHIt_Px87Ist"
      }
    },
    {
      "cell_type": "code",
      "source": [
        "def plotSignal(data,sample_rate):\n",
        "    plt.figure(figsize=(20,20))\n",
        "    \n",
        "    plot_a = plt.subplot(211)\n",
        "    #plot_a.set_title('Title')\n",
        "    plot_a.plot(data)\n",
        "    plot_a.set_xlabel('sample rate * time')\n",
        "    plot_a.set_ylabel('energy')\n",
        "\n",
        "    plot_b = plt.subplot(212)\n",
        "    plot_b.specgram(data, NFFT=1024, Fs=sample_rate, noverlap=900)\n",
        "    plot_b.set_xlabel('Time')\n",
        "    plot_b.set_ylabel('Frequency')\n",
        "    \n",
        "    plt.show()"
      ],
      "metadata": {
        "id": "6prw0knV7HrO"
      },
      "execution_count": 2,
      "outputs": []
    },
    {
      "cell_type": "markdown",
      "source": [
        "Plot Spectrogram and Mel-Spectrogram functions\n",
        "\n"
      ],
      "metadata": {
        "id": "o_5E3Y_H7UnT"
      }
    },
    {
      "cell_type": "code",
      "source": [
        "def spectrogramPlot(y,sample_rate):\n",
        "  #D_highres: numpy array\n",
        "  D_highres = librosa.stft(y, hop_length=256, n_fft=4096)\n",
        "  #converting into energy levels(dB)\n",
        "  S_db_hr = librosa.amplitude_to_db(np.abs(D_highres), ref=np.max)\n",
        "\n",
        "  plt.figure(figsize=(20, 20))\n",
        "\n",
        "  librosa.display.specshow(S_db_hr, hop_length=256, sr=sample_rate, \n",
        "                           x_axis='time', y_axis='log',cmap='plasma')\n",
        "  #plt.colorbar()\n",
        "  plt.clim(-80,0)  # identical to caxis([-4,4]) in MATLAB\n",
        "  plt.ylim([0, 10000])\n",
        "  plt.axis('off')\n",
        "\n",
        "def MelSpectrogramPlot(y,sample_rate):\n",
        "  M = librosa.feature.melspectrogram(y=y, sr=sample_rate)\n",
        "  M_db = librosa.power_to_db(M, ref=np.max)\n",
        "\n",
        "  plt.figure(figsize=(20, 20))\n",
        "  librosa.display.specshow(M_db, sr=sample_rate, x_axis='time', \n",
        "                           y_axis='mel',cmap='plasma')\n",
        "  #plt.colorbar()\n",
        "  plt.clim(-80,0)  # identical to caxis([-4,4]) in MATLAB\n",
        "  plt.ylim([0, 10000])\n",
        "  plt.axis('off')"
      ],
      "metadata": {
        "id": "YKLjUfw77O42"
      },
      "execution_count": 3,
      "outputs": []
    },
    {
      "cell_type": "markdown",
      "source": [
        "Plot Scalogram Function"
      ],
      "metadata": {
        "id": "w2clFz_V7YaU"
      }
    },
    {
      "cell_type": "code",
      "source": [
        "def Scalogram(data,sample_rate):\n",
        "  print('Working on it...')"
      ],
      "metadata": {
        "id": "ZVsIRBkJ7RlY"
      },
      "execution_count": 4,
      "outputs": []
    },
    {
      "cell_type": "markdown",
      "source": [
        "Plot Chromagram"
      ],
      "metadata": {
        "id": "RPheqjMf7hCc"
      }
    },
    {
      "cell_type": "code",
      "source": [
        "def Chromagram(data,sample_rate):\n",
        "  print('Working on it...')"
      ],
      "metadata": {
        "id": "OgZ4lBql7gb4"
      },
      "execution_count": 5,
      "outputs": []
    },
    {
      "cell_type": "markdown",
      "source": [
        "Plot MFCC"
      ],
      "metadata": {
        "id": "0NLKsFNo7k-2"
      }
    },
    {
      "cell_type": "code",
      "source": [
        "def plotMFCC(data,sample_rate):\n",
        "  n_mfcc = 13\n",
        "  n_mels = 40\n",
        "  n_fft = 2048 \n",
        "  hop_length = 160\n",
        "  fmin = 0\n",
        "  fmax = None\n",
        "  mfcc_librosa = librosa.feature.mfcc(y=data, sr=sample_rate, n_fft=n_fft,\n",
        "                                      n_mfcc=n_mfcc, n_mels=n_mels,\n",
        "                                      hop_length=hop_length,\n",
        "                                      fmin=fmin, fmax=fmax, htk=False)\n",
        "  plt.figure(figsize=(20, 20))\n",
        "  sns.heatmap(mfcc_librosa, vmin=-500, vmax=300, cbar=False)\n",
        "  plt.axis('off')"
      ],
      "metadata": {
        "id": "hjN7d_ty7j_J"
      },
      "execution_count": 6,
      "outputs": []
    },
    {
      "cell_type": "markdown",
      "source": [
        "Plot RASTAMAT"
      ],
      "metadata": {
        "id": "Dlff-LdRGC6g"
      }
    },
    {
      "cell_type": "code",
      "source": [
        "def plotRASTAMAT(data,sample_rate):\n",
        "  n_mfcc = 13\n",
        "  n_mels = 40\n",
        "  n_fft = 2048 \n",
        "  hop_length = 160\n",
        "  fmin = 0\n",
        "  fmax = None\n",
        "  mfcc_librosa = librosa.feature.mfcc(y=data, sr=sample_rate, n_fft=n_fft,\n",
        "                                      n_mfcc=n_mfcc, n_mels=n_mels,\n",
        "                                      hop_length=hop_length,\n",
        "                                      fmin=fmin, fmax=fmax, dct_type = 2,\n",
        "                                      htk=False)\n",
        "  plt.figure(figsize=(20, 20))\n",
        "  sns.heatmap(mfcc_librosa, vmin=-500, vmax=300, cbar=False)\n",
        "  plt.axis('off')"
      ],
      "metadata": {
        "id": "W3Ujlaj6GEvT"
      },
      "execution_count": 7,
      "outputs": []
    },
    {
      "cell_type": "markdown",
      "source": [
        "## Define Input and Output directory"
      ],
      "metadata": {
        "id": "beB6kUWfI4lJ"
      }
    },
    {
      "cell_type": "code",
      "source": [
        "#let the plot appear and store it with the notebook\n",
        "%matplotlib inline\n",
        "#setting the path to the directory containing the pics\n",
        "INPUT_DIR = '/content/drive/MyDrive/DatasetTesi/Vowel_E_REC'\n",
        "OUTPUT_DIR = '/content/drive/MyDrive/DatasetTesi/outputSpectrogram/'\n",
        "valid_formats = [\".wav\"]\n",
        "audio_data = []"
      ],
      "metadata": {
        "id": "zgSU5q2XItlp"
      },
      "execution_count": 8,
      "outputs": []
    },
    {
      "cell_type": "markdown",
      "source": [
        "## Choose the plot to be generated\n",
        "Change the value of selection variable to plot:\n",
        "1. Signal + Spectrogram\n",
        "2. Spectrogram\n",
        "3. Mel-Spectrogram\n",
        "4. CWT (Scalogram)\n",
        "5. Chromagram\n",
        "6. MFCC\n",
        "7. RASTAMAT Coefficients\n",
        "\n",
        "\n"
      ],
      "metadata": {
        "id": "GTAmtjX2xA-d"
      }
    },
    {
      "cell_type": "code",
      "source": [
        "selection_var = 2\n",
        "destination = SelectDestination(selection_var)\n",
        "save_plot = 1; # if 1, save plot on Google Drive\n",
        "\n",
        "# For every recording, make a spectogram and save it as label_speaker_no.png\n",
        "if not os.path.exists(os.path.join(OUTPUT_DIR, destination)):\n",
        "    os.makedirs(os.path.join(OUTPUT_DIR, destination))"
      ],
      "metadata": {
        "id": "QX52a40gw8ZG"
      },
      "execution_count": 9,
      "outputs": []
    },
    {
      "cell_type": "markdown",
      "source": [
        "Creo uno spettrogramma per ogni file audio"
      ],
      "metadata": {
        "id": "NvK0wQoUJGIx"
      }
    },
    {
      "cell_type": "code",
      "source": [
        "for folders in os.listdir(INPUT_DIR):\n",
        "  # select a subfolder\n",
        "  subfolder = os.path.join(INPUT_DIR,folders)\n",
        "  # select all the records in the subfolder\n",
        "  for filename in os.listdir(subfolder):\n",
        "    file_format = os.path.splitext(filename)[1] \n",
        "    if file_format.lower() in valid_formats:\n",
        "      data, sample_rate = librosa.load(os.path.join(subfolder,filename))\n",
        "      # define output path\n",
        "      file_path, destination_dir, imageName = outputPath(subfolder,filename,OUTPUT_DIR,destination)\n",
        "      if os.path.exists(imageName + '.png'): #if we don't want to subscribe data\n",
        "        continue \n",
        "      if not os.path.exists(destination_dir):\n",
        "        os.mkdir(destination_dir)\n",
        "      \n",
        "      # Plot the signal\n",
        "      signalAnalysis(selection_var,data,sample_rate)\n",
        "\n",
        "      # save the plot\n",
        "      if save_plot == 1:\n",
        "        fig1 = plt.gcf()\n",
        "        pylab.savefig(f'{imageName}.png')\n",
        "        pylab.close()"
      ],
      "metadata": {
        "id": "Q88vv9ObJEVW",
        "colab": {
          "base_uri": "https://localhost:8080/"
        },
        "outputId": "6028a73a-fbd6-4ef2-ed4f-57e742f1617e"
      },
      "execution_count": 10,
      "outputs": [
        {
          "output_type": "stream",
          "name": "stdout",
          "text": [
            "continue\n",
            "continue\n",
            "continue\n",
            "continue\n",
            "continue\n",
            "continue\n",
            "continue\n",
            "continue\n",
            "continue\n",
            "continue\n",
            "continue\n",
            "continue\n",
            "continue\n",
            "continue\n",
            "continue\n",
            "continue\n",
            "continue\n",
            "continue\n",
            "continue\n",
            "continue\n",
            "continue\n",
            "continue\n",
            "continue\n",
            "continue\n",
            "continue\n",
            "continue\n",
            "continue\n",
            "continue\n",
            "continue\n",
            "continue\n",
            "continue\n",
            "continue\n",
            "continue\n",
            "continue\n",
            "continue\n",
            "continue\n",
            "continue\n",
            "continue\n",
            "continue\n",
            "continue\n",
            "continue\n",
            "continue\n",
            "continue\n",
            "continue\n",
            "continue\n",
            "continue\n",
            "continue\n",
            "continue\n",
            "continue\n",
            "continue\n",
            "continue\n",
            "continue\n",
            "continue\n",
            "continue\n",
            "continue\n",
            "continue\n",
            "continue\n",
            "continue\n",
            "continue\n",
            "continue\n",
            "continue\n",
            "continue\n",
            "continue\n",
            "continue\n",
            "continue\n",
            "continue\n",
            "continue\n",
            "continue\n",
            "continue\n",
            "continue\n",
            "continue\n",
            "continue\n",
            "continue\n",
            "continue\n",
            "continue\n",
            "continue\n",
            "continue\n",
            "continue\n",
            "continue\n",
            "continue\n",
            "continue\n",
            "continue\n",
            "continue\n",
            "continue\n",
            "continue\n",
            "continue\n",
            "continue\n",
            "continue\n",
            "continue\n",
            "continue\n",
            "continue\n",
            "continue\n",
            "continue\n",
            "continue\n",
            "continue\n",
            "continue\n",
            "continue\n",
            "continue\n",
            "continue\n",
            "continue\n",
            "continue\n",
            "continue\n",
            "continue\n",
            "continue\n",
            "continue\n",
            "continue\n",
            "continue\n",
            "continue\n",
            "continue\n",
            "continue\n",
            "continue\n",
            "continue\n",
            "continue\n",
            "continue\n",
            "continue\n",
            "continue\n",
            "continue\n",
            "continue\n",
            "continue\n",
            "continue\n",
            "continue\n",
            "continue\n",
            "continue\n",
            "continue\n",
            "continue\n",
            "continue\n",
            "continue\n",
            "continue\n",
            "continue\n",
            "continue\n",
            "continue\n",
            "continue\n",
            "continue\n",
            "continue\n",
            "continue\n",
            "continue\n",
            "continue\n",
            "continue\n",
            "continue\n",
            "continue\n",
            "continue\n",
            "continue\n",
            "continue\n",
            "continue\n",
            "continue\n",
            "continue\n",
            "continue\n",
            "continue\n",
            "continue\n",
            "continue\n",
            "continue\n",
            "continue\n",
            "continue\n",
            "continue\n",
            "continue\n",
            "continue\n",
            "continue\n",
            "continue\n",
            "continue\n",
            "continue\n",
            "continue\n",
            "continue\n",
            "continue\n",
            "continue\n",
            "continue\n",
            "continue\n",
            "continue\n",
            "continue\n",
            "continue\n",
            "continue\n",
            "continue\n",
            "continue\n",
            "continue\n",
            "continue\n",
            "continue\n",
            "continue\n",
            "continue\n",
            "continue\n",
            "continue\n",
            "continue\n",
            "continue\n",
            "continue\n",
            "continue\n",
            "continue\n",
            "continue\n",
            "continue\n",
            "continue\n",
            "continue\n",
            "continue\n",
            "continue\n",
            "continue\n",
            "continue\n",
            "continue\n",
            "continue\n",
            "continue\n",
            "continue\n",
            "continue\n",
            "continue\n"
          ]
        }
      ]
    }
  ]
}