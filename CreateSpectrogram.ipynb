{
  "nbformat": 4,
  "nbformat_minor": 0,
  "metadata": {
    "colab": {
      "provenance": [],
      "collapsed_sections": [],
      "toc_visible": true,
      "mount_file_id": "1QAgpzVoGcHTMf7ZkRxglexkCspWpDphT",
      "authorship_tag": "ABX9TyPGaM1tqe+Qnq/BK+WAYv/L",
      "include_colab_link": true
    },
    "kernelspec": {
      "name": "python3",
      "display_name": "Python 3"
    },
    "language_info": {
      "name": "python"
    }
  },
  "cells": [
    {
      "cell_type": "markdown",
      "metadata": {
        "id": "view-in-github",
        "colab_type": "text"
      },
      "source": [
        "<a href=\"https://colab.research.google.com/github/pietrodileo/Python_for_MD_thesis/blob/main/CreateSpectrogram.ipynb\" target=\"_parent\"><img src=\"https://colab.research.google.com/assets/colab-badge.svg\" alt=\"Open In Colab\"/></a>"
      ]
    },
    {
      "cell_type": "markdown",
      "source": [
        "# **Audio Signal Visualization**\n",
        "## Generate easily different plot from audio signals stored in Google Drive"
      ],
      "metadata": {
        "id": "4v0ytLlfkqPe"
      }
    },
    {
      "cell_type": "markdown",
      "source": [
        "## Import libraries"
      ],
      "metadata": {
        "id": "75sL32jtmAjS"
      }
    },
    {
      "cell_type": "code",
      "execution_count": 33,
      "metadata": {
        "id": "LuPxg6GVwA9r"
      },
      "outputs": [],
      "source": [
        "#importing the libraries\n",
        "import os \n",
        "import cv2\n",
        "import numpy as np\n",
        "import matplotlib\n",
        "#This backend of matplotlib doesn't show plots to the user, but we can save them to Google Drive\n",
        "matplotlib.use('Agg')\n",
        "import matplotlib.pyplot as plt\n",
        "import pdb\n",
        "import librosa\n",
        "import librosa.display\n",
        "from scipy.io import wavfile\n",
        "import seaborn as sns\n",
        "from pathlib import Path\n",
        "import pylab\n",
        "import sys\n",
        "import soundfile as sf\n",
        "import tensorflow as tf"
      ]
    },
    {
      "cell_type": "markdown",
      "source": [
        "# Define local functions"
      ],
      "metadata": {
        "id": "T3mhs-y6e5iD"
      }
    },
    {
      "cell_type": "markdown",
      "source": [
        "\n",
        "## Control functions \n",
        "In this section: the functions that define the outputPath and the analysis selection"
      ],
      "metadata": {
        "id": "35Y5pyDsbOJf"
      }
    },
    {
      "cell_type": "code",
      "source": [
        "def outputPath(subfolder,filename,OUTPUT_DIR,destination):\n",
        "  file_path = os.path.join(subfolder, filename)\n",
        "  file_stem = Path(subfolder).stem\n",
        "  target_dir = f'class_{file_stem}'\n",
        "  destination_dir = os.path.join(os.path.join(OUTPUT_DIR, destination), target_dir)\n",
        "  # generate image name\n",
        "  file_stem = Path(file_path).stem\n",
        "  imageName = os.path.join(destination_dir, file_stem)\n",
        "  return file_path, destination_dir,imageName;\n",
        "\n",
        "def SelectDestination(selection_var):\n",
        "  if selection_var == 1:\n",
        "    destination = 'Sig_Spect'\n",
        "  elif selection_var == 2:\n",
        "    destination = 'Spectrogram' \n",
        "  elif selection_var == 3:\n",
        "    destination = 'Mel-Spectrogram' \n",
        "  elif selection_var == 4:\n",
        "    destination = 'Scalogram' \n",
        "  elif selection_var == 5:\n",
        "    destination = 'Chromagram'\n",
        "  elif selection_var == 6:\n",
        "    destination = 'MFCC'\n",
        "  elif selection_var == 7:\n",
        "    destination = 'RASTAMAT'\n",
        "  else: \n",
        "    # If an exact match is not confirmed, this last case will be used if provided\n",
        "    sys.exit(\"Assign a proper value to the selection variable!\")\n",
        "  return destination\n",
        "\n",
        "def signalAnalysis(selection_var,data,sample_rate,save_plot,imageName,overwriteControl,CMAP):\n",
        "  if selection_var == 1:\n",
        "    # Plot the signal\n",
        "    plotSignal(data,sample_rate,save_plot,imageName, overwriteControl,CMAP)\n",
        "    result = 0;\n",
        "  elif selection_var == 2:\n",
        "    # Plot Spectrogram\n",
        "    result = spectrogramPlot(data,sample_rate,save_plot,imageName, overwriteControl,CMAP)\n",
        "  elif selection_var == 3:\n",
        "    result = MelSpectrogramPlot(data,sample_rate,save_plot,imageName, overwriteControl,CMAP)\n",
        "  elif selection_var == 4:\n",
        "    result = Scalogram(data,sample_rate,save_plot,imageName, overwriteControl,CMAP)\n",
        "  elif selection_var == 5:\n",
        "    result = Chromagram(data,sample_rate,save_plot,imageName, overwriteControl,CMAP)\n",
        "  elif selection_var == 6:\n",
        "    result = plotMFCC(data,sample_rate,save_plot,imageName, overwriteControl,CMAP)\n",
        "  elif selection_var == 7:\n",
        "    result = plotRASTAMAT(data,sample_rate,save_plot,imageName, overwriteControl,CMAP)\n",
        "  else: \n",
        "    # If an exact match is not confirmed, this last case will be used if provided\n",
        "    sys.exit(\"Assign a proper value to the selection variable!\")\n",
        "  return result"
      ],
      "metadata": {
        "id": "sMVHTf6Wc0KF"
      },
      "execution_count": 34,
      "outputs": []
    },
    {
      "cell_type": "markdown",
      "source": [
        "## Plot Signal Function"
      ],
      "metadata": {
        "id": "BHIt_Px87Ist"
      }
    },
    {
      "cell_type": "code",
      "source": [
        "def plotSignal(data,sample_rate,save_plot,imageName):\n",
        "    print('Working on it...')\n",
        "    # plt.figure(figsize=(20,20))\n",
        "    \n",
        "    # plot_a = plt.subplot(211)\n",
        "    # #plot_a.set_title('Title')\n",
        "    # plot_a.plot(data)\n",
        "    # plot_a.set_xlabel('sample rate * time')\n",
        "    # plot_a.set_ylabel('energy')\n",
        "\n",
        "    # plot_b = plt.subplot(212)\n",
        "    # plot_b.specgram(data, NFFT=1024, Fs=sample_rate, noverlap=900)\n",
        "    # plot_b.set_xlabel('Time')\n",
        "    # plot_b.set_ylabel('Frequency')\n",
        "    \n",
        "    # plt.show()\n",
        "\n",
        "    # # save the plot\n",
        "    # if save_plot == 1:\n",
        "    #   fig1 = plt.gcf()\n",
        "    #   pylab.savefig(f'{imageName}.png')\n",
        "    #   pylab.close() \n"
      ],
      "metadata": {
        "id": "6prw0knV7HrO"
      },
      "execution_count": 35,
      "outputs": []
    },
    {
      "cell_type": "markdown",
      "source": [
        "## Plot Spectrogram and Mel-Spectrogram functions\n",
        "\n"
      ],
      "metadata": {
        "id": "o_5E3Y_H7UnT"
      }
    },
    {
      "cell_type": "code",
      "source": [
        "def spectrogramPlot(y,sample_rate,save_plot,imageName,overwriteControl,CMAP):\n",
        "  \n",
        "  # D_highres: numpy array\n",
        "  D_highres = librosa.stft(y, hop_length=256, n_fft=4096)\n",
        "  # converting into energy levels(dB)\n",
        "  S_db_hr = librosa.amplitude_to_db(np.abs(D_highres), ref=np.max)\n",
        "  \n",
        "  # overwrite control after calculating the spectrum because it could be necessary to the image augmentation procedure with the overwrite control\n",
        "  outputName = f'{imageName}_regular.png'\n",
        "  if overwriteControl == 1 and os.path.exists(outputName):\n",
        "    return S_db_hr\n",
        "  \n",
        "  fig1 = plt.figure()\n",
        "  plt.figure(figsize=(20, 20))\n",
        "\n",
        "  librosa.display.specshow(S_db_hr, hop_length=256, sr=sample_rate, \n",
        "                           x_axis='time', y_axis='log',cmap=CMAP)\n",
        "  #plt.colorbar()\n",
        "  plt.clim(-80,0)  # identical to caxis([-4,4]) in MATLAB\n",
        "  plt.ylim([0, 14000])\n",
        "  plt.axis('off')\n",
        "\n",
        "  # save the plot\n",
        "  if save_plot == 1:\n",
        "    fig1 = plt.gcf()\n",
        "    pylab.savefig(outputName)\n",
        "    pylab.close()\n",
        "\n",
        "  return S_db_hr\n",
        "\n",
        "def MelSpectrogramPlot(y,sample_rate,save_plot,imageName,overwriteControl,CMAP):\n",
        "  \n",
        "  M = librosa.feature.melspectrogram(y=y, sr=sample_rate, n_fft=4096)\n",
        "  M_db = librosa.power_to_db(M, ref=np.max)\n",
        "\n",
        "  outputName = f'{imageName}_regular.png'\n",
        "  if overwriteControl == 1 and os.path.exists(outputName):\n",
        "    return M_db\n",
        "\n",
        "  fig1 = plt.figure()\n",
        "\n",
        "  plt.figure(figsize=(20, 20))\n",
        "  librosa.display.specshow(M_db, sr=sample_rate, x_axis='time', \n",
        "                           y_axis='mel',cmap=CMAP)\n",
        "  #plt.colorbar()\n",
        "  plt.clim(-80,0)  # identical to caxis([-4,4]) in MATLAB\n",
        "  plt.ylim([0, 14000])\n",
        "  plt.axis('off')\n",
        "  \n",
        "  # save the plot\n",
        "  if save_plot == 1:\n",
        "    fig1 = plt.gcf()\n",
        "    pylab.savefig(outputName)\n",
        "    pylab.close()\n",
        "  \n",
        "  return M_db"
      ],
      "metadata": {
        "id": "YKLjUfw77O42"
      },
      "execution_count": 36,
      "outputs": []
    },
    {
      "cell_type": "markdown",
      "source": [
        "## Plot Scalogram Function"
      ],
      "metadata": {
        "id": "w2clFz_V7YaU"
      }
    },
    {
      "cell_type": "code",
      "source": [
        "def Scalogram(data,sample_rate,save_plot,imageName,overwriteControl,CMAP):\n",
        "  print('Working on it...')"
      ],
      "metadata": {
        "id": "ZVsIRBkJ7RlY"
      },
      "execution_count": 37,
      "outputs": []
    },
    {
      "cell_type": "markdown",
      "source": [
        "## Plot Chromagram"
      ],
      "metadata": {
        "id": "RPheqjMf7hCc"
      }
    },
    {
      "cell_type": "code",
      "source": [
        "def Chromagram(data,sample_rate,save_plot,imageName,overwriteControl,CMAP):\n",
        "  print('Working on it...')"
      ],
      "metadata": {
        "id": "OgZ4lBql7gb4"
      },
      "execution_count": 38,
      "outputs": []
    },
    {
      "cell_type": "markdown",
      "source": [
        "## Plot MFCC"
      ],
      "metadata": {
        "id": "0NLKsFNo7k-2"
      }
    },
    {
      "cell_type": "code",
      "source": [
        "def plotMFCC(data,sample_rate,save_plot,imageName,overwriteControl,CMAP):\n",
        "  \n",
        "  n_mfcc = 13\n",
        "  n_mels = 40\n",
        "  n_fft = 4096 \n",
        "  hop_length = 160\n",
        "  fmin = 0\n",
        "  fmax = None\n",
        "  mfcc_librosa = librosa.feature.mfcc(y=data, sr=sample_rate, n_fft=n_fft,\n",
        "                                      n_mfcc=n_mfcc, n_mels=n_mels,\n",
        "                                      hop_length=hop_length,\n",
        "                                      fmin=fmin, fmax=fmax, htk=False)\n",
        "  \n",
        "  outputName = f'{imageName}_regular.png'\n",
        "  if overwriteControl == 1 and os.path.exists(outputName):\n",
        "    return mfcc_librosa\n",
        "  \n",
        "  plt.figure(figsize=(20, 20))\n",
        "  sns.heatmap(mfcc_librosa, vmin=-500, vmax=300, cbar=False)\n",
        "  plt.axis('off')\n",
        "  \n",
        "  # save the plot\n",
        "  if save_plot == 1:\n",
        "    fig1 = plt.gcf()\n",
        "    pylab.savefig(outputName)\n",
        "    pylab.close()\n",
        "    \n",
        "  return mfcc_librosa"
      ],
      "metadata": {
        "id": "hjN7d_ty7j_J"
      },
      "execution_count": 39,
      "outputs": []
    },
    {
      "cell_type": "markdown",
      "source": [
        "## Plot RASTAMAT"
      ],
      "metadata": {
        "id": "Dlff-LdRGC6g"
      }
    },
    {
      "cell_type": "code",
      "source": [
        "def plotRASTAMAT(data,sample_rate,save_plot,imageName,overwriteControl,CMAP):\n",
        "  \n",
        "  n_mfcc = 13\n",
        "  n_mels = 40\n",
        "  n_fft = 4096 \n",
        "  hop_length = 160\n",
        "  fmin = 0\n",
        "  fmax = None\n",
        "  mfcc_librosa = librosa.feature.mfcc(y=data, sr=sample_rate, n_fft=n_fft,\n",
        "                                      n_mfcc=n_mfcc, n_mels=n_mels,\n",
        "                                      hop_length=hop_length,\n",
        "                                      fmin=fmin, fmax=fmax, dct_type = 2,\n",
        "                                      htk=False)\n",
        "  \n",
        "  outputName = f'{imageName}_regular.png'\n",
        "  if overwriteControl == 1 and os.path.exists(outputName):\n",
        "    return mfcc_librosa\n",
        "\n",
        "  plt.figure(figsize=(20, 20))\n",
        "  sns.heatmap(mfcc_librosa, vmin=-500, vmax=300, cbar=False)\n",
        "  plt.axis('off')\n",
        "\n",
        "  # save the plot\n",
        "  if save_plot == 1:\n",
        "    fig1 = plt.gcf()\n",
        "    pylab.savefig(outputName)\n",
        "    pylab.close()\n",
        "\n",
        "  return mfcc_librosa"
      ],
      "metadata": {
        "id": "W3Ujlaj6GEvT"
      },
      "execution_count": 40,
      "outputs": []
    },
    {
      "cell_type": "markdown",
      "source": [
        "# Data augmentation Functions"
      ],
      "metadata": {
        "id": "v7dg0zDO27lD"
      }
    },
    {
      "cell_type": "markdown",
      "source": [
        "##Data Augmentation to the Signal"
      ],
      "metadata": {
        "id": "k6XmeQSo5ZeT"
      }
    },
    {
      "cell_type": "code",
      "source": [
        "#!pip install audiomentations\n",
        "\n",
        "from audiomentations.augmentations.time_mask import TimeMask\n",
        "from audiomentations import TimeStretch\n",
        "import torch\n",
        "import torchaudio\n",
        "from torchaudio import transforms\n",
        "\n",
        "doAugmentation = True\n",
        "if doAugmentation == True:\n",
        "  ## Data Augmentation\n",
        "  from audiomentations import Compose, AddGaussianNoise, PitchShift, HighPassFilter\n",
        "  # add gaussian noise\n",
        "  AddNoise = Compose([AddGaussianNoise(min_amplitude = 0.05, max_amplitude = 0.15, p=1)])\n",
        "  # shift pitch\n",
        "  pitchShifting = Compose([PitchShift(min_semitones = -8, max_semitones = -8, p=1)])\n",
        "  # stretch time\n",
        "  timeStretch = Compose([TimeStretch(min_rate=0.8,max_rate=1.25,leave_length_unchanged=True,p=1.0)])\n",
        "  # time Mask\n",
        "  timeMask = Compose([TimeMask(min_band_part=0.2, max_band_part=0.5, p=1.0)])\n",
        "\n",
        "  augment = Compose([AddGaussianNoise(min_amplitude = 0.05, max_amplitude = 0.15, p=1),\n",
        "      PitchShift(min_semitones = -8, max_semitones = -8, p=1),\n",
        "      TimeStretch(min_rate=0.8,max_rate=1.25,leave_length_unchanged=True,p=1.0),\n",
        "      #HighPassFilter(min_cutoff_freq = 2000, max_cutoff_freq=4000, p=1) \n",
        "      ])"
      ],
      "metadata": {
        "id": "-kTCQXvqbIrl"
      },
      "execution_count": 41,
      "outputs": []
    },
    {
      "cell_type": "code",
      "source": [
        "def Signal_Augmentation(selection_var,data,sample_rate,save_plot,imageName,overwriteControl,CMAP):\n",
        "  \n",
        "  # Save plot = 0 or the picture will overwrite the non-augmented one\n",
        "  # also overwritecontrol = 0, because it is not necessary in this case\n",
        "  outputName = f'{imageName}_GaussianNoise.png'\n",
        "  if not(overwriteControl == 1 and os.path.exists(outputName)): \n",
        "    noisy_signal = AddNoise(data,sample_rate)\n",
        "    signalAnalysis(selection_var,noisy_signal,sample_rate,0,imageName,0,CMAP)\n",
        "    if save_plot == 1:\n",
        "      fig = plt.gcf()\n",
        "      pylab.savefig(outputName)\n",
        "      pylab.close()\n",
        "\n",
        "  outputName = f'{imageName}_PitchShifted.png'\n",
        "  if not(overwriteControl == 1 and os.path.exists(outputName)): \n",
        "    pitchy_signal = pitchShifting(data,sample_rate)\n",
        "    signalAnalysis(selection_var,pitchy_signal,sample_rate,0,imageName,0,CMAP)\n",
        "    if save_plot == 1:\n",
        "      fig = plt.gcf()\n",
        "      pylab.savefig(outputName)\n",
        "      pylab.close()\n",
        "\n",
        "  outputName = f'{imageName}_Stretched.png'\n",
        "  if not(overwriteControl == 1 and os.path.exists(outputName)): \n",
        "    stretchy_signal = timeStretch(data,sample_rate)\n",
        "    signalAnalysis(selection_var,stretchy_signal,sample_rate,0,imageName,0,CMAP)\n",
        "    if save_plot == 1:\n",
        "      fig = plt.gcf()\n",
        "      pylab.savefig(outputName)\n",
        "      pylab.close()\n",
        "  \n",
        "  outputName = f'{imageName}_SignalAugmented.png'\n",
        "  if not(overwriteControl == 1 and os.path.exists(outputName)): \n",
        "    augmented_signal = augment(data,sample_rate)\n",
        "    signalAnalysis(selection_var,augmented_signal,sample_rate,0,imageName,0,CMAP)\n",
        "    if save_plot == 1:\n",
        "      fig = plt.gcf()\n",
        "      pylab.savefig(outputName)\n",
        "      pylab.close()"
      ],
      "metadata": {
        "id": "Q7GZlEZ05iHd"
      },
      "execution_count": 42,
      "outputs": []
    },
    {
      "cell_type": "markdown",
      "source": [
        "##Data Augmentation to the Spectrogram/Plot"
      ],
      "metadata": {
        "id": "ypiYdp7t5emp"
      }
    },
    {
      "cell_type": "markdown",
      "source": [
        "### Frequency Masking"
      ],
      "metadata": {
        "id": "6cQjCuypBh1S"
      }
    },
    {
      "cell_type": "code",
      "source": [
        "def my_freq_mask(input, param, FreqNum, name=None):\n",
        "    \"\"\"\n",
        "    Apply masking to a spectrogram in the freq domain.\n",
        "    Args:\n",
        "      input: An audio spectogram.\n",
        "      param: Parameter of freq masking.\n",
        "      name: A name for the operation (optional).\n",
        "    Returns:\n",
        "      A tensor of spectrogram.\n",
        "    \"\"\"\n",
        "    input = tf.convert_to_tensor(input)\n",
        "    # TODO: Support audio with channel > 1.\n",
        "    freq_max = tf.shape(input)[1]\n",
        "    # calculate the indexes for all the frequencies\n",
        "    indices = tf.reshape(tf.range(freq_max), (1, -1))\n",
        "    for x in range(FreqNum):\n",
        "      # param is the max value of a uniform random distribution\n",
        "      f = tf.random.uniform(shape=(), minval=0, \n",
        "                            maxval=param, dtype=tf.dtypes.int32)\n",
        "      # f0 is a random selected number from a uniform distribution \n",
        "      # with range (0, freq_max-f)\n",
        "      f0 = tf.random.uniform(shape=(), minval=0, \n",
        "                             maxval=freq_max - f, dtype=tf.dtypes.int32)\n",
        "      # select all the frequencies greater or equal to f0\n",
        "      cond1 = tf.math.greater_equal(indices, f0)\n",
        "      # select all the frequencies smaller than f0 + f\n",
        "      cond2 = tf.math.less(indices, f0 + f)\n",
        "      # select all the frequencies between f0 and f0+f\n",
        "      condition = tf.math.logical_and(cond1, cond2)\n",
        "      masking = tf.where(condition,  tf.cast(0, input.dtype), input)\n",
        "      input = masking\n",
        "    return masking"
      ],
      "metadata": {
        "id": "437qu6Ourawz"
      },
      "execution_count": 43,
      "outputs": []
    },
    {
      "cell_type": "code",
      "source": [
        "def FrequencyMasking(result,param,FreqNum,sample_rate,save_plot,imageName,overwriteControl,CMAP):\n",
        "  \n",
        "  outputName = f'{imageName}_FreqMasked.png'\n",
        "  if overwriteControl == 1 and os.path.exists(outputName):\n",
        "    return \n",
        "  \n",
        "  # Freq masking\n",
        "  # Convert ndarray representing the spectrogram to a tensor for pytorch\n",
        "  result_tensor = torch.from_numpy(result)        \n",
        "  freq_mask = my_freq_mask(result_tensor, param, FreqNum)\n",
        "  plt.figure(figsize=(20, 20))\n",
        "\n",
        "  # TO DO: now the plot is limited to mel-spectrogram, define data augmentation also for MFCC, spectrogram, etc..\n",
        "  librosa.display.specshow(freq_mask.numpy(), sr=sample_rate, x_axis='time', \n",
        "                           y_axis='mel',cmap=CMAP)   \n",
        "  #plt.colorbar()\n",
        "  plt.clim(-80,0)  # identical to caxis([-4,4]) in MATLAB\n",
        "  plt.ylim([0, 14000])\n",
        "  plt.axis('off')   \n",
        "  \n",
        "  if save_plot == 1:\n",
        "    fig2 = plt.gcf()\n",
        "    pylab.savefig(outputName)\n",
        "    pylab.close()"
      ],
      "metadata": {
        "id": "sz5wh6Du5iU-"
      },
      "execution_count": 44,
      "outputs": []
    },
    {
      "cell_type": "markdown",
      "source": [
        "### Time Masking"
      ],
      "metadata": {
        "id": "Uosvnc4eBliJ"
      }
    },
    {
      "cell_type": "code",
      "source": [
        "def my_time_mask(input, param, TimeNum, name=None):\n",
        "    \"\"\"\n",
        "    Apply masking to a spectrogram in the time domain.\n",
        "    Args:\n",
        "      input: An audio spectogram.\n",
        "      param: Parameter of time masking.\n",
        "      name: A name for the operation (optional).\n",
        "    Returns:\n",
        "      A tensor of spectrogram.\n",
        "    \"\"\"\n",
        "    # code is quite similar to my_freq_mask\n",
        "    input = tf.convert_to_tensor(input)\n",
        "    # TODO: Support audio with channel > 1.\n",
        "    time_max = tf.shape(input)[0]\n",
        "    indices = tf.reshape(tf.range(time_max), (-1, 1))\n",
        "    for x in range(TimeNum):\n",
        "      t = tf.random.uniform(shape=(), minval=0, \n",
        "                          maxval=param, dtype=tf.dtypes.int32)\n",
        "      t0 = tf.random.uniform(shape=(), minval=0,\n",
        "                          maxval=time_max - t, dtype=tf.dtypes.int32)\n",
        "      cond1 = tf.math.greater_equal(indices, t0)\n",
        "      cond2 = tf.math.less(indices, t0 + t)\n",
        "      condition = tf.math.logical_and(cond1, cond2)\n",
        "      masking = tf.where(condition, tf.cast(0, input.dtype), input)\n",
        "      input = masking\n",
        "    return masking"
      ],
      "metadata": {
        "id": "yFUHqRYBUHBr"
      },
      "execution_count": 45,
      "outputs": []
    },
    {
      "cell_type": "code",
      "source": [
        "def TimeMasking(result,param,TimeNum,sample_rate,save_plot,imageName,overwriteControl,CMAP):\n",
        "  \n",
        "  outputName = f'{imageName}_TimeMasked.png'\n",
        "  if overwriteControl == 1 and os.path.exists(outputName):\n",
        "    return \n",
        "  \n",
        "  # Time masking\n",
        "  # Convert ndarray representing the spectrogram to a tensor for pytorch\n",
        "  result_tensor = torch.from_numpy(result)        \n",
        "  time_mask = my_time_mask(result_tensor, param, TimeNum)\n",
        "  \n",
        "  plt.figure(figsize=(20, 20))\n",
        "  librosa.display.specshow(time_mask.numpy(), sr=sample_rate, x_axis='time', \n",
        "                           y_axis='mel',cmap=CMAP)   \n",
        "  #plt.colorbar()\n",
        "  plt.clim(-80,0)  # identical to caxis([-4,4]) in MATLAB\n",
        "  plt.ylim([0, 14000])\n",
        "  plt.axis('off')   \n",
        "  \n",
        "  if save_plot == 1:\n",
        "    fig2 = plt.gcf()\n",
        "    pylab.savefig(outputName)\n",
        "    pylab.close()"
      ],
      "metadata": {
        "id": "SJGSJn_LVbeX"
      },
      "execution_count": 46,
      "outputs": []
    },
    {
      "cell_type": "markdown",
      "source": [
        "### Time + Frequency Masking"
      ],
      "metadata": {
        "id": "dG4k5A_QXKwI"
      }
    },
    {
      "cell_type": "code",
      "source": [
        "def Freq_and_Time_Masking(result,param,TimeNum,FreqNum,sample_rate,save_plot,imageName,overwriteControl,CMAP):\n",
        "  \n",
        "  outputName = f'{imageName}_Time_and_Freq_Masked.png'\n",
        "  if overwriteControl == 1 and os.path.exists(outputName):\n",
        "    return \n",
        "  \n",
        "  # Time masking\n",
        "  # Convert ndarray representing the spectrogram to a tensor for pytorch\n",
        "  result_tensor = torch.from_numpy(result)        \n",
        "  time_mask = my_time_mask(result_tensor, param, TimeNum)\n",
        "  \n",
        "  # Freq masking\n",
        "  # Convert ndarray representing the spectrogram to a tensor for pytorch\n",
        "#  result_tensor = torch.from_numpy(time_mask)        \n",
        "  freq_mask = my_freq_mask(time_mask, param, FreqNum)\n",
        "\n",
        "  plt.figure(figsize=(20, 20))\n",
        "  librosa.display.specshow(freq_mask.numpy(), sr=sample_rate, x_axis='time', \n",
        "                           y_axis='mel',cmap=CMAP)   \n",
        "  #plt.colorbar()\n",
        "  plt.clim(-80,0)  # identical to caxis([-4,4]) in MATLAB\n",
        "  plt.ylim([0, 14000])\n",
        "  plt.axis('off')   \n",
        "  \n",
        "  if save_plot == 1:\n",
        "    fig = plt.gcf()\n",
        "    pylab.savefig(outputName)\n",
        "    pylab.close()"
      ],
      "metadata": {
        "id": "in5xX7R1W7xH"
      },
      "execution_count": 47,
      "outputs": []
    },
    {
      "cell_type": "markdown",
      "source": [
        "# Define Input and Output directory 👆"
      ],
      "metadata": {
        "id": "beB6kUWfI4lJ"
      }
    },
    {
      "cell_type": "code",
      "source": [
        "#let the plot appear and store it with the notebook\n",
        "%matplotlib inline\n",
        "#setting the path to the directory containing the pics\n",
        "INPUT_DIR = '/content/drive/MyDrive/DatasetTesi/Vowel_E_REC'\n",
        "OUTPUT_DIR = '/content/drive/MyDrive/DatasetTesi/outputSpectrogram/'\n",
        "valid_formats = [\".wav\"]\n",
        "#audio_data = []"
      ],
      "metadata": {
        "id": "zgSU5q2XItlp"
      },
      "execution_count": 48,
      "outputs": []
    },
    {
      "cell_type": "markdown",
      "source": [
        "# Choose the plot to be generated 🔎\n",
        "\n",
        "Change the value of selection variable to plot:\n",
        "1. Signal + Spectrogram\n",
        "2. Spectrogram\n",
        "3. Mel-Spectrogram\n",
        "4. CWT (Scalogram)\n",
        "5. Chromagram\n",
        "6. MFCC\n",
        "7. RASTAMAT Coefficients\n",
        "\n",
        "\n"
      ],
      "metadata": {
        "id": "GTAmtjX2xA-d"
      }
    },
    {
      "cell_type": "code",
      "source": [
        "selection_var = 3\n",
        "destination = SelectDestination(selection_var)\n",
        "save_plot = 1; # if 1, save plot on Google Drive\n",
        "overwriteControl = 1;\n",
        "CMAP = 'jet'\n",
        "#palsma, jet, Greys, Greys_r (reverse), ..."
      ],
      "metadata": {
        "id": "QX52a40gw8ZG"
      },
      "execution_count": 49,
      "outputs": []
    },
    {
      "cell_type": "markdown",
      "source": [
        "Creo una cartella dove salvare l'output"
      ],
      "metadata": {
        "id": "8aLp35x-bZHz"
      }
    },
    {
      "cell_type": "code",
      "source": [
        "# For every recording, make a spectogram and save it as label_speaker_no.png\n",
        "if not os.path.exists(os.path.join(OUTPUT_DIR, destination)):\n",
        "    os.makedirs(os.path.join(OUTPUT_DIR, destination))"
      ],
      "metadata": {
        "id": "fj6Miy66bC_a"
      },
      "execution_count": 50,
      "outputs": []
    },
    {
      "cell_type": "markdown",
      "source": [
        "# Generate Plot! ✔"
      ],
      "metadata": {
        "id": "NvK0wQoUJGIx"
      }
    },
    {
      "cell_type": "code",
      "source": [
        "for folders in os.listdir(INPUT_DIR):\n",
        "  # select a subfolder\n",
        "  subfolder = os.path.join(INPUT_DIR,folders)\n",
        "  # select all the records in the subfolder\n",
        "  for filename in os.listdir(subfolder):\n",
        "    file_format = os.path.splitext(filename)[1] \n",
        "    if file_format.lower() in valid_formats:\n",
        "      data, sample_rate = librosa.load(os.path.join(subfolder,filename))\n",
        "      # define output path\n",
        "      file_path, destination_dir, imageName = outputPath(subfolder,filename,OUTPUT_DIR,destination)\n",
        "      \n",
        "      print('Now reading', filename)\n",
        "      \n",
        "      # create destination folder if it doesn't exist\n",
        "      if not os.path.exists(destination_dir):\n",
        "        os.mkdir(destination_dir)\n",
        "\n",
        "      # Plot the signal, result is an ndarray containing the plot\n",
        "      result = signalAnalysis(selection_var,data,sample_rate,\n",
        "                              save_plot,imageName,overwriteControl,CMAP)\n",
        "      \n",
        "      if doAugmentation == True:\n",
        "      ## 1. Data Augmentation to the signal\n",
        "        Signal_Augmentation(selection_var,data,sample_rate,\n",
        "                            save_plot,imageName,overwriteControl,CMAP)\n",
        "\n",
        "      ## 2. Data Augmentation to the spectrogram\n",
        "        # Freq masking\n",
        "        param = 10 \n",
        "        FreqNum = 5\n",
        "        FrequencyMasking(result,param,FreqNum,sample_rate,\n",
        "                         save_plot,imageName,overwriteControl,CMAP)\n",
        "        # Time masking\n",
        "        TimeNum = 4\n",
        "        TimeMasking(result,param,TimeNum,sample_rate,\n",
        "                    save_plot,imageName,overwriteControl,CMAP)\n",
        "        # Time + Frequency\n",
        "        FreqNum = 3\n",
        "        TimeNum = 2\n",
        "        Freq_and_Time_Masking(result,param,TimeNum,FreqNum,sample_rate,\n",
        "                              save_plot,imageName,overwriteControl,CMAP)\n"
      ],
      "metadata": {
        "id": "Q88vv9ObJEVW",
        "colab": {
          "base_uri": "https://localhost:8080/"
        },
        "outputId": "50934073-dddd-4615-d0b8-98e6af1b4126"
      },
      "execution_count": null,
      "outputs": [
        {
          "name": "stdout",
          "output_type": "stream",
          "text": [
            "Now reading 028_leonori_e.wav\n",
            "Now reading 045_puggi_emma_PD_OFF_e.wav\n",
            "Now reading 038_bobisse_e.wav\n",
            "Now reading 046_gallucci_PD_OFF_e.wav\n",
            "Now reading 005_sweeney_e.wav\n",
            "Now reading 015_braghese_e.wav\n",
            "Now reading 031_manzolini_e.wav\n",
            "Now reading 052_gubitosi_e.wav\n",
            "Now reading 047_graziano_gina_PD_OFF_e.wav\n",
            "Now reading 042_zaccarelli_aldo_PD_OFF_e.wav\n",
            "Now reading 033_tirabassi_e.wav\n",
            "Now reading 029_Galloni_e.wav\n",
            "Now reading 002_deleonardis_e.wav\n",
            "Now reading 044_colavovo_anna_PD_OFF_e.wav\n",
            "Now reading 032_piacentini_e.wav\n",
            "Now reading 021_turchi_e.wav\n",
            "Now reading 022_romeo_e.wav\n",
            "Now reading 007_Giuliani_e.wav\n",
            "Now reading 018_fratoni_e.wav\n",
            "Now reading 004_Sopranzetti_e.wav\n",
            "Now reading 011_puggi_e.wav\n",
            "Now reading 030_Ferrari_e.wav\n",
            "Now reading 035_vellitri_e.wav\n",
            "Now reading 013_coccia_sergio_e.wav\n",
            "Now reading 009_giov_paz_berardell_e.wav\n",
            "Now reading 008_fubelli_e.wav\n",
            "Now reading 034_graziani_e.wav\n",
            "Now reading 025_genovese_e.wav\n",
            "Now reading 014_pace_e.wav\n",
            "Now reading 020_iacoella_e.wav\n",
            "Now reading 012_piterno_e.wav\n",
            "Now reading 037_di_nicola_rita_e.wav\n",
            "Now reading 010_placidi_e.wav\n",
            "Now reading 036_lopez_e.wav\n",
            "Now reading 040_mazzucchi_PD_OFF_e.wav\n",
            "Now reading 026_di_massimo_e.wav\n",
            "Now reading 017_guerrieri_e.wav\n",
            "Now reading 041_caniello_emanuele_PD_OFF_e.wav\n",
            "Now reading 019_fuballi_sergio_e.wav\n",
            "Now reading 023_caretta_e.wav\n",
            "Now reading 024_massirini_rossana_e.wav\n",
            "Now reading 001_Quarenghi_paola_e.wav\n",
            "Now reading 043_petrucci_fernando_PD_OFF_e.wav\n",
            "Now reading 006_Calvo_e.wav\n",
            "Now reading 039_melini_PD_OFF_e.wav\n",
            "Now reading 003_Frassetto_e.wav\n",
            "Now reading 016_sesini_e.wav\n",
            "Now reading 027_gianni_e.wav\n",
            "Now reading 050_fanfarilli_marco_PD_OFF_e.wav\n",
            "Now reading 051_amaranto_matilde_PD_OFF_e.wav\n",
            "Now reading 049_cerescioli_rosetta_PD_OFF_e.wav\n",
            "Now reading 053_mancinelli_mauro_PD_OFF_e.wav\n",
            "Now reading 048_rizzari_agrippino_PD_OFF_e.wav\n",
            "Now reading 054_Giannetti_giancarlo_PD_OFF_e.wav\n",
            "Now reading 055_Maggi_milena_PD_OFF_E.wav\n",
            "Now reading 056_mondello_massimo_PDOFF_E.wav\n",
            "Now reading 057_alonzi_franco_PD_suppa_e.wav\n",
            "Now reading 058_conflitti_maria_PD_suppa_e.wav\n",
            "Now reading 059_benedettucci_francesco_PD_OFF_e.wav\n",
            "Now reading 060_marini_liliana_PD_suppa_e+s2.wav\n",
            "Now reading 061_di_mattia_francesca_PD_suppa_e.wav\n",
            "Now reading 062_colagiacomo_nella_PD_suppa_e.wav\n",
            "Now reading 032_piacentini_PD_ON_e.wav\n",
            "Now reading 027_gianni_cesare_PD_ON_e.wav\n",
            "Now reading 033_tirabassi_Corrado_PDD_ON_e.wav\n",
            "Now reading 024_Messerini_Rosanna_PD_ON_e.wav\n",
            "Now reading 005_SWEENEY_ANGELA_THERESA_PD_ON_e.wav\n",
            "Now reading 028_leonori_PD_ON_e.wav\n",
            "Now reading 035_vellitri_Mario_PD_ON_e.wav\n",
            "Now reading 022_romeo_PD_ON_e.wav\n",
            "Now reading 036_Lopez_Sergio_PD_ON_e.wav\n",
            "Now reading 034_graziani_Luciano_PD_ON_e.wav\n",
            "Now reading 040_Mazzucchi_Piercarlo_PD_ON_e.wav\n",
            "Now reading 020_iacoella_PD_ON_e.wav\n",
            "Now reading 048_rizzari_agrippino_PD_ON_e.wav\n",
            "Now reading 017_guerrieri_PD_ON_e.wav\n",
            "Now reading 003_Frassetto_Sergio_PD_ON_e.wav\n",
            "Now reading 041_Caniello_emanuele_PD_ON_e.wav\n",
            "Now reading 049_cerescioli_rosetta_PD_ON_e.wav\n",
            "Now reading 023_caretta_pietro_PD_ON_e.wav\n",
            "Now reading 009_giov_paz_berardell_PD_ON_e.wav\n",
            "Now reading 004_Sopranzetti_PD_ON_e.wav\n",
            "Now reading 018_fratoni_francesco_PD_ON_e.wav\n",
            "Now reading 047_grazionao_gina_PD_ON_e.wav\n",
            "Now reading 002_deleonardis_PD_ON_e.wav\n",
            "Now reading 031_manzolini_PD_ON_e.wav\n",
            "Now reading 044_covalovo_PD_ON_e.wav\n",
            "Now reading 025_genovese_PD_ON_e.wav\n",
            "Now reading 014_pace_PD_ON_e.wav\n",
            "Now reading 013_coccia_sergio_PD_ON_e.wav\n",
            "Now reading 042_Zaccarelli_Aldo_PD_ON_e.wav\n",
            "Now reading 016_sesini_PD_ON_e.wav\n",
            "Now reading 043_Petrucci_Fernando_PD_ON_e.wav\n",
            "Now reading 046_gallucci_paolo_PD_ON_e.wav\n",
            "Now reading 050_fanfarilli_marco_PD_ON_e.wav\n",
            "Now reading 001_Quarenghi_paola_PD_ON_e.wav\n",
            "Now reading 019_fuballi_sergio_PD_ON_e.wav\n",
            "Now reading 051_amaranto_matilde_PD_ON_e.wav\n",
            "Now reading 026_di_massimo_giulio_PD_ON_e.wav\n",
            "Now reading 030_Ferrari_PD_ON_e.wav\n",
            "Now reading 011_puggi_PD_ON_e.wav\n",
            "Now reading 006_CalvoPD_ON_e.wav\n",
            "Now reading 012_piterno_PD_ON_e.wav\n",
            "Now reading 021_turchi_PD_ON_e.wav\n",
            "Now reading 039_Melini_umberto_PD_ON_e.wav\n",
            "Now reading 029_Galloni_orlando_PD_ON_e.wav\n",
            "Now reading 038_Bobisse_Milena_PD_ON_e.wav\n",
            "Now reading 008_fubelli_PD_ON_e.wav\n",
            "Now reading 015_braghese_PD_ON_e.wav\n",
            "Now reading 010_placidi_dario_PD_ON_e.wav\n",
            "Now reading 037_di_Nicola_Rita_PD_ON_e.wav\n",
            "Now reading 007_Giuliani_Stefano_ON_PD_e.wav\n",
            "Now reading 045_puggi_PD_ON_e.wav\n",
            "Now reading N_001_Fois Giuseppe PD ON.wav\n",
            "Now reading N_002_Fois Giuseppe PD ON.wav\n",
            "Now reading 012_OA_E_Female.wav\n",
            "Now reading 011_OA_E_Female.wav\n",
            "Now reading 013_OA_E_Female.wav\n",
            "Now reading 010_OA_E_Female.wav\n",
            "Now reading 014_OA_E_Female.wav\n",
            "Now reading 005_OA_E_Female.wav\n",
            "Now reading 024_OA_E_Female.wav\n",
            "Now reading 029_OA_E_Female.wav\n",
            "Now reading 022_OA_E_Female.wav\n",
            "Now reading 032_OA_E_Female.wav\n",
            "Now reading 015_OA_E_Female.wav\n",
            "Now reading 007_OA_E_Female.wav\n",
            "Now reading 020_OA_E_Female.wav\n",
            "Now reading 008_OA_E_Female.wav\n",
            "Now reading 009_OA_E_Female.wav\n",
            "Now reading 026_OA_E_Female.wav\n",
            "Now reading 004_OA_E_Female.wav\n",
            "Now reading 003_OA_E_Female.wav\n",
            "Now reading 028_OA_E_Female.wav\n",
            "Now reading 006_OA_E_Female.wav\n",
            "Now reading 021_OA_E_Female.wav\n",
            "Now reading 027_OA_E_Female.wav\n",
            "Now reading 019_OA_E_Female.wav\n",
            "Now reading 030_OA_E_Female.wav\n",
            "> <ipython-input-51-94f0621a25b3>(21)<module>()\n",
            "-> if not os.path.exists(destination_dir):\n",
            "(Pdb) c\n"
          ]
        },
        {
          "output_type": "stream",
          "name": "stderr",
          "text": [
            "\n",
            "PYDEV DEBUGGER WARNING:\n",
            "sys.settrace() should not be used when the debugger is being used.\n",
            "This may cause the debugger to stop working correctly.\n",
            "If this is needed, please check: \n",
            "http://pydev.blogspot.com/2007/06/why-cant-pydev-debugger-work-with.html\n",
            "to see how to restore the debug tracing back correctly.\n",
            "Call Location:\n",
            "  File \"/usr/lib/python3.7/bdb.py\", line 343, in set_continue\n",
            "    sys.settrace(None)\n",
            "\n"
          ]
        },
        {
          "output_type": "stream",
          "name": "stdout",
          "text": [
            "Now reading 017_OA_E_Female.wav\n",
            "Now reading 018_OA_E_Female.wav\n",
            "Now reading 016_OA_E_Female.wav\n",
            "Now reading 002_OA_E_Female.wav\n"
          ]
        },
        {
          "output_type": "stream",
          "name": "stderr",
          "text": [
            "/usr/local/lib/python3.7/dist-packages/ipykernel_launcher.py:42: RuntimeWarning: More than 20 figures have been opened. Figures created through the pyplot interface (`matplotlib.pyplot.figure`) are retained until explicitly closed and may consume too much memory. (To control this warning, see the rcParam `figure.max_open_warning`).\n",
            "/usr/local/lib/python3.7/dist-packages/ipykernel_launcher.py:11: RuntimeWarning: More than 20 figures have been opened. Figures created through the pyplot interface (`matplotlib.pyplot.figure`) are retained until explicitly closed and may consume too much memory. (To control this warning, see the rcParam `figure.max_open_warning`).\n",
            "  # This is added back by InteractiveShellApp.init_path()\n",
            "/usr/local/lib/python3.7/dist-packages/ipykernel_launcher.py:12: RuntimeWarning: More than 20 figures have been opened. Figures created through the pyplot interface (`matplotlib.pyplot.figure`) are retained until explicitly closed and may consume too much memory. (To control this warning, see the rcParam `figure.max_open_warning`).\n",
            "  if sys.path[0] == '':\n",
            "/usr/local/lib/python3.7/dist-packages/ipykernel_launcher.py:17: RuntimeWarning: More than 20 figures have been opened. Figures created through the pyplot interface (`matplotlib.pyplot.figure`) are retained until explicitly closed and may consume too much memory. (To control this warning, see the rcParam `figure.max_open_warning`).\n"
          ]
        },
        {
          "output_type": "stream",
          "name": "stdout",
          "text": [
            "Now reading 025_OA_E_Female.wav\n"
          ]
        },
        {
          "output_type": "stream",
          "name": "stderr",
          "text": [
            "/usr/local/lib/python3.7/dist-packages/ipykernel_launcher.py:40: RuntimeWarning: More than 20 figures have been opened. Figures created through the pyplot interface (`matplotlib.pyplot.figure`) are retained until explicitly closed and may consume too much memory. (To control this warning, see the rcParam `figure.max_open_warning`).\n"
          ]
        },
        {
          "output_type": "stream",
          "name": "stdout",
          "text": [
            "Now reading 031_OA_E_Female.wav\n",
            "Now reading 001_OA_E_Female.wav\n",
            "Now reading 033_OA_E_Female.wav\n",
            "Now reading 023_OA_E_Female.wav\n",
            "Now reading 078_OA_E_Male.wav\n",
            "Now reading 041_OA_E_Female.wav\n"
          ]
        }
      ]
    }
  ]
}