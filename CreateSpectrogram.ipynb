{
  "nbformat": 4,
  "nbformat_minor": 0,
  "metadata": {
    "colab": {
      "provenance": [],
      "collapsed_sections": [],
      "mount_file_id": "1QAgpzVoGcHTMf7ZkRxglexkCspWpDphT",
      "authorship_tag": "ABX9TyOepkGXgw0AZj7Es/qIN7q0",
      "include_colab_link": true
    },
    "kernelspec": {
      "name": "python3",
      "display_name": "Python 3"
    },
    "language_info": {
      "name": "python"
    }
  },
  "cells": [
    {
      "cell_type": "markdown",
      "metadata": {
        "id": "view-in-github",
        "colab_type": "text"
      },
      "source": [
        "<a href=\"https://colab.research.google.com/github/pietrodileo/Python_for_MD_thesis/blob/main/CreateSpectrogram.ipynb\" target=\"_parent\"><img src=\"https://colab.research.google.com/assets/colab-badge.svg\" alt=\"Open In Colab\"/></a>"
      ]
    },
    {
      "cell_type": "markdown",
      "source": [
        "# Plot a spectrogram from an audio signal"
      ],
      "metadata": {
        "id": "4v0ytLlfkqPe"
      }
    },
    {
      "cell_type": "markdown",
      "source": [
        "Creo un datastore di spettrogrammi, ottenendoli da dei segnali audio presenti su Google Drive"
      ],
      "metadata": {
        "id": "75sL32jtmAjS"
      }
    },
    {
      "cell_type": "code",
      "execution_count": 30,
      "metadata": {
        "id": "LuPxg6GVwA9r"
      },
      "outputs": [],
      "source": [
        "#importing the libraries\n",
        "import os \n",
        "import cv2\n",
        "import numpy as np\n",
        "import matplotlib.pyplot as plt\n",
        "import pdb\n",
        "import librosa\n",
        "import librosa.display\n",
        "from scipy.io import wavfile\n",
        "import seaborn as sns\n",
        "from pathlib import Path\n",
        "import pylab\n",
        "\n",
        "# Define local functions\n",
        "def plotSignal(data,sample_rate):\n",
        "  plt.figure(figsize=(14, 5))\n",
        "  librosa.display.waveplot(data, sr=sample_rate)\n",
        "\n",
        "def spectrogramPlot(x,sample_rate):\n",
        "  #x: numpy array\n",
        "  X = librosa.stft(x)\n",
        "  #converting into energy levels(dB)\n",
        "  Xdb = librosa.amplitude_to_db(abs(X))\n",
        "  plt.figure(figsize=(20, 20))\n",
        "  librosa.display.specshow(Xdb, sr=sample_rate, x_axis='time', \n",
        "                           y_axis='log',cmap='plasma')\n",
        "  #plt.colorbar()\n",
        "  plt.clim(-50,40)  # identical to caxis([-4,4]) in MATLAB\n",
        "  plt.ylim([0, 10000])\n",
        "  plt.axis('off')"
      ]
    },
    {
      "cell_type": "markdown",
      "source": [
        "Definisco le directory di input e di output"
      ],
      "metadata": {
        "id": "beB6kUWfI4lJ"
      }
    },
    {
      "cell_type": "code",
      "source": [
        "#let the plot appear and store it with the notebook\n",
        "%matplotlib inline\n",
        "#setting the path to the directory containing the pics\n",
        "INPUT_DIR = '/content/drive/MyDrive/DatasetTesi/Vowel_E_REC'\n",
        "OUTPUT_DIR = '/content/drive/MyDrive/DatasetTesi/outputSpectrogram/'\n",
        "valid_formats = [\".wav\"]\n",
        "audio_data = []"
      ],
      "metadata": {
        "id": "zgSU5q2XItlp"
      },
      "execution_count": 31,
      "outputs": []
    },
    {
      "cell_type": "markdown",
      "source": [
        "Creo uno spettrogramma per ogni file audio"
      ],
      "metadata": {
        "id": "NvK0wQoUJGIx"
      }
    },
    {
      "cell_type": "code",
      "source": [
        "# For every recording, make a spectogram and save it as label_speaker_no.png\n",
        "if not os.path.exists(os.path.join(OUTPUT_DIR, 'audio-images')):\n",
        "    os.makedirs(os.path.join(OUTPUT_DIR, 'audio-images'))\n",
        "\n",
        "for folders in os.listdir(INPUT_DIR):\n",
        "  # select a subfolder\n",
        "  subfolder = os.path.join(INPUT_DIR,folders)\n",
        "  # select all the records in the subfolder\n",
        "  for filename in os.listdir(subfolder):\n",
        "    file_format = os.path.splitext(filename)[1] \n",
        "    if file_format.lower() in valid_formats:\n",
        "      data, sample_rate = librosa.load(os.path.join(subfolder,filename))\n",
        "      file_path = os.path.join(subfolder, filename)\n",
        "      file_stem = Path(subfolder).stem\n",
        "      target_dir = f'class_{file_stem}'\n",
        "\n",
        "      destination_dir = os.path.join(os.path.join(OUTPUT_DIR, 'audio-images'), target_dir)\n",
        "      #if not os.path.exists(imageName + '.png'): #if we don't want to subscribe data\n",
        "      if not os.path.exists(destination_dir):\n",
        "        os.mkdir(destination_dir)\n",
        "      # generate image name\n",
        "      file_stem = Path(file_path).stem\n",
        "      imageName = os.path.join(destination_dir, file_stem)\n",
        "\n",
        "      # Plot the signal\n",
        "      # plotSignal(data,sample_rate)\n",
        "      # Plot Spectrogram\n",
        "      spectrogramPlot(data,sample_rate)\n",
        "\n",
        "      # save the plot\n",
        "      pylab.savefig(f'{imageName}.png')\n",
        "      pylab.close()"
      ],
      "metadata": {
        "id": "Q88vv9ObJEVW"
      },
      "execution_count": 32,
      "outputs": []
    },
    {
      "cell_type": "markdown",
      "source": [
        "# MFCC"
      ],
      "metadata": {
        "id": "QkbbkFOeOcpC"
      }
    },
    {
      "cell_type": "code",
      "source": [
        "    # MFCC\n",
        "    n_mfcc = 13\n",
        "    n_mels = 40\n",
        "    n_fft = 512 \n",
        "    hop_length = 160\n",
        "    fmin = 0\n",
        "    fmax = None\n",
        "    mfcc_librosa = librosa.feature.mfcc(y=data, sr=sample_rate, n_fft=n_fft,\n",
        "                                    n_mfcc=n_mfcc, n_mels=n_mels,\n",
        "                                    hop_length=hop_length,\n",
        "                                    fmin=fmin, fmax=fmax, htk=False)\n",
        "    plt.figure(figsize=(14, 5))\n",
        "    sns.heatmap(mfcc_librosa, vmin=-400, vmax=150)"
      ],
      "metadata": {
        "id": "hqanU6k88XhY",
        "colab": {
          "base_uri": "https://localhost:8080/",
          "height": 347
        },
        "outputId": "4445ec82-6ff8-470c-8b21-f8fd753f7e49"
      },
      "execution_count": 33,
      "outputs": [
        {
          "output_type": "execute_result",
          "data": {
            "text/plain": [
              "<matplotlib.axes._subplots.AxesSubplot at 0x7f8a328aa590>"
            ]
          },
          "metadata": {},
          "execution_count": 33
        },
        {
          "output_type": "display_data",
          "data": {
            "text/plain": [
              "<Figure size 1008x360 with 2 Axes>"
            ],
            "image/png": "[encoded data removed]"
          },
          "metadata": {
            "needs_background": "light"
          }
        }
      ]
    },
    {
      "cell_type": "markdown",
      "source": [
        "# Periodogram"
      ],
      "metadata": {
        "id": "JrmKRENg8Gak"
      }
    },
    {
      "cell_type": "markdown",
      "source": [
        "# CNN"
      ],
      "metadata": {
        "id": "49TTNRQV8GvX"
      }
    },
    {
      "cell_type": "code",
      "source": [],
      "metadata": {
        "id": "hClwYoPQOlYd"
      },
      "execution_count": null,
      "outputs": []
    }
  ]
}