{
  "nbformat": 4,
  "nbformat_minor": 0,
  "metadata": {
    "colab": {
      "provenance": [],
      "mount_file_id": "1XG0anFtWtvn6TrZlJ40GF4Rd_q78PbRW",
      "authorship_tag": "ABX9TyNt4z5kJbZzU/BWFta8kCd/",
      "include_colab_link": true
    },
    "kernelspec": {
      "name": "python3",
      "display_name": "Python 3"
    },
    "language_info": {
      "name": "python"
    },
    "accelerator": "GPU",
    "gpuClass": "standard"
  },
  "cells": [
    {
      "cell_type": "markdown",
      "metadata": {
        "id": "view-in-github",
        "colab_type": "text"
      },
      "source": [
        "<a href=\"https://colab.research.google.com/github/pietrodileo/Python_for_MD_thesis/blob/main/ExtractFormantsParselmouth_Iterative.ipynb\" target=\"_parent\"><img src=\"https://colab.research.google.com/assets/colab-badge.svg\" alt=\"Open In Colab\"/></a>"
      ]
    },
    {
      "cell_type": "markdown",
      "source": [
        "#Install Parselmouth library to run praat scripts with python"
      ],
      "metadata": {
        "id": "11KaJueh-kf_"
      }
    },
    {
      "cell_type": "code",
      "execution_count": null,
      "metadata": {
        "id": "tzoYZRs9-cOW",
        "colab": {
          "base_uri": "https://localhost:8080/"
        },
        "outputId": "567ef3ae-d90c-4729-a472-16459674f89b"
      },
      "outputs": [
        {
          "output_type": "stream",
          "name": "stdout",
          "text": [
            "Looking in indexes: https://pypi.org/simple, https://us-python.pkg.dev/colab-wheels/public/simple/\n",
            "Collecting praat-parselmouth\n",
            "  Downloading praat_parselmouth-0.4.2-cp37-cp37m-manylinux_2_12_x86_64.manylinux2010_x86_64.whl (10.7 MB)\n",
            "\u001b[K     |████████████████████████████████| 10.7 MB 15.9 MB/s \n",
            "\u001b[?25hRequirement already satisfied: numpy>=1.7.0 in /usr/local/lib/python3.7/dist-packages (from praat-parselmouth) (1.21.6)\n",
            "Installing collected packages: praat-parselmouth\n",
            "Successfully installed praat-parselmouth-0.4.2\n"
          ]
        }
      ],
      "source": [
        "!pip install -U praat-parselmouth"
      ]
    },
    {
      "cell_type": "code",
      "source": [
        "from google.colab import drive\n",
        "drive.mount('/content/drive')"
      ],
      "metadata": {
        "colab": {
          "base_uri": "https://localhost:8080/"
        },
        "id": "RhyF5VDO5Xv-",
        "outputId": "0822eced-dc91-4c4b-d366-efb82a09ebc7"
      },
      "execution_count": null,
      "outputs": [
        {
          "output_type": "stream",
          "name": "stdout",
          "text": [
            "Drive already mounted at /content/drive; to attempt to forcibly remount, call drive.mount(\"/content/drive\", force_remount=True).\n"
          ]
        }
      ]
    },
    {
      "cell_type": "code",
      "source": [
        "import parselmouth \n",
        "from parselmouth import praat\n",
        "\n",
        "import glob\n",
        "import os.path\n",
        "import pandas as pd\n",
        "import numpy as np\n",
        "import matplotlib.pyplot as plt\n",
        "from sklearn.linear_model import LinearRegression\n",
        "from pathlib import Path\n"
      ],
      "metadata": {
        "id": "djob7dfI-tv8"
      },
      "execution_count": null,
      "outputs": []
    },
    {
      "cell_type": "markdown",
      "source": [
        "# Define local function"
      ],
      "metadata": {
        "id": "2kvnIZYZojnt"
      }
    },
    {
      "cell_type": "markdown",
      "source": [
        "Extract F0 from audio data"
      ],
      "metadata": {
        "id": "GCQAknwR-1Ns"
      }
    },
    {
      "cell_type": "code",
      "source": [
        "def f0Extract(snd):\n",
        "  f0min=75\n",
        "  f0max=300\n",
        "  pitch = praat.call(snd, \"To Pitch\", 0.0, f0min, f0max) #create a praat pitch object\n",
        "  f0 = pitch.selected_array['frequency']\n",
        "  f0times = pitch.xs()\n",
        "  pointProcess = praat.call(snd, \"To PointProcess (periodic, cc)\", f0min, f0max)\n",
        "  return f0, f0times, pointProcess "
      ],
      "metadata": {
        "id": "5I84VJFe-0fT"
      },
      "execution_count": null,
      "outputs": []
    },
    {
      "cell_type": "markdown",
      "source": [
        "Extract the formants"
      ],
      "metadata": {
        "id": "VhGD5ypWjn1V"
      }
    },
    {
      "cell_type": "code",
      "source": [
        "def formantExtraction(snd):\n",
        "  formNum = 5\n",
        "  formants = praat.call(snd, \"To Formant (burg)\", 0.0025, formNum, 5000, 0.025, 50)\n",
        "  numPoints = praat.call(pointProcess, \"Get number of points\")\n",
        "  # Assign formant values with times where they make sense (periodic instances)\n",
        "  f0_list = []\n",
        "  f1_list = []\n",
        "  f2_list = []\n",
        "  f3_list = []\n",
        "  f4_list = []\n",
        "  f5_list = []\n",
        "  times = []\n",
        "  # Extract 5 formants (F1,...,F5)\n",
        "  for point in range(0, numPoints):\n",
        "    point += 1\n",
        "    t = praat.call(pointProcess, \"Get time from index\", point)\n",
        "    times.append(t)\n",
        "    f1 = praat.call(formants, \"Get value at time\", 1, t, 'Hertz', 'Linear')\n",
        "    f2 = praat.call(formants, \"Get value at time\", 2, t, 'Hertz', 'Linear')\n",
        "    f3 = praat.call(formants, \"Get value at time\", 3, t, 'Hertz', 'Linear')\n",
        "    f4 = praat.call(formants, \"Get value at time\", 4, t, 'Hertz', 'Linear')\n",
        "    f5 = praat.call(formants, \"Get value at time\", 5, t, 'Hertz', 'Linear')\n",
        "    \n",
        "    f1_list.append(f1)\n",
        "    f2_list.append(f2)\n",
        "    f3_list.append(f3)\n",
        "    f4_list.append(f4)\n",
        "    f5_list.append(f5)\n",
        "\n",
        "  formants_all = []\n",
        "  # Create List of lists\n",
        "  formants_all.append(f1_list)\n",
        "  formants_all.append(f2_list)\n",
        "  formants_all.append(f3_list)\n",
        "  formants_all.append(f4_list)\n",
        "  formants_all.append(f5_list)\n",
        "\n",
        "  # Create formant dataframe\n",
        "  formdf = pd.DataFrame(formants_all)\n",
        "  # transpose of dataframe\n",
        "  formdf = formdf.transpose()\n",
        "  formdf.columns = ['F1','F2','F3','F4','F5']\n",
        "  return f1_list,f2_list,f3_list,f4_list,f5_list,times"
      ],
      "metadata": {
        "id": "QM6u2sDj_Bpn"
      },
      "execution_count": null,
      "outputs": []
    },
    {
      "cell_type": "markdown",
      "source": [
        "Extract Features "
      ],
      "metadata": {
        "id": "YOLCi0hfjCyA"
      }
    },
    {
      "cell_type": "code",
      "source": [
        "def FeatureExtraction(f_list,times,doPlot):\n",
        "  dataf = np.array(f_list)\n",
        "  xval = np.array(times).reshape(-1, 1)\n",
        "  featuresExtracted = []\n",
        "  if np.isnan(dataf).all():\n",
        "    featuresExtracted = np.empty((1,8,))\n",
        "    featuresExtracted[:] = np.nan\n",
        "    featuresDf = pd.DataFrame(featuresExtracted)\n",
        "  else:\n",
        "    if np.isnan(dataf).any():\n",
        "      dataf = np.nan_to_num(dataf,nan=np.nanmean(dataf))\n",
        "    media = np.nanmean(dataf)\n",
        "    stddev = np.nanstd(dataf)\n",
        "    perc95 = np.nanpercentile(dataf,95)\n",
        "    perc75 = np.nanpercentile(dataf,75)\n",
        "    perc25 = np.nanpercentile(dataf,25)\n",
        "    perc5 = np.nanpercentile(dataf,5)\n",
        "    rangePerc = perc95 - perc5\n",
        "    lm = LinearRegression()\n",
        "    lm.fit(xval, dataf)\n",
        "    intercept = lm.intercept_\n",
        "    slope = lm.coef_\n",
        "\n",
        "    if doPlot == 1:\n",
        "      print(lm.intercept_)\n",
        "      print(lm.coef_)\n",
        "      # Define the line\n",
        "      line = lm.predict(xval)\n",
        "      # Plot outputs\n",
        "      plt.scatter(xval, dataf, color=\"black\")\n",
        "      plt.plot(xval, line, color=\"blue\", linewidth=3)\n",
        "      plt.xticks(())\n",
        "      plt.yticks(())\n",
        "      plt.show()\n",
        "\n",
        "    # Create features vector\n",
        "    featuresExtracted.append(media)\n",
        "    featuresExtracted.append(stddev)\n",
        "    featuresExtracted.append(perc95)\n",
        "    featuresExtracted.append(perc75)\n",
        "    featuresExtracted.append(perc25)\n",
        "    featuresExtracted.append(perc5)\n",
        "    featuresExtracted.append(rangePerc)\n",
        "    featuresExtracted.append(int(slope[0]))\n",
        "\n",
        "    # Create formant dataframe\n",
        "    featuresDf = pd.DataFrame(featuresExtracted)\n",
        "    # transpose of dataframe\n",
        "    featuresDf = featuresDf.transpose()\n",
        "  featuresDf.columns = ['mean','std.dev','perc95','perc75','perc25','perc5','rangePerc','slopeLinFit']\n",
        "  return featuresDf"
      ],
      "metadata": {
        "id": "6fw8k0r1b_da"
      },
      "execution_count": null,
      "outputs": []
    },
    {
      "cell_type": "markdown",
      "source": [
        "Teager-Kaiser Energy Operator (compute instantaneous energy)"
      ],
      "metadata": {
        "id": "rq1WmEzWdoHr"
      }
    },
    {
      "cell_type": "code",
      "source": [
        "# Teager-Kaiser Energy Operator Calculation\n",
        "def TKEO_calc(data_list):\n",
        "  x = np.array(data_list)\n",
        "  l=0; p=0; q=1; s=-1;\n",
        "  N = len(x)\n",
        "  x_nleo = np.zeros(N)\n",
        "  iedges = abs(l) + abs(p) + abs(q) + abs(s)\n",
        "  n = np.arange(iedges + 1, (N - iedges - 1))\n",
        "  x_nleo[n] = x[n-l] * x[n-p] - x[n-q] * x[n-s]\n",
        "  return x_nleo"
      ],
      "metadata": {
        "id": "Y8XXsykSoxWy"
      },
      "execution_count": null,
      "outputs": []
    },
    {
      "cell_type": "markdown",
      "source": [
        "Create Dataframe"
      ],
      "metadata": {
        "id": "HTs-Dn7nsPaz"
      }
    },
    {
      "cell_type": "code",
      "source": [
        "# input = f1_list, x = times, task = 'F1'\n",
        "def DataframeOrganization(input, x, task, doPlot):\n",
        "  featuresDf = FeatureExtraction(input,x,doPlot)\n",
        "  names = featuresDf.columns\n",
        "  new_names = []\n",
        "  for i in range(0,len(names)):\n",
        "    new_names.append(task+'_'+ names[i])\n",
        "  featuresDf.columns = new_names\n",
        "  x_nleo = TKEO_calc(input)\n",
        "  featuresDfTKEO = FeatureExtraction(x_nleo,x,doPlot)\n",
        "  namesTKEO = featuresDf.columns\n",
        "  new_namesTKEO = []\n",
        "  for i in range(0,len(names)):\n",
        "    new_namesTKEO.append(task+'_'+'_TKEO_'+ names[i])\n",
        "  featuresDfTKEO.columns = new_namesTKEO\n",
        "  result = pd.concat([featuresDf, featuresDfTKEO], axis=1, join=\"inner\")\n",
        "  return result"
      ],
      "metadata": {
        "id": "AmAMLKv9r26y"
      },
      "execution_count": null,
      "outputs": []
    },
    {
      "cell_type": "markdown",
      "source": [
        "#Extract the following features from f0 and formants:\n",
        "\n",
        "\n",
        "1.   Mean\n",
        "2.   Std.Dev\n",
        "3.   Range 95th percentile - 5th percentile\n",
        "4.   95th percentile\n",
        "5.   75th percentile\n",
        "6.   25th percentile\n",
        "7.   5th percentile\n",
        "8.   Angular coefficient of linear regression \n",
        "9.   TKEO mean\n",
        "10.  TKEO std.dev\n",
        "11.  TKEO range 95th percentile - 5th percentile\n",
        "12.  TKEO 95th percentile\n",
        "13.  TKEO 75th percentile\n",
        "14.  TKEO 25th percentile\n",
        "15.  TKEO 5th percentile\n",
        "16.  TKEO Angular coefficient of linear regression \n",
        "\n"
      ],
      "metadata": {
        "id": "hxG9p1Hea_w2"
      }
    },
    {
      "cell_type": "code",
      "source": [
        "FinalResult = pd.DataFrame([])\n",
        "doPlot = 0\n",
        "# The pattern \"**\" means all subdirectories recursively,\n",
        "# with \"*.wav\" meaning all files with any name ending in \".wav\" -> glob(\"**/*.wav\")\n",
        "for wave_file in glob.glob(\"audio/*.wav\"):\n",
        "    print(\"Processing {}...\".format(wave_file))\n",
        "    # do stuff\n",
        "    snd = parselmouth.Sound(wave_file)\n",
        "    f0, f0times, pointProcess  = f0Extract(snd)\n",
        "    f1_list,f2_list,f3_list,f4_list,f5_list,times = formantExtraction(snd)\n",
        "    F0_results = DataframeOrganization(f0, f0times, 'F0', doPlot)\n",
        "    F1_results = DataframeOrganization(f1_list, times, 'F1', doPlot)\n",
        "    F2_results = DataframeOrganization(f2_list, times, 'F2', doPlot)\n",
        "    F3_results = DataframeOrganization(f3_list, times, 'F3', doPlot)\n",
        "    F4_results = DataframeOrganization(f4_list, times, 'F4', doPlot)\n",
        "    F5_results = DataframeOrganization(f5_list, times, 'F5', doPlot)\n",
        "    istance = wave_file.split('/')[1].split('.')[0]\n",
        "    nameDf = pd.DataFrame([istance],columns=['Name'])\n",
        "    Result = pd.concat([nameDf, F0_results, F1_results, F2_results, F3_results, F4_results, F5_results], axis=1, join=\"inner\")\n",
        "    FinalResult = pd.concat([FinalResult, Result]) "
      ],
      "metadata": {
        "colab": {
          "base_uri": "https://localhost:8080/"
        },
        "id": "ZjPajfsL5Hs-",
        "outputId": "74732a32-46d6-4af4-c505-2851ee2e2ab1"
      },
      "execution_count": null,
      "outputs": [
        {
          "output_type": "stream",
          "name": "stdout",
          "text": [
            "Processing audio/HC_TesiPDL_VowelE_0265_E1_FineCut_LowCut12kHz.wav...\n",
            "Processing audio/HC_TesiPDL_VowelE_0092_E_2_FineCut_LowCut12kHz.wav...\n",
            "Processing audio/HC_TesiPDL_VowelE_0043_E_3_FineCut_LowCut12kHz.wav...\n",
            "Processing audio/HC_TesiPDL_VowelE_0052_E_2_FineCut_LowCut12kHz.wav...\n",
            "Processing audio/HC_TesiPDL_VowelE_0044_E_2_FineCut_LowCut12kHz.wav...\n",
            "Processing audio/HC_TesiPDL_VowelE_0053_E_2_FineCut_LowCut12kHz.wav...\n",
            "Processing audio/HC_TesiPDL_VowelE_0049_E_2_FineCut_LowCut12kHz.wav...\n",
            "Processing audio/HC_TesiPDL_VowelE_0093_E_2_FineCut_LowCut12kHz.wav...\n",
            "Processing audio/HC_TesiPDL_VowelE_0048_E_2_FineCut_LowCut12kHz.wav...\n",
            "Processing audio/HC_TesiPDL_VowelE_0091_E_3_FineCut_LowCut12kHz.wav...\n",
            "Processing audio/HC_TesiPDL_VowelE_0094_E_2_FineCut_LowCut12kHz.wav...\n",
            "Processing audio/HC_TesiPDL_VowelE_0265_E_2_FineCut_LowCut12kHz.wav...\n",
            "Processing audio/HC_TesiPDL_VowelE_0045_E_3_FineCut_LowCut12kHz.wav...\n",
            "Processing audio/HC_TesiPDL_VowelE_0043_E_2_FineCut_LowCut12kHz.wav...\n",
            "Processing audio/HC_TesiPDL_VowelE_0050_E_2_FineCut_LowCut12kHz.wav...\n",
            "Processing audio/HC_TesiPDL_VowelE_0095_E_2_FineCut_LowCut12kHz.wav...\n",
            "Processing audio/HC_TesiPDL_VowelE_0091_E_2_FineCut_LowCut12kHz.wav...\n",
            "Processing audio/HC_TesiPDL_VowelE_0046_E_2_FineCut_LowCut12kHz.wav...\n",
            "Processing audio/HC_TesiPDL_VowelE_0051_E_2_FineCut_LowCut12kHz.wav...\n",
            "Processing audio/HC_TesiPDL_VowelE_0047_E_2_FineCut_LowCut12kHz.wav...\n",
            "Processing audio/HC_TesiPDL_VowelE_0045_E_2_FineCut_LowCut12kHz.wav...\n"
          ]
        }
      ]
    },
    {
      "cell_type": "markdown",
      "source": [
        "Save output"
      ],
      "metadata": {
        "id": "BGJt9r25F9YI"
      }
    },
    {
      "cell_type": "code",
      "source": [
        "Output = '/content/drive/MyDrive/TesiMagistrale/'\n",
        "outputName = Output+\"FinalResult_new2.xlsx\"\n",
        "FinalResult.to_excel(outputName, sheet_name='Sheet_name_1') "
      ],
      "metadata": {
        "id": "RLP5FNWjF8vK"
      },
      "execution_count": null,
      "outputs": []
    }
  ]
}